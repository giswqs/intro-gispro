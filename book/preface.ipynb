{
 "cells": [
  {
   "cell_type": "markdown",
   "id": "0",
   "metadata": {},
   "source": [
    "# Preface\n",
    "\n",
    "## Introduction\n",
    "\n",
    "## Who is This Book For?\n",
    "\n",
    "## What This Book Covers\n",
    "\n",
    "## To Get the Most Out of This Book\n",
    "\n",
    "## Conventions Used in This Book\n",
    "\n",
    "## Downloading the Code Examples\n",
    "\n",
    "## Video Tutorials\n",
    "\n",
    "## Get in Touch\n",
    "\n",
    "## Acknowledgments\n",
    "\n",
    "## About the Author"
   ]
  }
 ],
 "metadata": {
  "jupytext": {
   "cell_metadata_filter": "-all",
   "main_language": "python",
   "notebook_metadata_filter": "-all"
  }
 },
 "nbformat": 4,
 "nbformat_minor": 5
}
