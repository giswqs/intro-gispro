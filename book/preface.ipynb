{
 "cells": [
  {
   "cell_type": "markdown",
   "id": "0",
   "metadata": {},
   "source": [
    "# Preface\n",
    "\n",
    "## Introduction\n",
    "\n",
    "## Who This Book Is For\n",
    "\n",
    "## What This Book Covers\n",
    "\n",
    "## Getting the Most Out of This Book\n",
    "\n",
    "## Conventions Used in This Book"
   ]
  },
  {
   "cell_type": "code",
   "execution_count": null,
   "id": "1",
   "metadata": {},
   "outputs": [],
   "source": [
    "# This is an example of a code block\n",
    "import leafmap\n",
    "\n",
    "m = leafmap.Map()\n",
    "m.add_basemap(\"OpenTopoMap\")  # add a basemap to the map\n",
    "m"
   ]
  },
  {
   "cell_type": "markdown",
   "id": "2",
   "metadata": {},
   "source": [
    "```bash\n",
    "$ pip install leafmap\n",
    "$ python script.py\n",
    "```\n",
    "\n",
    "## Downloading the Code Examples\n",
    "\n",
    "  ```bash\n",
    "  $ git clone https://github.com/giswqs/intro-gispro.git\n",
    "  ```\n",
    "\n",
    "## Video Tutorials\n",
    "\n",
    "## Get in Touch\n",
    "\n",
    "## Acknowledgments\n",
    "\n",
    "## About the Author\n",
    "\n",
    "## Licensing and Copyright"
   ]
  }
 ],
 "metadata": {
  "jupytext": {
   "default_lexer": "python",
   "notebook_metadata_filter": "-all"
  }
 },
 "nbformat": 4,
 "nbformat_minor": 5
}
