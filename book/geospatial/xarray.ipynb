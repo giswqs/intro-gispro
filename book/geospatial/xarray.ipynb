{
 "cells": [
  {
   "cell_type": "markdown",
   "id": "0",
   "metadata": {},
   "source": [
    "# Multi-dimensional Data Analysis with Xarray\n",
    "\n",
    "## Introduction\n",
    "\n",
    "## Learning Objectives\n",
    "\n",
    "## Understanding Xarray's Data Model\n",
    "\n",
    "### Core Data Structures\n",
    "\n",
    "### Why This Structure Matters\n",
    "\n",
    "## Setting Up Your Environment\n",
    "\n",
    "### Installing Required Packages"
   ]
  },
  {
   "cell_type": "code",
   "execution_count": null,
   "id": "1",
   "metadata": {},
   "outputs": [],
   "source": [
    "%pip install xarray pooch pygis"
   ]
  },
  {
   "cell_type": "markdown",
   "id": "2",
   "metadata": {},
   "source": [
    "### Importing Libraries and Configuration"
   ]
  },
  {
   "cell_type": "code",
   "execution_count": null,
   "id": "3",
   "metadata": {},
   "outputs": [],
   "source": [
    "import matplotlib.pyplot as plt\n",
    "import numpy as np\n",
    "import xarray as xr\n",
    "\n",
    "# Configure Xarray for better display and performance\n",
    "xr.set_options(keep_attrs=True, display_expand_data=False)\n",
    "\n",
    "# Configure NumPy display for cleaner output\n",
    "np.set_printoptions(threshold=10, edgeitems=2)\n",
    "\n",
    "# Configure matplotlib for better plots\n",
    "plt.rcParams[\"figure.dpi\"] = 150"
   ]
  },
  {
   "cell_type": "markdown",
   "id": "4",
   "metadata": {},
   "source": [
    "## Loading and Exploring Real Climate Data\n",
    "\n",
    "### Loading Tutorial Data"
   ]
  },
  {
   "cell_type": "code",
   "execution_count": null,
   "id": "5",
   "metadata": {},
   "outputs": [],
   "source": [
    "# Load a climate dataset with air temperature measurements\n",
    "ds = xr.tutorial.open_dataset(\"air_temperature\")\n",
    "ds"
   ]
  },
  {
   "cell_type": "markdown",
   "id": "6",
   "metadata": {},
   "source": [
    "## Working with DataArrays\n",
    "\n",
    "### Accessing DataArrays from Datasets"
   ]
  },
  {
   "cell_type": "code",
   "execution_count": null,
   "id": "7",
   "metadata": {},
   "outputs": [],
   "source": [
    "# Extract the air temperature DataArray using dictionary notation\n",
    "temperature = ds[\"air\"]\n",
    "temperature"
   ]
  },
  {
   "cell_type": "code",
   "execution_count": null,
   "id": "8",
   "metadata": {},
   "outputs": [],
   "source": [
    "# Same result using attribute access\n",
    "temperature = ds.air\n",
    "temperature"
   ]
  },
  {
   "cell_type": "markdown",
   "id": "9",
   "metadata": {},
   "source": [
    "### Exploring DataArray Components"
   ]
  },
  {
   "cell_type": "code",
   "execution_count": null,
   "id": "10",
   "metadata": {},
   "outputs": [],
   "source": [
    "# Examine the actual data values (a NumPy array)\n",
    "print(\"Data shape:\", temperature.values.shape)\n",
    "print(\"Data type:\", temperature.values.dtype)\n",
    "print(\"First few values:\", temperature.values.flat[:5])"
   ]
  },
  {
   "cell_type": "code",
   "execution_count": null,
   "id": "11",
   "metadata": {},
   "outputs": [],
   "source": [
    "# Understand the dimension structure\n",
    "print(\"Dimensions:\", temperature.dims)\n",
    "print(\"Dimension sizes:\", temperature.sizes)"
   ]
  },
  {
   "cell_type": "code",
   "execution_count": null,
   "id": "12",
   "metadata": {},
   "outputs": [],
   "source": [
    "# Explore the coordinate information\n",
    "print(\"Coordinates:\")\n",
    "for name, coord in temperature.coords.items():\n",
    "    print(f\"  {name}: {coord.values[:3]}... (showing first 3 values)\")"
   ]
  },
  {
   "cell_type": "code",
   "execution_count": null,
   "id": "13",
   "metadata": {},
   "outputs": [],
   "source": [
    "# Examine metadata attributes\n",
    "print(\"Attributes:\")\n",
    "for key, value in temperature.attrs.items():\n",
    "    print(f\"  {key}: {value}\")"
   ]
  },
  {
   "cell_type": "markdown",
   "id": "14",
   "metadata": {},
   "source": [
    "## Intuitive Data Selection and Indexing\n",
    "\n",
    "### Label-Based Selection"
   ]
  },
  {
   "cell_type": "code",
   "execution_count": null,
   "id": "15",
   "metadata": {},
   "outputs": [],
   "source": [
    "# Select data for a specific date and location\n",
    "point_data = temperature.sel(time=\"2013-01-01\", lat=40.0, lon=260.0)\n",
    "point_data"
   ]
  },
  {
   "cell_type": "markdown",
   "id": "16",
   "metadata": {},
   "source": [
    "### Time Range Selection"
   ]
  },
  {
   "cell_type": "code",
   "execution_count": null,
   "id": "17",
   "metadata": {},
   "outputs": [],
   "source": [
    "# Select all data for January 2013\n",
    "january_data = temperature.sel(time=slice(\"2013-01-01\", \"2013-01-31\"))\n",
    "print(f\"January 2013 data shape: {january_data.shape}\")\n",
    "print(f\"Time range: {january_data.time.values[0]} to {january_data.time.values[-1]}\")"
   ]
  },
  {
   "cell_type": "markdown",
   "id": "18",
   "metadata": {},
   "source": [
    "### Nearest Neighbor Selection"
   ]
  },
  {
   "cell_type": "code",
   "execution_count": null,
   "id": "19",
   "metadata": {},
   "outputs": [],
   "source": [
    "# Select data nearest to a location that might not be exactly on the grid\n",
    "nearest_data = temperature.sel(lat=40.5, lon=255.7, method=\"nearest\")\n",
    "actual_coords = nearest_data.sel(time=\"2013-01-01\")\n",
    "print(f\"Requested: lat=40.5, lon=255.7\")\n",
    "print(f\"Actual: lat={actual_coords.lat.values}, lon={actual_coords.lon.values}\")"
   ]
  },
  {
   "cell_type": "markdown",
   "id": "20",
   "metadata": {},
   "source": [
    "## Performing Operations on Multi-Dimensional Data\n",
    "\n",
    "### Statistical Operations Across Dimensions"
   ]
  },
  {
   "cell_type": "code",
   "execution_count": null,
   "id": "21",
   "metadata": {},
   "outputs": [],
   "source": [
    "# Calculate the temporal mean (average temperature at each location)\n",
    "mean_temperature = temperature.mean(dim=\"time\")\n",
    "print(f\"Original data shape: {temperature.shape}\")\n",
    "print(f\"Time-averaged data shape: {mean_temperature.shape}\")\n",
    "print(\n",
    "    f\"Temperature range: {mean_temperature.min().values:.1f} to {mean_temperature.max().values:.1f} K\"\n",
    ")"
   ]
  },
  {
   "cell_type": "markdown",
   "id": "22",
   "metadata": {},
   "source": [
    "### Computing Anomalies"
   ]
  },
  {
   "cell_type": "code",
   "execution_count": null,
   "id": "23",
   "metadata": {},
   "outputs": [],
   "source": [
    "# Calculate temperature anomalies by subtracting the time mean from each time step\n",
    "anomalies = temperature - mean_temperature\n",
    "print(f\"Anomaly range: {anomalies.min().values:.1f} to {anomalies.max().values:.1f} K\")\n",
    "\n",
    "# Find the location and time of the largest positive anomaly\n",
    "max_anomaly = anomalies.max()\n",
    "max_location = anomalies.where(anomalies == max_anomaly, drop=True)\n",
    "print(f\"Largest positive anomaly: {max_anomaly.values:.1f} K\")"
   ]
  },
  {
   "cell_type": "markdown",
   "id": "24",
   "metadata": {},
   "source": [
    "### Spatial Statistics"
   ]
  },
  {
   "cell_type": "code",
   "execution_count": null,
   "id": "25",
   "metadata": {},
   "outputs": [],
   "source": [
    "# Calculate area-weighted spatial mean for each time step\n",
    "spatial_mean = temperature.mean(dim=[\"lat\", \"lon\"])\n",
    "print(f\"Spatial mean temperature time series shape: {spatial_mean.shape}\")\n",
    "\n",
    "# Find the warmest and coldest time periods\n",
    "warmest_date = spatial_mean.time[spatial_mean.argmax()]\n",
    "coldest_date = spatial_mean.time[spatial_mean.argmin()]\n",
    "print(f\"Warmest period: {warmest_date.values}\")\n",
    "print(f\"Coldest period: {coldest_date.values}\")"
   ]
  },
  {
   "cell_type": "markdown",
   "id": "26",
   "metadata": {},
   "source": [
    "## Data Visualization with Xarray\n",
    "\n",
    "### Plotting 2D Spatial Data"
   ]
  },
  {
   "cell_type": "code",
   "execution_count": null,
   "id": "27",
   "metadata": {},
   "outputs": [],
   "source": [
    "# Create a map of long-term average temperature\n",
    "fig, ax = plt.subplots(figsize=(12, 6))\n",
    "mean_temperature.plot(ax=ax, cmap=\"RdYlBu_r\", add_colorbar=True)\n",
    "plt.title(\"Long-term Average Air Temperature\", fontsize=14, fontweight=\"bold\")\n",
    "plt.xlabel(\"Longitude\")\n",
    "plt.ylabel(\"Latitude\")\n",
    "plt.tight_layout()\n",
    "plt.show()"
   ]
  },
  {
   "cell_type": "markdown",
   "id": "28",
   "metadata": {},
   "source": [
    "### Customizing Spatial Plots"
   ]
  },
  {
   "cell_type": "code",
   "execution_count": null,
   "id": "29",
   "metadata": {},
   "outputs": [],
   "source": [
    "# Create a more customized visualization\n",
    "fig, ax = plt.subplots(figsize=(12, 6))\n",
    "plot = mean_temperature.plot(\n",
    "    ax=ax,\n",
    "    cmap=\"RdYlBu_r\",\n",
    "    levels=20,  # Number of contour levels\n",
    "    add_colorbar=True,\n",
    "    cbar_kwargs={\"label\": \"Temperature (K)\", \"shrink\": 0.8, \"pad\": 0.02},\n",
    ")\n",
    "plt.title(\"Mean Air Temperature (2013)\", fontsize=16, fontweight=\"bold\")\n",
    "plt.xlabel(\"Longitude (°E)\", fontsize=12)\n",
    "plt.ylabel(\"Latitude (°N)\", fontsize=12)\n",
    "plt.grid(True, alpha=0.3)\n",
    "plt.tight_layout()\n",
    "plt.show()"
   ]
  },
  {
   "cell_type": "markdown",
   "id": "30",
   "metadata": {},
   "source": [
    "### Time Series Visualization"
   ]
  },
  {
   "cell_type": "code",
   "execution_count": null,
   "id": "31",
   "metadata": {},
   "outputs": [],
   "source": [
    "# Select and plot time series for a specific location\n",
    "location_ts = temperature.sel(lat=40.0, lon=260.0)\n",
    "\n",
    "fig, ax = plt.subplots(figsize=(12, 6))\n",
    "location_ts.plot(ax=ax, linewidth=1.5, color=\"darkblue\")\n",
    "plt.title(\"Temperature Time Series at 40°N, 260°E\", fontsize=14, fontweight=\"bold\")\n",
    "plt.xlabel(\"Time\")\n",
    "plt.ylabel(\"Temperature (K)\")\n",
    "plt.grid(True, alpha=0.3)\n",
    "plt.tight_layout()\n",
    "plt.show()"
   ]
  },
  {
   "cell_type": "markdown",
   "id": "32",
   "metadata": {},
   "source": [
    "## Working with Datasets: Multiple Variables\n",
    "\n",
    "### Exploring Dataset Structure"
   ]
  },
  {
   "cell_type": "code",
   "execution_count": null,
   "id": "33",
   "metadata": {},
   "outputs": [],
   "source": [
    "# Examine all variables in the dataset\n",
    "print(\"Data variables in the dataset:\")\n",
    "for var_name, var_info in ds.data_vars.items():\n",
    "    print(f\"  {var_name}: {var_info.dims}, shape {var_info.shape}\")\n",
    "\n",
    "print(f\"\\nShared coordinates: {list(ds.coords.keys())}\")\n",
    "print(f\"Global attributes: {len(ds.attrs)} metadata items\")"
   ]
  },
  {
   "cell_type": "markdown",
   "id": "34",
   "metadata": {},
   "source": [
    "### Dataset-Level Operations"
   ]
  },
  {
   "cell_type": "code",
   "execution_count": null,
   "id": "35",
   "metadata": {},
   "outputs": [],
   "source": [
    "# Calculate temporal statistics for all variables in the dataset\n",
    "dataset_means = ds.mean(dim=\"time\")\n",
    "dataset_means"
   ]
  },
  {
   "cell_type": "markdown",
   "id": "36",
   "metadata": {},
   "source": [
    "## The Power of Label-Based Operations\n",
    "\n",
    "### The NumPy Approach: Index-Based Selection"
   ]
  },
  {
   "cell_type": "code",
   "execution_count": null,
   "id": "37",
   "metadata": {},
   "outputs": [],
   "source": [
    "# Extract raw arrays and coordinates\n",
    "lat_values = ds.air.lat.values\n",
    "lon_values = ds.air.lon.values\n",
    "temp_values = ds.air.values\n",
    "\n",
    "print(f\"Data shape: {temp_values.shape}\")\n",
    "print(\"To plot the first time step, you need to remember:\")\n",
    "print(\"- Time is dimension 0\")\n",
    "print(\"- Latitude is dimension 1\")\n",
    "print(\"- Longitude is dimension 2\")"
   ]
  },
  {
   "cell_type": "code",
   "execution_count": null,
   "id": "38",
   "metadata": {},
   "outputs": [],
   "source": [
    "# Plot using NumPy approach - requires careful index management\n",
    "fig, ax = plt.subplots(figsize=(12, 6))\n",
    "im = ax.pcolormesh(lon_values, lat_values, temp_values[0, :, :], cmap=\"RdYlBu_r\")\n",
    "plt.colorbar(im, ax=ax, label=\"Temperature (K)\")\n",
    "plt.title(\"First Time Step (NumPy approach)\")\n",
    "plt.xlabel(\"Longitude\")\n",
    "plt.ylabel(\"Latitude\")\n",
    "plt.show()"
   ]
  },
  {
   "cell_type": "markdown",
   "id": "39",
   "metadata": {},
   "source": [
    "### The Xarray Approach: Label-Based Selection"
   ]
  },
  {
   "cell_type": "code",
   "execution_count": null,
   "id": "40",
   "metadata": {},
   "outputs": [],
   "source": [
    "# Same result with Xarray - much more readable and less error-prone\n",
    "ds.air.isel(time=0).plot(figsize=(12, 6), cmap=\"RdYlBu_r\")\n",
    "plt.title(\"First Time Step (Xarray approach)\")\n",
    "plt.show()"
   ]
  },
  {
   "cell_type": "code",
   "execution_count": null,
   "id": "41",
   "metadata": {},
   "outputs": [],
   "source": [
    "# Select by actual date rather than array index\n",
    "ds.air.sel(time=\"2013-01-01T00:00:00\").plot(figsize=(12, 6), cmap=\"RdYlBu_r\")\n",
    "plt.title(\"Temperature on January 1, 2013\")\n",
    "plt.show()"
   ]
  },
  {
   "cell_type": "markdown",
   "id": "42",
   "metadata": {},
   "source": [
    "## Advanced Indexing Techniques\n",
    "\n",
    "### Position-Based vs. Label-Based Indexing"
   ]
  },
  {
   "cell_type": "code",
   "execution_count": null,
   "id": "43",
   "metadata": {},
   "outputs": [],
   "source": [
    "# Position-based indexing using isel() - useful for systematic sampling\n",
    "first_last_times = ds.air.isel(time=[0, -1])  # First and last time steps\n",
    "print(f\"Selected time steps: {first_last_times.time.values}\")\n",
    "\n",
    "# Label-based indexing using sel() - useful for specific values\n",
    "specific_months = ds.air.sel(time=slice(\"2013-05\", \"2013-07\"))\n",
    "print(f\"May-July 2013 contains {len(specific_months.time)} time steps\")"
   ]
  },
  {
   "cell_type": "markdown",
   "id": "44",
   "metadata": {},
   "source": [
    "### Boolean Indexing and Conditional Selection"
   ]
  },
  {
   "cell_type": "code",
   "execution_count": null,
   "id": "45",
   "metadata": {},
   "outputs": [],
   "source": [
    "# Find locations where average temperature exceeds a threshold\n",
    "warm_locations = mean_temperature.where(mean_temperature > 280)  # 280 K ≈ 7°C\n",
    "warm_count = warm_locations.count()\n",
    "print(f\"Number of grid points with mean temperature > 280 K: {warm_count.values}\")\n",
    "\n",
    "# Find time periods when spatial average temperature was unusually high\n",
    "temp_threshold = spatial_mean.quantile(0.9)  # 90th percentile\n",
    "warm_periods = spatial_mean.where(spatial_mean > temp_threshold, drop=True)\n",
    "print(f\"Number of exceptionally warm time periods: {len(warm_periods)}\")"
   ]
  },
  {
   "cell_type": "markdown",
   "id": "46",
   "metadata": {},
   "source": [
    "## High-Level Computational Operations\n",
    "\n",
    "### GroupBy Operations for Temporal Analysis"
   ]
  },
  {
   "cell_type": "code",
   "execution_count": null,
   "id": "47",
   "metadata": {},
   "outputs": [],
   "source": [
    "# Calculate seasonal climatology\n",
    "seasonal_means = ds.air.groupby(\"time.season\").mean()\n",
    "print(\"Seasonal temperature patterns:\")\n",
    "seasonal_means"
   ]
  },
  {
   "cell_type": "code",
   "execution_count": null,
   "id": "48",
   "metadata": {},
   "outputs": [],
   "source": [
    "# Visualize seasonal patterns\n",
    "fig, axes = plt.subplots(2, 2, figsize=(12, 6))\n",
    "seasons = [\"DJF\", \"MAM\", \"JJA\", \"SON\"]\n",
    "season_names = [\"Winter\", \"Spring\", \"Summer\", \"Fall\"]\n",
    "\n",
    "for i, (season, name) in enumerate(zip(seasons, season_names)):\n",
    "    ax = axes[i // 2, i % 2]\n",
    "    seasonal_means.sel(season=season).plot(ax=ax, cmap=\"RdYlBu_r\", add_colorbar=False)\n",
    "    ax.set_title(f\"{name} ({season})\")\n",
    "    ax.set_xlabel(\"Longitude\")\n",
    "    ax.set_ylabel(\"Latitude\")\n",
    "\n",
    "plt.tight_layout()\n",
    "plt.show()"
   ]
  },
  {
   "cell_type": "markdown",
   "id": "49",
   "metadata": {},
   "source": [
    "### Rolling Window Operations"
   ]
  },
  {
   "cell_type": "code",
   "execution_count": null,
   "id": "50",
   "metadata": {},
   "outputs": [],
   "source": [
    "# Create a smoothed time series using a rolling window\n",
    "location_data = temperature.sel(lat=40.0, lon=260.0)\n",
    "\n",
    "fig, ax = plt.subplots(figsize=(12, 6))\n",
    "\n",
    "# Plot original data\n",
    "location_data.plot(ax=ax, alpha=0.5, label=\"Original\", color=\"lightblue\")\n",
    "\n",
    "# Plot smoothed data using a 30-day rolling window\n",
    "smoothed_data = location_data.rolling(time=30, center=True).mean()\n",
    "smoothed_data.plot(ax=ax, label=\"30-day smoothed\", color=\"darkblue\", linewidth=2)\n",
    "\n",
    "plt.title(\"Temperature Time Series: Original vs Smoothed\")\n",
    "plt.xlabel(\"Time\")\n",
    "plt.ylabel(\"Temperature (K)\")\n",
    "plt.legend()\n",
    "plt.grid(True, alpha=0.3)\n",
    "plt.tight_layout()\n",
    "plt.show()"
   ]
  },
  {
   "cell_type": "markdown",
   "id": "51",
   "metadata": {},
   "source": [
    "### Weighted Operations"
   ]
  },
  {
   "cell_type": "code",
   "execution_count": null,
   "id": "52",
   "metadata": {},
   "outputs": [],
   "source": [
    "# Create simple area weights (this is a simplified example)\n",
    "# In practice, you would use proper latitude-based area weighting\n",
    "lat_weights = np.cos(np.radians(ds.air.lat))\n",
    "area_weighted_mean = ds.air.weighted(lat_weights).mean(dim=[\"lat\", \"lon\"])\n",
    "\n",
    "# Compare simple vs area-weighted spatial averages\n",
    "fig, ax = plt.subplots(figsize=(12, 6))\n",
    "spatial_mean.plot(ax=ax, label=\"Simple average\", alpha=0.7)\n",
    "area_weighted_mean.plot(ax=ax, label=\"Area-weighted average\", linewidth=2)\n",
    "plt.title(\"Spatial Temperature Averages: Simple vs Area-Weighted\")\n",
    "plt.xlabel(\"Time\")\n",
    "plt.ylabel(\"Temperature (K)\")\n",
    "plt.legend()\n",
    "plt.grid(True, alpha=0.3)\n",
    "plt.tight_layout()\n",
    "plt.show()"
   ]
  },
  {
   "cell_type": "markdown",
   "id": "53",
   "metadata": {},
   "source": [
    "## Data Input and Output\n",
    "\n",
    "### Understanding NetCDF Format\n",
    "\n",
    "### Writing Data to NetCDF"
   ]
  },
  {
   "cell_type": "code",
   "execution_count": null,
   "id": "54",
   "metadata": {},
   "outputs": [],
   "source": [
    "# Prepare data for saving (ensure proper data types)\n",
    "output_ds = ds.copy()\n",
    "output_ds[\"air\"] = output_ds[\"air\"].astype(\"float32\")  # Reduce file size\n",
    "\n",
    "# Add processing metadata\n",
    "output_ds.attrs[\"processing_date\"] = str(np.datetime64(\"now\"))\n",
    "output_ds.attrs[\"created_by\"] = \"GIS Pro\"\n",
    "\n",
    "# Save to NetCDF file\n",
    "output_ds.to_netcdf(\"processed_air_temperature.nc\")\n",
    "print(\"Dataset saved to processed_air_temperature.nc\")"
   ]
  },
  {
   "cell_type": "markdown",
   "id": "55",
   "metadata": {},
   "source": [
    "### Reading Data from NetCDF"
   ]
  },
  {
   "cell_type": "code",
   "execution_count": null,
   "id": "56",
   "metadata": {},
   "outputs": [],
   "source": [
    "# Load the saved dataset\n",
    "reloaded_ds = xr.open_dataset(\"processed_air_temperature.nc\")\n",
    "print(\"Successfully reloaded dataset:\")\n",
    "print(f\"Variables: {list(reloaded_ds.data_vars.keys())}\")\n",
    "print(f\"Processing date: {reloaded_ds.attrs.get('processing_date', 'Not specified')}\")\n",
    "print(f\"Data matches original: {reloaded_ds.air.equals(ds.air.astype('float32'))}\")"
   ]
  },
  {
   "cell_type": "markdown",
   "id": "57",
   "metadata": {},
   "source": [
    "## Key Takeaways\n",
    "\n",
    "## Further Reading\n",
    "\n",
    "## Exercises\n",
    "\n",
    "### Exercise 1: Exploring a New Dataset"
   ]
  },
  {
   "cell_type": "code",
   "execution_count": null,
   "id": "58",
   "metadata": {},
   "outputs": [],
   "source": []
  },
  {
   "cell_type": "markdown",
   "id": "59",
   "metadata": {},
   "source": [
    "### Exercise 2: Data Selection and Indexing"
   ]
  },
  {
   "cell_type": "code",
   "execution_count": null,
   "id": "60",
   "metadata": {},
   "outputs": [],
   "source": []
  },
  {
   "cell_type": "markdown",
   "id": "61",
   "metadata": {},
   "source": [
    "### Exercise 3: Performing Arithmetic Operations"
   ]
  },
  {
   "cell_type": "code",
   "execution_count": null,
   "id": "62",
   "metadata": {},
   "outputs": [],
   "source": []
  },
  {
   "cell_type": "markdown",
   "id": "63",
   "metadata": {},
   "source": [
    "### Exercise 4: GroupBy and Temporal Analysis"
   ]
  },
  {
   "cell_type": "code",
   "execution_count": null,
   "id": "64",
   "metadata": {},
   "outputs": [],
   "source": []
  },
  {
   "cell_type": "markdown",
   "id": "65",
   "metadata": {},
   "source": [
    "### Exercise 5: Data Storage and Retrieval"
   ]
  },
  {
   "cell_type": "code",
   "execution_count": null,
   "id": "66",
   "metadata": {},
   "outputs": [],
   "source": []
  }
 ],
 "metadata": {
  "jupytext": {
   "default_lexer": "ipython3"
  },
  "kernelspec": {
   "display_name": "Python 3",
   "language": "python",
   "name": "python3"
  }
 },
 "nbformat": 4,
 "nbformat_minor": 5
}
