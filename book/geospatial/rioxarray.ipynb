{
 "cells": [
  {
   "cell_type": "markdown",
   "id": "0",
   "metadata": {},
   "source": [
    "# Raster Analysis with Rioxarray\n",
    "\n",
    "## Introduction\n",
    "\n",
    "## Learning Objectives\n",
    "\n",
    "## Setting Up Your Rioxarray Environment\n",
    "\n",
    "### Installing Required Libraries"
   ]
  },
  {
   "cell_type": "code",
   "execution_count": null,
   "id": "1",
   "metadata": {},
   "outputs": [],
   "source": [
    "# %pip install rioxarray pygis"
   ]
  },
  {
   "cell_type": "markdown",
   "id": "2",
   "metadata": {},
   "source": [
    "### Importing Libraries and Configuration"
   ]
  },
  {
   "cell_type": "code",
   "execution_count": null,
   "id": "3",
   "metadata": {},
   "outputs": [],
   "source": [
    "import rioxarray\n",
    "import numpy as np\n",
    "import xarray as xr\n",
    "import matplotlib.pyplot as plt\n",
    "\n",
    "# Configure Xarray for better display\n",
    "xr.set_options(keep_attrs=True, display_expand_data=False)\n",
    "\n",
    "# Configure matplotlib for high-quality plots\n",
    "plt.rcParams[\"figure.dpi\"] = 150"
   ]
  },
  {
   "cell_type": "markdown",
   "id": "4",
   "metadata": {},
   "source": [
    "## Loading and Exploring Georeferenced Raster Data\n",
    "\n",
    "### Understanding Raster Data Structure\n",
    "\n",
    "### Loading a Real Satellite Image"
   ]
  },
  {
   "cell_type": "code",
   "execution_count": null,
   "id": "5",
   "metadata": {},
   "outputs": [],
   "source": [
    "# Load a Landsat satellite image covering Las Vegas area\n",
    "url = \"https://github.com/opengeos/datasets/releases/download/raster/LC09_039035_20240708_90m.tif\"\n",
    "data = rioxarray.open_rasterio(url)\n",
    "print(f\"Successfully loaded raster with shape: {data.shape}\")\n",
    "data"
   ]
  },
  {
   "cell_type": "markdown",
   "id": "6",
   "metadata": {},
   "source": [
    "### Exploring the Dataset Structure"
   ]
  },
  {
   "cell_type": "code",
   "execution_count": null,
   "id": "7",
   "metadata": {},
   "outputs": [],
   "source": [
    "# Examine the basic structure\n",
    "print(\"Dataset dimensions:\", data.dims)\n",
    "print(\"Dataset shape:\", data.shape)\n",
    "print(\"Data type:\", data.dtype)"
   ]
  },
  {
   "cell_type": "code",
   "execution_count": null,
   "id": "8",
   "metadata": {},
   "outputs": [],
   "source": [
    "# Explore the coordinate information\n",
    "print(\"Coordinates:\")\n",
    "for name, coord in data.coords.items():\n",
    "    print(f\"  {name}: {coord.values.min()} to {coord.values.max()}\")"
   ]
  },
  {
   "cell_type": "code",
   "execution_count": null,
   "id": "9",
   "metadata": {},
   "outputs": [],
   "source": [
    "# Check metadata attributes\n",
    "print(\"\\nKey attributes:\")\n",
    "for key, value in data.attrs.items():\n",
    "    if key in [\"long_name\", \"grid_mapping\", \"AREA_OR_POINT\"]:\n",
    "        print(f\"  {key}: {value}\")"
   ]
  },
  {
   "cell_type": "markdown",
   "id": "10",
   "metadata": {},
   "source": [
    "### Accessing Spatial Reference Information"
   ]
  },
  {
   "cell_type": "code",
   "execution_count": null,
   "id": "11",
   "metadata": {},
   "outputs": [],
   "source": [
    "# Check the coordinate reference system\n",
    "print(f\"Coordinate Reference System: {data.rio.crs}\")"
   ]
  },
  {
   "cell_type": "code",
   "execution_count": null,
   "id": "12",
   "metadata": {},
   "outputs": [],
   "source": [
    "# Examine the affine transformation\n",
    "print(\"\\nAffine transformation:\")\n",
    "transform = data.rio.transform()\n",
    "print(transform)\n",
    "print(f\"Pixel size: {abs(transform[0]):.1f} x {abs(transform[4]):.1f} meters\")"
   ]
  },
  {
   "cell_type": "markdown",
   "id": "13",
   "metadata": {},
   "source": [
    "### Setting CRS When Missing"
   ]
  },
  {
   "cell_type": "code",
   "execution_count": null,
   "id": "14",
   "metadata": {},
   "outputs": [],
   "source": [
    "# Example: Set CRS if missing or incorrect (only run if needed)\n",
    "# data = data.rio.write_crs(\"EPSG:32611\", inplace=True)\n",
    "print(f\"Current CRS is properly set: {data.rio.crs}\")"
   ]
  },
  {
   "cell_type": "markdown",
   "id": "15",
   "metadata": {},
   "source": [
    "## Fundamental Geospatial Operations\n",
    "\n",
    "### Coordinate System Transformations"
   ]
  },
  {
   "cell_type": "code",
   "execution_count": null,
   "id": "16",
   "metadata": {},
   "outputs": [],
   "source": [
    "# Reproject from UTM to Geographic coordinates (WGS84)\n",
    "print(f\"Original CRS: {data.rio.crs}\")\n",
    "data_geographic = data.rio.reproject(\"EPSG:4326\")\n",
    "print(f\"Reprojected CRS: {data_geographic.rio.crs}\")\n",
    "print(f\"New coordinate ranges:\")\n",
    "print(\n",
    "    f\"  Longitude: {data_geographic.x.min().values:.3f} to {data_geographic.x.max().values:.3f}\"\n",
    ")\n",
    "print(\n",
    "    f\"  Latitude: {data_geographic.y.min().values:.3f} to {data_geographic.y.max().values:.3f}\"\n",
    ")"
   ]
  },
  {
   "cell_type": "markdown",
   "id": "17",
   "metadata": {},
   "source": [
    "### Spatial Subsetting with Bounding Boxes"
   ]
  },
  {
   "cell_type": "code",
   "execution_count": null,
   "id": "18",
   "metadata": {},
   "outputs": [],
   "source": [
    "# Define a bounding box around central Las Vegas\n",
    "# (longitude_min, latitude_min, longitude_max, latitude_max)\n",
    "vegas_bbox = [-115.391, 35.982, -114.988, 36.425]\n",
    "\n",
    "print(\"Clipping raster to Las Vegas area...\")\n",
    "clipped_data = data_geographic.rio.clip_box(*vegas_bbox)\n",
    "print(f\"Original size: {data_geographic.shape}\")\n",
    "print(f\"Clipped size: {clipped_data.shape}\")"
   ]
  },
  {
   "cell_type": "markdown",
   "id": "19",
   "metadata": {},
   "source": [
    "### Vector-Based Clipping"
   ]
  },
  {
   "cell_type": "code",
   "execution_count": null,
   "id": "20",
   "metadata": {},
   "outputs": [],
   "source": [
    "import geopandas as gpd\n",
    "\n",
    "# Load a vector boundary for more precise clipping\n",
    "boundary_url = \"https://github.com/opengeos/datasets/releases/download/places/las_vegas_bounds_utm.geojson\"\n",
    "boundary = gpd.read_file(boundary_url)\n",
    "\n",
    "print(f\"Boundary CRS: {boundary.crs}\")\n",
    "print(f\"Raster CRS: {data.rio.crs}\")\n",
    "\n",
    "# Clip the raster using the vector boundary\n",
    "clipped_by_vector = data.rio.clip(boundary.geometry, boundary.crs)\n",
    "print(f\"Vector-clipped size: {clipped_by_vector.shape}\")"
   ]
  },
  {
   "cell_type": "markdown",
   "id": "21",
   "metadata": {},
   "source": [
    "## Working with Spatial Dimensions and Resolution\n",
    "\n",
    "### Understanding Spatial Resolution"
   ]
  },
  {
   "cell_type": "code",
   "execution_count": null,
   "id": "22",
   "metadata": {},
   "outputs": [],
   "source": [
    "# Calculate current spatial resolution\n",
    "transform = data.rio.transform()\n",
    "x_resolution = abs(transform[0])\n",
    "y_resolution = abs(transform[4])\n",
    "\n",
    "print(f\"Current spatial resolution:\")\n",
    "print(f\"  X (East-West): {x_resolution:.1f} meters\")\n",
    "print(f\"  Y (North-South): {y_resolution:.1f} meters\")\n",
    "\n",
    "# Calculate total area covered\n",
    "width_km = (data.x.max() - data.x.min()).values / 1000\n",
    "height_km = (data.y.max() - data.y.min()).values / 1000\n",
    "print(f\"\\nSpatial extent:\")\n",
    "print(f\"  Width: {width_km:.1f} km\")\n",
    "print(f\"  Height: {height_km:.1f} km\")"
   ]
  },
  {
   "cell_type": "markdown",
   "id": "23",
   "metadata": {},
   "source": [
    "### Resampling to Different Resolutions"
   ]
  },
  {
   "cell_type": "code",
   "execution_count": null,
   "id": "24",
   "metadata": {},
   "outputs": [],
   "source": [
    "# Resample to 1km resolution for regional analysis\n",
    "print(\"Resampling to 1km resolution...\")\n",
    "resampled_data = data.rio.reproject(\n",
    "    data.rio.crs, resolution=(1000, 1000)  # Keep the same CRS  # 1km x 1km pixels\n",
    ")\n",
    "\n",
    "print(f\"Original shape: {data.shape}\")\n",
    "print(f\"Resampled shape: {resampled_data.shape}\")\n",
    "\n",
    "# Calculate the reduction in data size\n",
    "original_pixels = np.prod(data.shape)\n",
    "resampled_pixels = np.prod(resampled_data.shape)\n",
    "reduction_factor = original_pixels / resampled_pixels\n",
    "print(f\"Data reduction factor: {reduction_factor:.1f}x\")"
   ]
  },
  {
   "cell_type": "markdown",
   "id": "25",
   "metadata": {},
   "source": [
    "### Spatial Subsetting by Coordinates"
   ]
  },
  {
   "cell_type": "code",
   "execution_count": null,
   "id": "26",
   "metadata": {},
   "outputs": [],
   "source": [
    "# Extract a subset using coordinate ranges (in geographic coordinates)\n",
    "lon_range = (-115.391, -114.988)\n",
    "lat_range = (35.982, 36.425)\n",
    "\n",
    "print(\"Selecting subset by coordinate ranges...\")\n",
    "subset = data_geographic.sel(\n",
    "    x=slice(*lon_range),\n",
    "    y=slice(lat_range[1], lat_range[0]),  # Note: y coordinates often decrease\n",
    ")\n",
    "\n",
    "print(f\"Subset shape: {subset.shape}\")\n",
    "print(f\"Longitude range: {subset.x.min().values:.3f} to {subset.x.max().values:.3f}\")\n",
    "print(f\"Latitude range: {subset.y.min().values:.3f} to {subset.y.max().values:.3f}\")"
   ]
  },
  {
   "cell_type": "markdown",
   "id": "27",
   "metadata": {},
   "source": [
    "## Visualizing Geospatial Raster Data\n",
    "\n",
    "### Creating True-Color Composite Images"
   ]
  },
  {
   "cell_type": "code",
   "execution_count": null,
   "id": "28",
   "metadata": {},
   "outputs": [],
   "source": [
    "# Create a true-color (RGB) composite using bands 4, 3, 2 (Red, Green, Blue)\n",
    "fig, ax = plt.subplots(figsize=(6, 6))\n",
    "\n",
    "# Select RGB bands and create composite\n",
    "rgb_bands = data_geographic.sel(band=[4, 3, 2])\n",
    "rgb_bands.plot.imshow(\n",
    "    ax=ax,\n",
    "    vmin=0,\n",
    "    vmax=0.3,  # Adjust based on data range\n",
    ")\n",
    "# ax.set_aspect('equal')\n",
    "plt.title(\n",
    "    \"Landsat True-Color Composite - Las Vegas Area\", fontsize=14, fontweight=\"bold\"\n",
    ")\n",
    "plt.xlabel(\"Longitude (°)\", fontsize=12)\n",
    "plt.ylabel(\"Latitude (°)\", fontsize=12)\n",
    "plt.tight_layout()\n",
    "plt.show()"
   ]
  },
  {
   "cell_type": "markdown",
   "id": "29",
   "metadata": {},
   "source": [
    "### Visualizing Individual Bands"
   ]
  },
  {
   "cell_type": "code",
   "execution_count": null,
   "id": "30",
   "metadata": {},
   "outputs": [],
   "source": [
    "# Plot a single band with proper spatial context\n",
    "fig, ax = plt.subplots(figsize=(8, 6))\n",
    "\n",
    "# Select near-infrared band (band 5) which is useful for vegetation analysis\n",
    "nir_band = data_geographic.sel(band=5)\n",
    "im = nir_band.plot.imshow(\n",
    "    ax=ax,\n",
    "    cmap=\"RdYlGn\",  # Red-Yellow-Green colormap\n",
    "    vmin=0,\n",
    "    vmax=0.5,\n",
    "    add_colorbar=True,\n",
    "    cbar_kwargs={\"label\": \"Near-Infrared Reflectance\", \"shrink\": 0.8},\n",
    ")\n",
    "\n",
    "plt.title(\"Near-Infrared Band - Vegetation Analysis\", fontsize=14, fontweight=\"bold\")\n",
    "plt.xlabel(\"Longitude (°)\", fontsize=12)\n",
    "plt.ylabel(\"Latitude (°)\", fontsize=12)\n",
    "plt.tight_layout()\n",
    "plt.show()"
   ]
  },
  {
   "cell_type": "markdown",
   "id": "31",
   "metadata": {},
   "source": [
    "### Overlaying Vector Data on Raster Images"
   ]
  },
  {
   "cell_type": "code",
   "execution_count": null,
   "id": "32",
   "metadata": {},
   "outputs": [],
   "source": [
    "# Create a visualization with vector overlay\n",
    "fig, ax = plt.subplots(figsize=(8, 6))\n",
    "\n",
    "# Plot raster as background (single band for clarity)\n",
    "data.attrs[\"long_name\"] = \"Surface Reflectance\"\n",
    "single_band = data.sel(band=4)  # Red band\n",
    "single_band.plot.imshow(\n",
    "    ax=ax,\n",
    "    vmin=0,\n",
    "    vmax=0.4,\n",
    "    cmap=\"gray\",\n",
    "    add_colorbar=True,\n",
    "    cbar_kwargs={\"label\": \"Red Band Reflectance\"},\n",
    ")\n",
    "\n",
    "# Overlay vector boundary\n",
    "if \"boundary\" in locals():\n",
    "    boundary.to_crs(data.rio.crs).boundary.plot(ax=ax, color=\"red\", linewidth=2)\n",
    "\n",
    "plt.title(\"Landsat Image with Administrative Boundary\", fontsize=14, fontweight=\"bold\")\n",
    "plt.xlabel(\"Easting (m)\", fontsize=12)\n",
    "plt.ylabel(\"Northing (m)\", fontsize=12)\n",
    "plt.tight_layout()\n",
    "plt.show()"
   ]
  },
  {
   "cell_type": "markdown",
   "id": "33",
   "metadata": {},
   "source": [
    "## Data Storage and File Management\n",
    "\n",
    "### Saving Processed Raster Data"
   ]
  },
  {
   "cell_type": "code",
   "execution_count": null,
   "id": "34",
   "metadata": {},
   "outputs": [],
   "source": [
    "# Save processed data as GeoTIFF (most common geospatial raster format)\n",
    "output_filename = \"las_vegas_landsat_processed.tif\"\n",
    "\n",
    "# Add metadata before saving\n",
    "clipped_data.attrs[\"processing_date\"] = str(np.datetime64(\"now\"))\n",
    "clipped_data.attrs[\"processed_by\"] = \"rioxarray tutorial\"\n",
    "clipped_data.attrs[\"description\"] = \"Landsat image clipped to Las Vegas area\"\n",
    "\n",
    "print(f\"Saving processed data to {output_filename}...\")\n",
    "clipped_data.rio.to_raster(output_filename)\n",
    "print(\"File saved successfully!\")\n",
    "\n",
    "# Verify the saved file\n",
    "saved_data = rioxarray.open_rasterio(output_filename)\n",
    "print(f\"Verified: Saved file has shape {saved_data.shape} and CRS {saved_data.rio.crs}\")"
   ]
  },
  {
   "cell_type": "code",
   "execution_count": null,
   "id": "35",
   "metadata": {},
   "outputs": [],
   "source": [
    "output_filename = \"las_vegas_landsat_processed_cog.tif\"\n",
    "clipped_data.rio.to_raster(output_filename, driver=\"COG\")"
   ]
  },
  {
   "cell_type": "markdown",
   "id": "36",
   "metadata": {},
   "source": [
    "### Managing NoData Values"
   ]
  },
  {
   "cell_type": "code",
   "execution_count": null,
   "id": "37",
   "metadata": {},
   "outputs": [],
   "source": [
    "# Check for existing NoData values\n",
    "print(\"Current NoData value:\", data.rio.nodata)\n",
    "\n",
    "# Set NoData value if needed\n",
    "data_with_nodata = data.rio.set_nodata(-9999)\n",
    "print(\"Updated NoData value:\", data_with_nodata.rio.nodata)"
   ]
  },
  {
   "cell_type": "code",
   "execution_count": null,
   "id": "38",
   "metadata": {},
   "outputs": [],
   "source": [
    "# Example: Mask out extreme values as NoData\n",
    "# This is useful for removing outliers or invalid measurements\n",
    "masked_data = data.where(data < 1.0, -9999)  # Mask very high reflectance values\n",
    "masked_data = masked_data.rio.set_nodata(-9999)\n",
    "print(f\"Applied masking: {np.sum(masked_data == -9999).values} pixels set to NoData\")"
   ]
  },
  {
   "cell_type": "markdown",
   "id": "39",
   "metadata": {},
   "source": [
    "## Coordinate System Comparisons"
   ]
  },
  {
   "cell_type": "code",
   "execution_count": null,
   "id": "40",
   "metadata": {},
   "outputs": [],
   "source": [
    "# Compare the same data in different coordinate systems\n",
    "print(\"Comparing coordinate systems...\")\n",
    "\n",
    "# Web Mercator (common for web mapping)\n",
    "mercator_data = data.rio.reproject(\"EPSG:3857\")\n",
    "print(f\"Web Mercator (EPSG:3857): {mercator_data.rio.crs}\")\n",
    "print(\n",
    "    f\"  Coordinate range: X: {mercator_data.x.min().values:.0f} to {mercator_data.x.max().values:.0f}\"\n",
    ")\n",
    "print(\n",
    "    f\"                    Y: {mercator_data.y.min().values:.0f} to {mercator_data.y.max().values:.0f}\"\n",
    ")\n",
    "\n",
    "# Geographic coordinates (WGS84)\n",
    "print(f\"\\nGeographic (EPSG:4326): {data_geographic.rio.crs}\")\n",
    "print(\n",
    "    f\"  Coordinate range: Lon: {data_geographic.x.min().values:.3f} to {data_geographic.x.max().values:.3f}\"\n",
    ")\n",
    "print(\n",
    "    f\"                    Lat: {data_geographic.y.min().values:.3f} to {data_geographic.y.max().values:.3f}\"\n",
    ")"
   ]
  },
  {
   "cell_type": "markdown",
   "id": "41",
   "metadata": {},
   "source": [
    "### Side-by-Side Coordinate System Visualization"
   ]
  },
  {
   "cell_type": "code",
   "execution_count": null,
   "id": "42",
   "metadata": {},
   "outputs": [],
   "source": [
    "# Create side-by-side comparison of different projections\n",
    "fig, (ax1, ax2) = plt.subplots(1, 2, figsize=(10, 5))\n",
    "\n",
    "# Plot in geographic coordinates\n",
    "data_geographic.sel(band=[4, 3, 2]).plot.imshow(ax=ax1, vmin=0, vmax=0.3)\n",
    "ax1.set_title(\"Geographic Coordinates (EPSG:4326)\")\n",
    "ax1.set_xlabel(\"Longitude (°)\")\n",
    "ax1.set_ylabel(\"Latitude (°)\")\n",
    "\n",
    "# Plot in Web Mercator\n",
    "mercator_data.sel(band=[4, 3, 2]).plot.imshow(ax=ax2, vmin=0, vmax=0.3)\n",
    "ax2.set_title(\"Web Mercator (EPSG:3857)\")\n",
    "ax2.set_xlabel(\"Easting (m)\")\n",
    "ax2.set_ylabel(\"Northing (m)\")\n",
    "\n",
    "plt.tight_layout()\n",
    "plt.show()"
   ]
  },
  {
   "cell_type": "markdown",
   "id": "43",
   "metadata": {},
   "source": [
    "## Introduction to Band Math\n",
    "\n",
    "### Computing Vegetation Indices"
   ]
  },
  {
   "cell_type": "code",
   "execution_count": null,
   "id": "44",
   "metadata": {},
   "outputs": [],
   "source": [
    "# Calculate NDVI using the standard formula: (NIR - Red) / (NIR + Red)\n",
    "print(\"Calculating NDVI...\")\n",
    "\n",
    "# Extract the required bands\n",
    "red_band = data_geographic.sel(band=4)  # Red band\n",
    "nir_band = data_geographic.sel(band=5)  # Near-infrared band\n",
    "\n",
    "# Calculate NDVI with proper handling of division by zero\n",
    "ndvi = (nir_band - red_band) / (nir_band + red_band)\n",
    "\n",
    "# Clip values to valid NDVI range and handle any invalid calculations\n",
    "ndvi = ndvi.clip(min=-1, max=1)\n",
    "ndvi = ndvi.where(np.isfinite(ndvi))  # Remove infinite values\n",
    "\n",
    "# Add descriptive metadata\n",
    "ndvi.attrs[\"long_name\"] = \"Normalized Difference Vegetation Index\"\n",
    "ndvi.attrs[\"valid_range\"] = \"[-1, 1]\"\n",
    "ndvi.attrs[\"description\"] = \"NDVI = (NIR - Red) / (NIR + Red)\"\n",
    "\n",
    "print(f\"NDVI statistics:\")\n",
    "print(f\"  Range: {ndvi.min().values:.3f} to {ndvi.max().values:.3f}\")\n",
    "print(f\"  Mean: {ndvi.mean().values:.3f}\")"
   ]
  },
  {
   "cell_type": "markdown",
   "id": "45",
   "metadata": {},
   "source": [
    "### Visualizing Vegetation Analysis"
   ]
  },
  {
   "cell_type": "code",
   "execution_count": null,
   "id": "46",
   "metadata": {},
   "outputs": [],
   "source": [
    "# Create a comprehensive NDVI visualization\n",
    "fig, (ax1, ax2) = plt.subplots(1, 2, figsize=(16, 6))\n",
    "\n",
    "# Plot raw NDVI\n",
    "ndvi.plot.imshow(\n",
    "    ax=ax1,\n",
    "    cmap=\"RdYlGn\",\n",
    "    vmin=-0.5,\n",
    "    vmax=0.8,\n",
    "    add_colorbar=True,\n",
    "    cbar_kwargs={\"label\": \"NDVI Value\"},\n",
    ")\n",
    "ax1.set_title(\"Raw NDVI Values\", fontsize=14, fontweight=\"bold\")\n",
    "ax1.set_xlabel(\"Longitude (°)\")\n",
    "ax1.set_ylabel(\"Latitude (°)\")\n",
    "\n",
    "# Plot vegetation areas only (NDVI > 0.2)\n",
    "vegetation_mask = ndvi.where(ndvi > 0.2)\n",
    "vegetation_mask.plot.imshow(\n",
    "    ax=ax2,\n",
    "    cmap=\"Greens\",\n",
    "    vmin=0.2,\n",
    "    vmax=0.6,\n",
    "    add_colorbar=True,\n",
    "    cbar_kwargs={\"label\": \"NDVI Value (Vegetation Only)\"},\n",
    ")\n",
    "ax2.set_title(\"Vegetation Areas (NDVI > 0.2)\", fontsize=14, fontweight=\"bold\")\n",
    "ax2.set_xlabel(\"Longitude (°)\")\n",
    "ax2.set_ylabel(\"Latitude (°)\")\n",
    "\n",
    "plt.tight_layout()\n",
    "plt.show()"
   ]
  },
  {
   "cell_type": "markdown",
   "id": "47",
   "metadata": {},
   "source": [
    "### Interpreting NDVI Results"
   ]
  },
  {
   "cell_type": "code",
   "execution_count": null,
   "id": "48",
   "metadata": {},
   "outputs": [],
   "source": [
    "# Analyze vegetation distribution\n",
    "total_pixels = ndvi.size\n",
    "vegetation_pixels = np.sum(ndvi > 0.2).values\n",
    "water_pixels = np.sum(ndvi < 0).values\n",
    "urban_pixels = np.sum((ndvi >= 0) & (ndvi <= 0.2)).values\n",
    "\n",
    "print(\"NDVI Analysis Results:\")\n",
    "print(f\"  Total pixels analyzed: {total_pixels:,}\")\n",
    "print(\n",
    "    f\"  Vegetation pixels (NDVI > 0.2): {vegetation_pixels:,} ({100*vegetation_pixels/total_pixels:.1f}%)\"\n",
    ")\n",
    "print(\n",
    "    f\"  Water pixels (NDVI < 0): {water_pixels:,} ({100*water_pixels/total_pixels:.1f}%)\"\n",
    ")\n",
    "print(\n",
    "    f\"  Urban/Bare soil (0 ≤ NDVI ≤ 0.2): {urban_pixels:,} ({100*urban_pixels/total_pixels:.1f}%)\"\n",
    ")"
   ]
  },
  {
   "cell_type": "markdown",
   "id": "49",
   "metadata": {},
   "source": [
    "## Key Takeaways\n",
    "\n",
    "## Exercises\n",
    "\n",
    "### Sample Dataset\n",
    "\n",
    "### Exercise 1: Load and Inspect a Raster Dataset"
   ]
  },
  {
   "cell_type": "code",
   "execution_count": null,
   "id": "50",
   "metadata": {},
   "outputs": [],
   "source": []
  },
  {
   "cell_type": "markdown",
   "id": "51",
   "metadata": {},
   "source": [
    "### Exercise 2: Coordinate System Transformation"
   ]
  },
  {
   "cell_type": "code",
   "execution_count": null,
   "id": "52",
   "metadata": {},
   "outputs": [],
   "source": []
  },
  {
   "cell_type": "markdown",
   "id": "53",
   "metadata": {},
   "source": [
    "### Exercise 3: Spatial Subsetting with Bounding Boxes"
   ]
  },
  {
   "cell_type": "code",
   "execution_count": null,
   "id": "54",
   "metadata": {},
   "outputs": [],
   "source": []
  },
  {
   "cell_type": "markdown",
   "id": "55",
   "metadata": {},
   "source": [
    "### Exercise 4: Vector-Based Masking"
   ]
  },
  {
   "cell_type": "code",
   "execution_count": null,
   "id": "56",
   "metadata": {},
   "outputs": [],
   "source": []
  },
  {
   "cell_type": "markdown",
   "id": "57",
   "metadata": {},
   "source": [
    "### Exercise 5: Resolution Analysis and Data Export"
   ]
  },
  {
   "cell_type": "code",
   "execution_count": null,
   "id": "58",
   "metadata": {},
   "outputs": [],
   "source": []
  }
 ],
 "metadata": {
  "jupytext": {
   "default_lexer": "ipython3"
  },
  "kernelspec": {
   "display_name": "Python 3",
   "language": "python",
   "name": "python"
  }
 },
 "nbformat": 4,
 "nbformat_minor": 5
}
