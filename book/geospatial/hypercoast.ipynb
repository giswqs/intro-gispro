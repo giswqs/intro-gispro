{
 "cells": [
  {
   "cell_type": "markdown",
   "id": "0",
   "metadata": {},
   "source": [
    "# Hyperspectral Data Visualization with HyperCoast\n",
    "\n",
    "## Introduction\n",
    "\n",
    "## Learning Objectives\n",
    "\n",
    "## Environment Setup"
   ]
  },
  {
   "cell_type": "code",
   "execution_count": null,
   "id": "1",
   "metadata": {},
   "outputs": [],
   "source": [
    "# %pip install hypercoast pygis"
   ]
  },
  {
   "cell_type": "code",
   "execution_count": null,
   "id": "2",
   "metadata": {},
   "outputs": [],
   "source": [
    "import hypercoast"
   ]
  },
  {
   "cell_type": "code",
   "execution_count": null,
   "id": "3",
   "metadata": {},
   "outputs": [],
   "source": [
    "hypercoast.nasa_earth_login()"
   ]
  },
  {
   "cell_type": "markdown",
   "id": "4",
   "metadata": {},
   "source": [
    "## Finding Hyperspectral Data\n",
    "\n",
    "### Programmatic Search"
   ]
  },
  {
   "cell_type": "code",
   "execution_count": null,
   "id": "5",
   "metadata": {},
   "outputs": [],
   "source": [
    "results, gdf = hypercoast.search_emit(\n",
    "    bbox=(-83, 25, -81, 28),\n",
    "    temporal=(\"2024-04-01\", \"2024-05-16\"),\n",
    "    count=10,  # use -1 to return all datasets\n",
    "    return_gdf=True,\n",
    ")"
   ]
  },
  {
   "cell_type": "code",
   "execution_count": null,
   "id": "6",
   "metadata": {},
   "outputs": [],
   "source": [
    "gdf.explore()"
   ]
  },
  {
   "cell_type": "code",
   "execution_count": null,
   "id": "7",
   "metadata": {},
   "outputs": [],
   "source": [
    "hypercoast.download_emit(results[:1], out_dir=\"data\")"
   ]
  },
  {
   "cell_type": "markdown",
   "id": "8",
   "metadata": {},
   "source": [
    "### Interactive Search"
   ]
  },
  {
   "cell_type": "code",
   "execution_count": null,
   "id": "9",
   "metadata": {},
   "outputs": [],
   "source": [
    "m = hypercoast.Map(center=[30.0262, -90.1345], zoom=8)\n",
    "m.search_emit()\n",
    "m"
   ]
  },
  {
   "cell_type": "code",
   "execution_count": null,
   "id": "10",
   "metadata": {},
   "outputs": [],
   "source": [
    "if hasattr(m, \"_NASA_DATA_GDF\"):\n",
    "    display(m._NASA_DATA_GDF.head())"
   ]
  },
  {
   "cell_type": "code",
   "execution_count": null,
   "id": "11",
   "metadata": {},
   "outputs": [],
   "source": [
    "hypercoast.download_emit(results[:1], out_dir=\"data\")"
   ]
  },
  {
   "cell_type": "markdown",
   "id": "12",
   "metadata": {},
   "source": [
    "## Downloading Hyperspectral Data"
   ]
  },
  {
   "cell_type": "code",
   "execution_count": null,
   "id": "13",
   "metadata": {},
   "outputs": [],
   "source": [
    "url = \"https://github.com/opengeos/datasets/releases/download/hypercoast/EMIT_L2A_RFL_001_20240404T161230_2409511_009.nc\"\n",
    "filepath = \"data/EMIT_L2A_RFL_001_20240404T161230_2409511_009.nc\"\n",
    "hypercoast.download_file(url, filepath, quiet=True)"
   ]
  },
  {
   "cell_type": "markdown",
   "id": "14",
   "metadata": {},
   "source": [
    "## Reading Hyperspectral Data"
   ]
  },
  {
   "cell_type": "code",
   "execution_count": null,
   "id": "15",
   "metadata": {},
   "outputs": [],
   "source": [
    "dataset = hypercoast.read_emit(filepath)\n",
    "dataset"
   ]
  },
  {
   "cell_type": "markdown",
   "id": "16",
   "metadata": {},
   "source": [
    "## Visualizing Hyperspectral Data"
   ]
  },
  {
   "cell_type": "code",
   "execution_count": null,
   "id": "17",
   "metadata": {},
   "outputs": [],
   "source": [
    "m = hypercoast.Map()\n",
    "m.add_basemap(\"SATELLITE\")\n",
    "m.add_emit(dataset, wavelengths=[1000, 600, 500], vmin=0, vmax=0.3, layer_name=\"EMIT\")\n",
    "m.add(\"spectral\")\n",
    "m"
   ]
  },
  {
   "cell_type": "markdown",
   "id": "18",
   "metadata": {},
   "source": [
    "## Creating Image Cubes"
   ]
  },
  {
   "cell_type": "code",
   "execution_count": null,
   "id": "19",
   "metadata": {},
   "outputs": [],
   "source": [
    "ds = dataset.sel(longitude=slice(-90.1482, -89.7321), latitude=slice(30.0225, 29.7451))"
   ]
  },
  {
   "cell_type": "code",
   "execution_count": null,
   "id": "20",
   "metadata": {},
   "outputs": [],
   "source": [
    "p = hypercoast.image_cube(\n",
    "    ds,\n",
    "    variable=\"reflectance\",\n",
    "    cmap=\"jet\",\n",
    "    clim=(0, 0.4),\n",
    "    rgb_wavelengths=[1000, 700, 500],\n",
    "    rgb_gamma=2,\n",
    "    title=\"EMIT Reflectance\",\n",
    ")\n",
    "p.show()"
   ]
  },
  {
   "cell_type": "markdown",
   "id": "21",
   "metadata": {},
   "source": [
    "## Interactive Slicing"
   ]
  },
  {
   "cell_type": "code",
   "execution_count": null,
   "id": "22",
   "metadata": {},
   "outputs": [],
   "source": [
    "ds = dataset.sel(longitude=slice(-90.05, -89.99), latitude=slice(30.00, 29.93))"
   ]
  },
  {
   "cell_type": "code",
   "execution_count": null,
   "id": "23",
   "metadata": {},
   "outputs": [],
   "source": [
    "p = hypercoast.image_cube(\n",
    "    ds,\n",
    "    variable=\"reflectance\",\n",
    "    cmap=\"jet\",\n",
    "    clim=(0, 0.5),\n",
    "    rgb_wavelengths=[1000, 700, 500],\n",
    "    rgb_gamma=2,\n",
    "    title=\"EMIT Reflectance\",\n",
    "    widget=\"plane\",\n",
    ")\n",
    "p.add_text(\"Band slicing\", position=\"upper_right\", font_size=14)\n",
    "p.show()"
   ]
  },
  {
   "cell_type": "markdown",
   "id": "24",
   "metadata": {},
   "source": [
    "## Interactive Thresholding"
   ]
  },
  {
   "cell_type": "code",
   "execution_count": null,
   "id": "25",
   "metadata": {},
   "outputs": [],
   "source": [
    "p = hypercoast.image_cube(\n",
    "    ds,\n",
    "    variable=\"reflectance\",\n",
    "    cmap=\"jet\",\n",
    "    clim=(0, 0.5),\n",
    "    rgb_wavelengths=[1000, 700, 500],\n",
    "    rgb_gamma=2,\n",
    "    title=\"EMIT Reflectance\",\n",
    "    widget=\"threshold\",\n",
    ")\n",
    "p.add_text(\"Thresholding\", position=\"upper_right\", font_size=14)\n",
    "p.show()"
   ]
  },
  {
   "cell_type": "markdown",
   "id": "26",
   "metadata": {},
   "source": [
    "## Key Takeaways\n",
    "\n",
    "## Exercises\n",
    "\n",
    "### Exercise 1: Data Discovery and Acquisition\n",
    "\n",
    "### Exercise 2: Spectral Profile Analysis\n",
    "\n",
    "### Exercise 3: Band Combination Exploration\n",
    "\n",
    "### Exercise 4: Interactive Visualization\n",
    "\n",
    "### Exercise 5: 3D Cube Analysis"
   ]
  }
 ],
 "metadata": {
  "jupytext": {
   "default_lexer": "ipython3"
  },
  "kernelspec": {
   "display_name": "Python 3",
   "language": "python",
   "name": "python3"
  }
 },
 "nbformat": 4,
 "nbformat_minor": 5
}
