{
 "cells": [
  {
   "cell_type": "markdown",
   "id": "fddd9fdf",
   "metadata": {},
   "source": [
    "# Hyperspectral Data Visualization with HyperCoast\n",
    "\n",
    "## Introduction\n",
    "\n",
    "## Learning Objectives\n",
    "\n",
    "## Environment Setup\n",
    "\n",
    "## Finding Hyperspectral Data\n",
    "\n",
    "## Downloading Hyperspectral Data\n",
    "\n",
    "## Reading Hyperspectral Data\n",
    "\n",
    "## Visualizing Hyperspectral Data\n",
    "\n",
    "## Creating Image Cubes\n",
    "\n",
    "## Interactive Slicing\n",
    "\n",
    "## Interactive Thresholding\n",
    "\n",
    "## Key Takeaways\n",
    "\n",
    "## Exercises"
   ]
  }
 ],
 "metadata": {
  "jupytext": {
   "cell_metadata_filter": "-all",
   "main_language": "python",
   "notebook_metadata_filter": "-all"
  }
 },
 "nbformat": 4,
 "nbformat_minor": 5
}
