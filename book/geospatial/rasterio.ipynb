{
 "cells": [
  {
   "cell_type": "markdown",
   "id": "0",
   "metadata": {},
   "source": [
    "# Working with Raster Data Using Rasterio\n",
    "\n",
    "## Introduction\n",
    "\n",
    "### What is Raster Data?\n",
    "\n",
    "### Why Use Rasterio?\n",
    "\n",
    "## Learning Objectives\n",
    "\n",
    "## Installing Rasterio"
   ]
  },
  {
   "cell_type": "code",
   "execution_count": null,
   "id": "1",
   "metadata": {},
   "outputs": [],
   "source": [
    "# %pip install rasterio pygis"
   ]
  },
  {
   "cell_type": "code",
   "execution_count": null,
   "id": "2",
   "metadata": {},
   "outputs": [],
   "source": [
    "import rasterio\n",
    "import rasterio.plot\n",
    "import geopandas as gpd\n",
    "import numpy as np\n",
    "import matplotlib.pyplot as plt"
   ]
  },
  {
   "cell_type": "markdown",
   "id": "3",
   "metadata": {},
   "source": [
    "## Reading Raster Data\n",
    "\n",
    "### Opening Raster Files"
   ]
  },
  {
   "cell_type": "code",
   "execution_count": null,
   "id": "4",
   "metadata": {},
   "outputs": [],
   "source": [
    "raster_path = (\n",
    "    \"https://github.com/opengeos/datasets/releases/download/raster/dem_90m.tif\"\n",
    ")\n",
    "src = rasterio.open(raster_path)\n",
    "print(src)"
   ]
  },
  {
   "cell_type": "markdown",
   "id": "5",
   "metadata": {},
   "source": [
    "### Understanding Raster Metadata\n",
    "\n",
    "#### Basic File Information"
   ]
  },
  {
   "cell_type": "code",
   "execution_count": null,
   "id": "6",
   "metadata": {},
   "outputs": [],
   "source": [
    "print(f\"File name: {src.name}\")\n",
    "print(f\"File mode: {src.mode}\")"
   ]
  },
  {
   "cell_type": "code",
   "execution_count": null,
   "id": "7",
   "metadata": {},
   "outputs": [],
   "source": [
    "print(\"Raster metadata:\")\n",
    "for key, value in src.meta.items():\n",
    "    print(f\"{key}: {value}\")"
   ]
  },
  {
   "cell_type": "markdown",
   "id": "8",
   "metadata": {},
   "source": [
    "#### Spatial Properties"
   ]
  },
  {
   "cell_type": "code",
   "execution_count": null,
   "id": "9",
   "metadata": {},
   "outputs": [],
   "source": [
    "print(f\"Coordinate Reference System: {src.crs}\")"
   ]
  },
  {
   "cell_type": "code",
   "execution_count": null,
   "id": "10",
   "metadata": {},
   "outputs": [],
   "source": [
    "print(f\"Pixel size (x, y): {src.res}\")"
   ]
  },
  {
   "cell_type": "code",
   "execution_count": null,
   "id": "11",
   "metadata": {},
   "outputs": [],
   "source": [
    "print(f\"Raster dimensions: {src.width} x {src.height} pixels\")"
   ]
  },
  {
   "cell_type": "code",
   "execution_count": null,
   "id": "12",
   "metadata": {},
   "outputs": [],
   "source": [
    "print(f\"Geographic bounds: {src.bounds}\")"
   ]
  },
  {
   "cell_type": "markdown",
   "id": "13",
   "metadata": {},
   "source": [
    "#### Data Properties"
   ]
  },
  {
   "cell_type": "code",
   "execution_count": null,
   "id": "14",
   "metadata": {},
   "outputs": [],
   "source": [
    "print(f\"Data types: {src.dtypes}\")"
   ]
  },
  {
   "cell_type": "code",
   "execution_count": null,
   "id": "15",
   "metadata": {},
   "outputs": [],
   "source": [
    "print(f\"Number of bands: {src.count}\")"
   ]
  },
  {
   "cell_type": "markdown",
   "id": "16",
   "metadata": {},
   "source": [
    "### The Affine Transform"
   ]
  },
  {
   "cell_type": "code",
   "execution_count": null,
   "id": "17",
   "metadata": {},
   "outputs": [],
   "source": [
    "print(\"Affine transform:\")\n",
    "print(src.transform)"
   ]
  },
  {
   "cell_type": "markdown",
   "id": "18",
   "metadata": {},
   "source": [
    "## Visualizing Raster Data\n",
    "\n",
    "### Basic Raster Visualization"
   ]
  },
  {
   "cell_type": "code",
   "execution_count": null,
   "id": "19",
   "metadata": {},
   "outputs": [],
   "source": [
    "rasterio.plot.show(src)"
   ]
  },
  {
   "cell_type": "markdown",
   "id": "20",
   "metadata": {},
   "source": [
    "### Understanding Color Maps"
   ]
  },
  {
   "cell_type": "code",
   "execution_count": null,
   "id": "21",
   "metadata": {},
   "outputs": [],
   "source": [
    "fig, ax = plt.subplots(figsize=(8, 8))\n",
    "rasterio.plot.show(src, cmap=\"terrain\", ax=ax, title=\"Digital Elevation Model (DEM)\")\n",
    "plt.show()"
   ]
  },
  {
   "cell_type": "markdown",
   "id": "22",
   "metadata": {},
   "source": [
    "### Adding Colorbars"
   ]
  },
  {
   "cell_type": "code",
   "execution_count": null,
   "id": "23",
   "metadata": {},
   "outputs": [],
   "source": [
    "elev_band = src.read(1)\n",
    "plt.figure(figsize=(8, 8))\n",
    "plt.imshow(elev_band, cmap=\"terrain\")\n",
    "plt.colorbar(label=\"Elevation (meters)\", shrink=0.5)\n",
    "plt.title(\"DEM with Terrain Colormap\")\n",
    "plt.show()"
   ]
  },
  {
   "cell_type": "markdown",
   "id": "24",
   "metadata": {},
   "source": [
    "### Visualizing Multiple Bands"
   ]
  },
  {
   "cell_type": "code",
   "execution_count": null,
   "id": "25",
   "metadata": {},
   "outputs": [],
   "source": [
    "raster_path = \"https://github.com/opengeos/datasets/releases/download/raster/LC09_039035_20240708_90m.tif\"\n",
    "src = rasterio.open(raster_path)"
   ]
  },
  {
   "cell_type": "markdown",
   "id": "26",
   "metadata": {},
   "source": [
    "#### Single Band Visualization"
   ]
  },
  {
   "cell_type": "code",
   "execution_count": null,
   "id": "27",
   "metadata": {},
   "outputs": [],
   "source": [
    "rasterio.plot.show((src, 1), cmap=\"gray\", title=\"Band 1\")"
   ]
  },
  {
   "cell_type": "markdown",
   "id": "28",
   "metadata": {},
   "source": [
    "#### RGB Composite"
   ]
  },
  {
   "cell_type": "code",
   "execution_count": null,
   "id": "29",
   "metadata": {},
   "outputs": [],
   "source": [
    "nir_band = src.read(5)\n",
    "red_band = src.read(4)\n",
    "green_band = src.read(3)\n",
    "\n",
    "# Stack the bands into a single array\n",
    "rgb = np.dstack((nir_band, red_band, green_band)).clip(0, 1)\n",
    "\n",
    "# Plot the stacked array\n",
    "plt.figure(figsize=(8, 8))\n",
    "plt.imshow(rgb)\n",
    "plt.title(\"Bands NIR, Red, and Green combined\")\n",
    "plt.show()"
   ]
  },
  {
   "cell_type": "markdown",
   "id": "30",
   "metadata": {},
   "source": [
    "#### Creating a Multi-Panel Plot"
   ]
  },
  {
   "cell_type": "code",
   "execution_count": null,
   "id": "31",
   "metadata": {},
   "outputs": [],
   "source": [
    "band_names = [\"Coastal Aerosol\", \"Blue\", \"Green\", \"Red\", \"NIR\", \"SWIR1\", \"SWIR2\"]\n",
    "\n",
    "fig, axes = plt.subplots(nrows=3, ncols=2, figsize=(8, 10))\n",
    "axes = axes.flatten()  # Flatten the 2D array of axes to 1D for easy iteration\n",
    "\n",
    "for band in range(1, src.count):\n",
    "    data = src.read(band)\n",
    "    ax = axes[band - 1]\n",
    "    im = ax.imshow(data, cmap=\"gray\", vmin=0, vmax=0.5)\n",
    "    ax.set_title(f\"Band {band_names[band - 1]}\")\n",
    "    fig.colorbar(im, ax=ax, label=\"Reflectance\", shrink=0.5)\n",
    "\n",
    "plt.tight_layout()\n",
    "plt.show()"
   ]
  },
  {
   "cell_type": "markdown",
   "id": "32",
   "metadata": {},
   "source": [
    "### Overlaying Vector Data"
   ]
  },
  {
   "cell_type": "code",
   "execution_count": null,
   "id": "33",
   "metadata": {},
   "outputs": [],
   "source": [
    "# Load raster data\n",
    "raster_path = (\n",
    "    \"https://github.com/opengeos/datasets/releases/download/raster/dem_90m.tif\"\n",
    ")\n",
    "src = rasterio.open(raster_path)\n",
    "\n",
    "# Load vector data\n",
    "vector_path = (\n",
    "    \"https://github.com/opengeos/datasets/releases/download/places/dem_bounds.geojson\"\n",
    ")\n",
    "gdf = gpd.read_file(vector_path)\n",
    "gdf = gdf.to_crs(src.crs)  # Ensure same CRS as raster\n",
    "\n",
    "# Create the plot\n",
    "fig, ax = plt.subplots(figsize=(8, 8))\n",
    "rasterio.plot.show(src, cmap=\"terrain\", ax=ax, title=\"DEM with Vector Overlay\")\n",
    "gdf.plot(ax=ax, edgecolor=\"red\", facecolor=\"none\", linewidth=2)\n",
    "plt.show()"
   ]
  },
  {
   "cell_type": "markdown",
   "id": "34",
   "metadata": {},
   "source": [
    "## Accessing and Manipulating Raster Bands\n",
    "\n",
    "### Stacking Multiple Bands"
   ]
  },
  {
   "cell_type": "code",
   "execution_count": null,
   "id": "35",
   "metadata": {},
   "outputs": [],
   "source": [
    "raster_path = \"https://github.com/opengeos/datasets/releases/download/raster/LC09_039035_20240708_90m.tif\"\n",
    "src = rasterio.open(raster_path)"
   ]
  },
  {
   "cell_type": "code",
   "execution_count": null,
   "id": "36",
   "metadata": {},
   "outputs": [],
   "source": [
    "nir_band = src.read(5)\n",
    "red_band = src.read(4)\n",
    "green_band = src.read(3)\n",
    "\n",
    "# Stack the bands into a single array\n",
    "rgb = np.dstack((nir_band, red_band, green_band)).clip(0, 1)\n",
    "\n",
    "print(rgb.shape)"
   ]
  },
  {
   "cell_type": "markdown",
   "id": "37",
   "metadata": {},
   "source": [
    "### Basic Band Math (NDVI Calculation)"
   ]
  },
  {
   "cell_type": "code",
   "execution_count": null,
   "id": "38",
   "metadata": {},
   "outputs": [],
   "source": [
    "# NDVI Calculation: NDVI = (NIR - Red) / (NIR + Red)\n",
    "ndvi = (nir_band - red_band) / (nir_band + red_band)\n",
    "ndvi = ndvi.clip(-1, 1)\n",
    "\n",
    "plt.figure(figsize=(8, 8))\n",
    "plt.imshow(ndvi, cmap=\"RdYlGn\", vmin=-1, vmax=1)\n",
    "plt.colorbar(label=\"NDVI\", shrink=0.75)\n",
    "plt.title(\"NDVI\")\n",
    "plt.xlabel(\"Column #\")\n",
    "plt.ylabel(\"Row #\")\n",
    "plt.show()"
   ]
  },
  {
   "cell_type": "markdown",
   "id": "39",
   "metadata": {},
   "source": [
    "## Writing Raster Data"
   ]
  },
  {
   "cell_type": "code",
   "execution_count": null,
   "id": "40",
   "metadata": {},
   "outputs": [],
   "source": [
    "with rasterio.open(raster_path) as src:\n",
    "    profile = src.profile\n",
    "print(profile)"
   ]
  },
  {
   "cell_type": "code",
   "execution_count": null,
   "id": "41",
   "metadata": {},
   "outputs": [],
   "source": [
    "profile.update(dtype=rasterio.float32, count=1, compress=\"lzw\")\n",
    "print(profile)"
   ]
  },
  {
   "cell_type": "code",
   "execution_count": null,
   "id": "42",
   "metadata": {},
   "outputs": [],
   "source": [
    "output_raster_path = \"ndvi.tif\"\n",
    "\n",
    "with rasterio.open(output_raster_path, \"w\", **profile) as dst:\n",
    "    dst.write(ndvi, 1)\n",
    "print(f\"Raster data has been written to {output_raster_path}\")"
   ]
  },
  {
   "cell_type": "markdown",
   "id": "43",
   "metadata": {},
   "source": [
    "## Clipping Raster Data\n",
    "\n",
    "### Clipping with a Bounding Box"
   ]
  },
  {
   "cell_type": "code",
   "execution_count": null,
   "id": "44",
   "metadata": {},
   "outputs": [],
   "source": [
    "raster_path = \"https://github.com/opengeos/datasets/releases/download/raster/LC09_039035_20240708_90m.tif\"\n",
    "src = rasterio.open(raster_path)\n",
    "data = src.read()"
   ]
  },
  {
   "cell_type": "code",
   "execution_count": null,
   "id": "45",
   "metadata": {},
   "outputs": [],
   "source": [
    "data.shape"
   ]
  },
  {
   "cell_type": "code",
   "execution_count": null,
   "id": "46",
   "metadata": {},
   "outputs": [],
   "source": [
    "subset = data[:, 900:1400, 700:1200].clip(0, 1)\n",
    "rgb_subset = np.dstack((subset[4], subset[3], subset[2]))\n",
    "rgb_subset.shape"
   ]
  },
  {
   "cell_type": "code",
   "execution_count": null,
   "id": "47",
   "metadata": {},
   "outputs": [],
   "source": [
    "# Plot the stacked array\n",
    "plt.figure(figsize=(8, 8))\n",
    "plt.imshow(rgb_subset)\n",
    "plt.title(\"Las Vegas, NV\")\n",
    "plt.show()"
   ]
  },
  {
   "cell_type": "code",
   "execution_count": null,
   "id": "48",
   "metadata": {},
   "outputs": [],
   "source": [
    "from rasterio.windows import Window\n",
    "from rasterio.transform import from_bounds\n",
    "\n",
    "# Assuming subset and src are already defined\n",
    "# Define the window of the subset (replace with actual window coordinates)\n",
    "window = Window(col_off=700, row_off=900, width=500, height=500)\n",
    "\n",
    "# Calculate the bounds of the window\n",
    "window_bounds = rasterio.windows.bounds(window, src.transform)\n",
    "\n",
    "# Calculate the new transform based on the window bounds\n",
    "new_transform = from_bounds(*window_bounds, window.width, window.height)"
   ]
  },
  {
   "cell_type": "code",
   "execution_count": null,
   "id": "49",
   "metadata": {},
   "outputs": [],
   "source": [
    "with rasterio.open(\n",
    "    \"las_vegas.tif\",\n",
    "    \"w\",\n",
    "    driver=\"GTiff\",\n",
    "    height=subset.shape[1],\n",
    "    width=subset.shape[2],\n",
    "    count=subset.shape[0],\n",
    "    dtype=subset.dtype,\n",
    "    crs=src.crs,\n",
    "    transform=new_transform,\n",
    "    compress=\"lzw\",\n",
    ") as dst:\n",
    "    dst.write(subset)"
   ]
  },
  {
   "cell_type": "markdown",
   "id": "50",
   "metadata": {},
   "source": [
    "### Clipping with a Vector Dataset"
   ]
  },
  {
   "cell_type": "code",
   "execution_count": null,
   "id": "51",
   "metadata": {},
   "outputs": [],
   "source": [
    "import fiona\n",
    "import rasterio.mask"
   ]
  },
  {
   "cell_type": "code",
   "execution_count": null,
   "id": "52",
   "metadata": {},
   "outputs": [],
   "source": [
    "geojson_path = \"https://github.com/opengeos/datasets/releases/download/places/las_vegas_bounds_utm.geojson\"\n",
    "bounds = gpd.read_file(geojson_path)"
   ]
  },
  {
   "cell_type": "code",
   "execution_count": null,
   "id": "53",
   "metadata": {},
   "outputs": [],
   "source": [
    "fig, ax = plt.subplots()\n",
    "rasterio.plot.show(src, ax=ax)\n",
    "bounds.plot(ax=ax, edgecolor=\"red\", facecolor=\"none\")"
   ]
  },
  {
   "cell_type": "code",
   "execution_count": null,
   "id": "54",
   "metadata": {},
   "outputs": [],
   "source": [
    "with fiona.open(geojson_path, \"r\") as f:\n",
    "    shapes = [feature[\"geometry\"] for feature in f]\n",
    "out_image, out_transform = rasterio.mask.mask(src, shapes, crop=True)"
   ]
  },
  {
   "cell_type": "code",
   "execution_count": null,
   "id": "55",
   "metadata": {},
   "outputs": [],
   "source": [
    "out_meta = src.meta\n",
    "out_meta.update(\n",
    "    {\n",
    "        \"driver\": \"GTiff\",\n",
    "        \"height\": out_image.shape[1],\n",
    "        \"width\": out_image.shape[2],\n",
    "        \"transform\": out_transform,\n",
    "    }\n",
    ")\n",
    "\n",
    "with rasterio.open(\"las_vegas_clip.tif\", \"w\", **out_meta) as dst:\n",
    "    dst.write(out_image)"
   ]
  },
  {
   "cell_type": "markdown",
   "id": "56",
   "metadata": {},
   "source": [
    "## Key Takeaways\n",
    "\n",
    "## Exercises\n",
    "\n",
    "### Sample Datasets\n",
    "\n",
    "### Exercise 1: Reading and Exploring Raster Data"
   ]
  },
  {
   "cell_type": "code",
   "execution_count": null,
   "id": "57",
   "metadata": {},
   "outputs": [],
   "source": []
  },
  {
   "cell_type": "markdown",
   "id": "58",
   "metadata": {},
   "source": [
    "### Exercise 2: Working with Raster Bands"
   ]
  },
  {
   "cell_type": "code",
   "execution_count": null,
   "id": "59",
   "metadata": {},
   "outputs": [],
   "source": []
  },
  {
   "cell_type": "markdown",
   "id": "60",
   "metadata": {},
   "source": [
    "### Exercise 3: Basic Raster Operations"
   ]
  },
  {
   "cell_type": "code",
   "execution_count": null,
   "id": "61",
   "metadata": {},
   "outputs": [],
   "source": []
  },
  {
   "cell_type": "markdown",
   "id": "62",
   "metadata": {},
   "source": [
    "### Exercise 4: Writing and Saving Raster Data"
   ]
  },
  {
   "cell_type": "code",
   "execution_count": null,
   "id": "63",
   "metadata": {},
   "outputs": [],
   "source": []
  },
  {
   "cell_type": "markdown",
   "id": "64",
   "metadata": {},
   "source": [
    "### Exercise 5: Clipping and Subsetting"
   ]
  },
  {
   "cell_type": "code",
   "execution_count": null,
   "id": "65",
   "metadata": {},
   "outputs": [],
   "source": []
  }
 ],
 "metadata": {
  "jupytext": {
   "default_lexer": "ipython3"
  },
  "kernelspec": {
   "display_name": "Python 3",
   "language": "python",
   "name": "python3"
  }
 },
 "nbformat": 4,
 "nbformat_minor": 5
}
