{
 "cells": [
  {
   "cell_type": "markdown",
   "id": "0",
   "metadata": {},
   "source": [
    "# Building Interactive Dashboards with Voilà and Solara\n",
    "\n",
    "## Introduction\n",
    "\n",
    "## Learning Objectives\n",
    "\n",
    "## Installing Voilà and Solara"
   ]
  },
  {
   "cell_type": "code",
   "execution_count": null,
   "id": "1",
   "metadata": {},
   "outputs": [],
   "source": [
    "# %pip install voila solara pygis"
   ]
  },
  {
   "cell_type": "code",
   "execution_count": null,
   "id": "2",
   "metadata": {},
   "outputs": [],
   "source": [
    "import voila\n",
    "import solara"
   ]
  },
  {
   "cell_type": "markdown",
   "id": "3",
   "metadata": {},
   "source": [
    "## Introduction to Hugging Face Spaces\n",
    "\n",
    "### Installing the Hugging Face CLI"
   ]
  },
  {
   "cell_type": "code",
   "execution_count": null,
   "id": "4",
   "metadata": {},
   "outputs": [],
   "source": [
    "# %pip install -U \"huggingface_hub[cli]\""
   ]
  },
  {
   "cell_type": "markdown",
   "id": "5",
   "metadata": {},
   "source": [
    "### Logging in to Hugging Face\n",
    "\n",
    "```bash\n",
    "huggingface-cli login\n",
    "```\n",
    "\n",
    "## Creating a Basic Voilà Application\n",
    "\n",
    "### Creating a new Hugging Face Space\n",
    "\n",
    "### Embedding the Hugging Face Space in Your Website\n",
    "\n",
    "### Running the Voilà Application"
   ]
  },
  {
   "cell_type": "code",
   "execution_count": null,
   "id": "6",
   "metadata": {},
   "outputs": [],
   "source": [
    "import leafmap.maplibregl as leafmap\n",
    "\n",
    "m = leafmap.Map(\n",
    "    style=\"liberty\", projection=\"globe\", sidebar_visible=True, height=\"750px\"\n",
    ")\n",
    "m.add_basemap(\"USGS.Imagery\")\n",
    "cities = (\n",
    "    \"https://github.com/opengeos/datasets/releases/download/world/world_cities.geojson\"\n",
    ")\n",
    "m.add_geojson(cities, name=\"Cities\")\n",
    "m"
   ]
  },
  {
   "cell_type": "markdown",
   "id": "7",
   "metadata": {},
   "source": [
    "### Exploring the File Structure of the Space\n",
    "\n",
    "### Updating the Hugging Face Space\n",
    "\n",
    "#### Updating the Space from the Hugging Face Website\n",
    "\n",
    "#### Updating the Space from the Command Line\n",
    "\n",
    "```bash\n",
    "git clone https://huggingface.co/spaces/YOUR-USERNAME/leafmap-voila\n",
    "cd leafmap-voila\n",
    "```\n",
    "\n",
    "```bash\n",
    "voila notebooks/\n",
    "```\n",
    "\n",
    "```bash\n",
    "voila notebooks/ --strip_sources=False\n",
    "```\n",
    "\n",
    "## Creating an Advanced Web Application with Solara\n",
    "\n",
    "### Understanding Solara\n",
    "\n",
    "### Using a Leafmap Template for Solara\n",
    "\n",
    "### Exploring the File Structure of the Solara Web App\n",
    "\n",
    "### Introduction to Solara Components"
   ]
  },
  {
   "cell_type": "code",
   "execution_count": null,
   "id": "8",
   "metadata": {},
   "outputs": [],
   "source": [
    "import solara\n",
    "import leafmap.maplibregl as leafmap\n",
    "\n",
    "\n",
    "def create_map():\n",
    "\n",
    "    m = leafmap.Map(\n",
    "        style=\"liberty\",\n",
    "        projection=\"globe\",\n",
    "        height=\"750px\",\n",
    "        zoom=2.5,\n",
    "        sidebar_visible=True,\n",
    "    )\n",
    "    return m\n",
    "\n",
    "\n",
    "@solara.component\n",
    "def Page():\n",
    "    m = create_map()\n",
    "    return m.to_solara()\n",
    "\n",
    "\n",
    "Page()"
   ]
  },
  {
   "cell_type": "markdown",
   "id": "9",
   "metadata": {},
   "source": [
    "### Creating a New Page"
   ]
  },
  {
   "cell_type": "code",
   "execution_count": null,
   "id": "10",
   "metadata": {},
   "outputs": [],
   "source": [
    "import solara\n",
    "import leafmap.maplibregl as leafmap\n",
    "\n",
    "\n",
    "def create_map():\n",
    "\n",
    "    m = leafmap.Map(\n",
    "        style=\"positron\",\n",
    "        projection=\"globe\",\n",
    "        height=\"750px\",\n",
    "        zoom=2.5,\n",
    "        sidebar_visible=True,\n",
    "    )\n",
    "    geojson = \"https://github.com/opengeos/datasets/releases/download/world/mgrs_grid_zone.geojson\"\n",
    "    m.add_geojson(geojson)\n",
    "    m.add_labels(geojson, \"GZD\", text_color=\"white\", min_zoom=2, max_zoom=10)\n",
    "    return m\n",
    "\n",
    "\n",
    "@solara.component\n",
    "def Page():\n",
    "    m = create_map()\n",
    "    return m.to_solara()"
   ]
  },
  {
   "cell_type": "markdown",
   "id": "11",
   "metadata": {},
   "source": [
    "### Running the Solara Web App Locally\n",
    "\n",
    "```bash\n",
    "cd solara-maplibre\n",
    "solara run pages/\n",
    "```\n",
    "\n",
    "### Pushing Changes to the Hugging Face Space\n",
    "\n",
    "```bash\n",
    "git add .\n",
    "git commit -m \"Update the web app\"\n",
    "git push\n",
    "```\n",
    "\n",
    "## Key Takeaways\n",
    "\n",
    "## Exercises\n",
    "\n",
    "### Exercise 1: Create a Simple Voilà Dashboard\n",
    "\n",
    "### Exercise 2: Build a Multi-Page Solara Application"
   ]
  }
 ],
 "metadata": {
  "jupytext": {
   "default_lexer": "ipython3"
  },
  "kernelspec": {
   "display_name": "Python 3",
   "language": "python",
   "name": "python3"
  }
 },
 "nbformat": 4,
 "nbformat_minor": 5
}
