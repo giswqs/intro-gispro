{
 "cells": [
  {
   "cell_type": "markdown",
   "id": "0",
   "metadata": {},
   "source": [
    "# Geospatial Data Processing with GDAL and OGR\n",
    "\n",
    "## Introduction\n",
    "\n",
    "### When to Use GDAL Directly\n",
    "\n",
    "## Learning Objectives\n",
    "\n",
    "## Installation and Setup\n",
    "\n",
    "```bash\n",
    "conda install -c conda-forge gdal pygis\n",
    "```\n",
    "\n",
    "## Sample Datasets"
   ]
  },
  {
   "cell_type": "code",
   "execution_count": null,
   "id": "1",
   "metadata": {},
   "outputs": [],
   "source": [
    "wget https://github.com/opengeos/datasets/releases/download/gdal/gdal_sample_data.zip"
   ]
  },
  {
   "cell_type": "code",
   "execution_count": null,
   "id": "2",
   "metadata": {},
   "outputs": [],
   "source": [
    "unzip gdal_sample_data.zip"
   ]
  },
  {
   "cell_type": "markdown",
   "id": "3",
   "metadata": {},
   "source": [
    "## Understanding Your Data\n",
    "\n",
    "### Examining Raster Data"
   ]
  },
  {
   "cell_type": "code",
   "execution_count": null,
   "id": "4",
   "metadata": {},
   "outputs": [],
   "source": [
    "gdalinfo dem.tif"
   ]
  },
  {
   "cell_type": "markdown",
   "id": "5",
   "metadata": {},
   "source": [
    "### Examining Vector Data"
   ]
  },
  {
   "cell_type": "code",
   "execution_count": null,
   "id": "6",
   "metadata": {},
   "outputs": [],
   "source": [
    "ogrinfo buildings.geojson"
   ]
  },
  {
   "cell_type": "code",
   "execution_count": null,
   "id": "7",
   "metadata": {},
   "outputs": [],
   "source": [
    "ogrinfo buildings.geojson -al -so"
   ]
  },
  {
   "cell_type": "markdown",
   "id": "8",
   "metadata": {},
   "source": [
    "## Coordinate Transformation\n",
    "\n",
    "### Reprojecting Raster Data"
   ]
  },
  {
   "cell_type": "code",
   "execution_count": null,
   "id": "9",
   "metadata": {},
   "outputs": [],
   "source": [
    "gdalwarp -t_srs EPSG:4326 dem.tif dem_4326.tif"
   ]
  },
  {
   "cell_type": "markdown",
   "id": "10",
   "metadata": {},
   "source": [
    "### Reprojecting Vector Data"
   ]
  },
  {
   "cell_type": "code",
   "execution_count": null,
   "id": "11",
   "metadata": {},
   "outputs": [],
   "source": [
    "ogr2ogr -t_srs EPSG:3857 buildings_3857.gpkg buildings.geojson"
   ]
  },
  {
   "cell_type": "markdown",
   "id": "12",
   "metadata": {},
   "source": [
    "## Format Conversion\n",
    "\n",
    "### Converting Raster Formats"
   ]
  },
  {
   "cell_type": "code",
   "execution_count": null,
   "id": "13",
   "metadata": {},
   "outputs": [],
   "source": [
    "gdal_translate dem.tif dem.img"
   ]
  },
  {
   "cell_type": "markdown",
   "id": "14",
   "metadata": {},
   "source": [
    "### Converting Vector Formats"
   ]
  },
  {
   "cell_type": "code",
   "execution_count": null,
   "id": "15",
   "metadata": {},
   "outputs": [],
   "source": [
    "ogr2ogr buildings.gpkg buildings.geojson"
   ]
  },
  {
   "cell_type": "code",
   "execution_count": null,
   "id": "16",
   "metadata": {},
   "outputs": [],
   "source": [
    "ogr2ogr las_vegas_bbox.fgb las_vegas_bbox.geojson"
   ]
  },
  {
   "cell_type": "markdown",
   "id": "17",
   "metadata": {},
   "source": [
    "## Clipping and Masking\n",
    "\n",
    "### Clipping Raster with Vector Boundaries"
   ]
  },
  {
   "cell_type": "code",
   "execution_count": null,
   "id": "18",
   "metadata": {},
   "outputs": [],
   "source": [
    "gdalwarp -cutline las_vegas_bbox.geojson -crop_to_cutline landsat.tif las_vegas.tif"
   ]
  },
  {
   "cell_type": "markdown",
   "id": "19",
   "metadata": {},
   "source": [
    "### Clipping Vector Data"
   ]
  },
  {
   "cell_type": "code",
   "execution_count": null,
   "id": "20",
   "metadata": {},
   "outputs": [],
   "source": [
    "ogr2ogr -clipsrc las_vegas_bbox.geojson las_vegas_roads_clipped.geojson las_vegas_roads.geojson"
   ]
  },
  {
   "cell_type": "code",
   "execution_count": null,
   "id": "21",
   "metadata": {},
   "outputs": [],
   "source": [
    "ogrinfo las_vegas_bbox_4326.geojson -al -so"
   ]
  },
  {
   "cell_type": "code",
   "execution_count": null,
   "id": "22",
   "metadata": {},
   "outputs": [],
   "source": [
    "ogr2ogr -clipsrc -115.387634 35.943333 -114.883495 36.359161 las_vegas_roads_clipped.geojson las_vegas_roads.geojson"
   ]
  },
  {
   "cell_type": "markdown",
   "id": "23",
   "metadata": {},
   "source": [
    "## Raster Analysis and Calculations\n",
    "\n",
    "### Working with Individual Bands"
   ]
  },
  {
   "cell_type": "code",
   "execution_count": null,
   "id": "24",
   "metadata": {},
   "outputs": [],
   "source": [
    "gdal_translate -b 5 landsat.tif nir.tif\n",
    "gdal_translate -b 4 landsat.tif red.tif\n",
    "gdal_translate -b 3 landsat.tif green.tif"
   ]
  },
  {
   "cell_type": "markdown",
   "id": "25",
   "metadata": {},
   "source": [
    "### Performing Band Mathematics"
   ]
  },
  {
   "cell_type": "code",
   "execution_count": null,
   "id": "26",
   "metadata": {},
   "outputs": [],
   "source": [
    "gdal_calc.py \\\n",
    "  -A nir.tif \\\n",
    "  -B red.tif \\\n",
    "  --outfile=ndvi.tif \\\n",
    "  --calc=\"(A.astype(float) - B) / (A + B + 1e-6)\" \\\n",
    "  --type=Float32 \\\n",
    "  --NoDataValue=-9999"
   ]
  },
  {
   "cell_type": "code",
   "execution_count": null,
   "id": "27",
   "metadata": {},
   "outputs": [],
   "source": [
    "gdal_calc.py \\\n",
    "  -A ndvi.tif \\\n",
    "  --outfile=ndvi_clipped.tif \\\n",
    "  --calc=\"(A < -1)*-1 + (A > 1)*1 + ((A >= -1) * (A <= 1))*A\" \\\n",
    "  --type=Float32 \\\n",
    "  --NoDataValue=-9999 \\\n",
    "  --overwrite"
   ]
  },
  {
   "cell_type": "code",
   "execution_count": null,
   "id": "28",
   "metadata": {},
   "outputs": [],
   "source": [
    "gdal_calc.py -A ndvi_clipped.tif --outfile=vegetation.tif --calc=\"A>0.3\""
   ]
  },
  {
   "cell_type": "code",
   "execution_count": null,
   "id": "29",
   "metadata": {},
   "outputs": [],
   "source": [
    "gdal_translate -a_nodata 0 vegetation.tif vegetation_bin.tif"
   ]
  },
  {
   "cell_type": "code",
   "execution_count": null,
   "id": "30",
   "metadata": {},
   "outputs": [],
   "source": [
    "gdal_edit.py -a_nodata 0 vegetation.tif"
   ]
  },
  {
   "cell_type": "markdown",
   "id": "31",
   "metadata": {},
   "source": [
    "## Converting Between Raster and Vector\n",
    "\n",
    "### Vectorization"
   ]
  },
  {
   "cell_type": "code",
   "execution_count": null,
   "id": "32",
   "metadata": {},
   "outputs": [],
   "source": [
    "gdal_polygonize.py building_masks.tif building_masks.gpkg"
   ]
  },
  {
   "cell_type": "markdown",
   "id": "33",
   "metadata": {},
   "source": [
    "### Rasterization"
   ]
  },
  {
   "cell_type": "code",
   "execution_count": null,
   "id": "34",
   "metadata": {},
   "outputs": [],
   "source": [
    "gdal_rasterize -a uid -tr 0.6 0.6 -l buildings buildings_3857.gpkg buildings.tif"
   ]
  },
  {
   "cell_type": "code",
   "execution_count": null,
   "id": "35",
   "metadata": {},
   "outputs": [],
   "source": [
    "gdal_rasterize -burn 1 -tr 0.6 0.6 -l buildings buildings_3857.gpkg buildings2.tif"
   ]
  },
  {
   "cell_type": "markdown",
   "id": "36",
   "metadata": {},
   "source": [
    "## Geometry Processing\n",
    "\n",
    "### Simplifying Complex Geometries"
   ]
  },
  {
   "cell_type": "code",
   "execution_count": null,
   "id": "37",
   "metadata": {},
   "outputs": [],
   "source": [
    "ogr2ogr -f GPKG -t_srs EPSG:26911 -simplify 1 simplified.gpkg building_masks.gpkg"
   ]
  },
  {
   "cell_type": "markdown",
   "id": "38",
   "metadata": {},
   "source": [
    "### Dissolving Features by Attributes"
   ]
  },
  {
   "cell_type": "code",
   "execution_count": null,
   "id": "39",
   "metadata": {},
   "outputs": [],
   "source": [
    "ogrinfo -al -so us_states.geojson"
   ]
  },
  {
   "cell_type": "code",
   "execution_count": null,
   "id": "40",
   "metadata": {},
   "outputs": [],
   "source": [
    "ogr2ogr -dialect sqlite -sql \"SELECT ST_Union(geometry), country FROM us_states GROUP BY country\" us_states_dissolved.gpkg us_states.geojson"
   ]
  },
  {
   "cell_type": "markdown",
   "id": "41",
   "metadata": {},
   "source": [
    "### Exploding Multi-part Geometries"
   ]
  },
  {
   "cell_type": "code",
   "execution_count": null,
   "id": "42",
   "metadata": {},
   "outputs": [],
   "source": [
    "ogr2ogr -explodecollections hawaii_parts.geojson hawaii.geojson"
   ]
  },
  {
   "cell_type": "markdown",
   "id": "43",
   "metadata": {},
   "source": [
    "## Managing Fields and Layers\n",
    "\n",
    "### Selecting Specific Fields"
   ]
  },
  {
   "cell_type": "code",
   "execution_count": null,
   "id": "44",
   "metadata": {},
   "outputs": [],
   "source": [
    "ogr2ogr -select id,name us_states_select.geojson us_states.geojson"
   ]
  },
  {
   "cell_type": "markdown",
   "id": "45",
   "metadata": {},
   "source": [
    "### Renaming Layers"
   ]
  },
  {
   "cell_type": "code",
   "execution_count": null,
   "id": "46",
   "metadata": {},
   "outputs": [],
   "source": [
    "ogr2ogr -nln states us_states_rename.gpkg us_states_select.geojson"
   ]
  },
  {
   "cell_type": "markdown",
   "id": "47",
   "metadata": {},
   "source": [
    "### Adding New Fields"
   ]
  },
  {
   "cell_type": "code",
   "execution_count": null,
   "id": "48",
   "metadata": {},
   "outputs": [],
   "source": [
    "ogrinfo us_states_rename.gpkg -sql \"ALTER TABLE states ADD COLUMN area DOUBLE\""
   ]
  },
  {
   "cell_type": "markdown",
   "id": "49",
   "metadata": {},
   "source": [
    "## Tiling and Data Management\n",
    "\n",
    "### Creating Raster Tiles"
   ]
  },
  {
   "cell_type": "code",
   "execution_count": null,
   "id": "50",
   "metadata": {},
   "outputs": [],
   "source": [
    "mkdir -p tiles"
   ]
  },
  {
   "cell_type": "code",
   "execution_count": null,
   "id": "51",
   "metadata": {},
   "outputs": [],
   "source": [
    "gdal_retile.py -targetDir tiles -ps 512 512 -co \"TILED=YES\" landsat.tif"
   ]
  },
  {
   "cell_type": "markdown",
   "id": "52",
   "metadata": {},
   "source": [
    "### Merging Raster Data"
   ]
  },
  {
   "cell_type": "code",
   "execution_count": null,
   "id": "53",
   "metadata": {},
   "outputs": [],
   "source": [
    "gdal_merge.py -o landsat_merged.tif -of GTiff tiles/*.tif"
   ]
  },
  {
   "cell_type": "code",
   "execution_count": null,
   "id": "54",
   "metadata": {},
   "outputs": [],
   "source": [
    "gdalwarp -of GTiff tiles/*.tif landsat_merged2.tif"
   ]
  },
  {
   "cell_type": "markdown",
   "id": "55",
   "metadata": {},
   "source": [
    "### Working with Multiple Vector Files"
   ]
  },
  {
   "cell_type": "code",
   "execution_count": null,
   "id": "56",
   "metadata": {},
   "outputs": [],
   "source": [
    "mkdir -p states"
   ]
  },
  {
   "cell_type": "code",
   "execution_count": null,
   "id": "57",
   "metadata": {},
   "outputs": [],
   "source": [
    "ogrinfo -ro -al -geom=NO us_states.geojson | grep \"id (\" | awk '{print $4}' | while read id; do\n",
    "    ogr2ogr -f GeoJSON \"states/${id}.geojson\" us_states.geojson -where \"id = '${id}'\"\n",
    "done"
   ]
  },
  {
   "cell_type": "code",
   "execution_count": null,
   "id": "58",
   "metadata": {},
   "outputs": [],
   "source": [
    "ogr2ogr -f \"ESRI Shapefile\" us_states_merged.shp us_states.geojson"
   ]
  },
  {
   "cell_type": "code",
   "execution_count": null,
   "id": "59",
   "metadata": {},
   "outputs": [],
   "source": [
    "ogr2ogr -f \"ESRI Shapefile\" -update -append \\\n",
    "  us_states_merged.shp hawaii.geojson -nln us_states_merged"
   ]
  },
  {
   "cell_type": "markdown",
   "id": "60",
   "metadata": {},
   "source": [
    "## Advanced Raster Processing\n",
    "\n",
    "### Resampling and Resolution Management"
   ]
  },
  {
   "cell_type": "code",
   "execution_count": null,
   "id": "61",
   "metadata": {},
   "outputs": [],
   "source": [
    "gdalwarp -tr 100 100 -r average dem.tif dem_100m.tif"
   ]
  },
  {
   "cell_type": "markdown",
   "id": "62",
   "metadata": {},
   "source": [
    "### Creating Band Composites"
   ]
  },
  {
   "cell_type": "code",
   "execution_count": null,
   "id": "63",
   "metadata": {},
   "outputs": [],
   "source": [
    "gdal_merge.py -separate -o composite.tif nir.tif red.tif green.tif"
   ]
  },
  {
   "cell_type": "code",
   "execution_count": null,
   "id": "64",
   "metadata": {},
   "outputs": [],
   "source": [
    "gdalbuildvrt -separate stack.vrt nir.tif red.tif green.tif\n",
    "gdal_translate stack.vrt composite.tif -co COMPRESS=DEFLATE"
   ]
  },
  {
   "cell_type": "markdown",
   "id": "65",
   "metadata": {},
   "source": [
    "### Handling Missing Data"
   ]
  },
  {
   "cell_type": "code",
   "execution_count": null,
   "id": "66",
   "metadata": {},
   "outputs": [],
   "source": [
    "gdal_fillnodata.py -md 5 -of GTiff dem.tif filled_dem.tif"
   ]
  },
  {
   "cell_type": "code",
   "execution_count": null,
   "id": "67",
   "metadata": {},
   "outputs": [],
   "source": [
    "gdal_translate -a_nodata 0 dem.tif dem_nodata.tif"
   ]
  },
  {
   "cell_type": "markdown",
   "id": "68",
   "metadata": {},
   "source": [
    "### Cloud Optimized GeoTIFF"
   ]
  },
  {
   "cell_type": "code",
   "execution_count": null,
   "id": "69",
   "metadata": {},
   "outputs": [],
   "source": [
    "gdal_translate dem.tif dem_cog.tif -of COG -co COMPRESS=DEFLATE"
   ]
  },
  {
   "cell_type": "markdown",
   "id": "70",
   "metadata": {},
   "source": [
    "## Terrain Analysis\n",
    "\n",
    "### Computing Slope"
   ]
  },
  {
   "cell_type": "code",
   "execution_count": null,
   "id": "71",
   "metadata": {},
   "outputs": [],
   "source": [
    "gdaldem slope dem.tif slope.tif \\\n",
    "  -of GTiff \\\n",
    "  -compute_edges"
   ]
  },
  {
   "cell_type": "code",
   "execution_count": null,
   "id": "72",
   "metadata": {},
   "outputs": [],
   "source": [
    "gdaldem slope dem.tif slope_percent.tif \\\n",
    "  -of GTiff \\\n",
    "  -compute_edges \\\n",
    "  -p"
   ]
  },
  {
   "cell_type": "markdown",
   "id": "73",
   "metadata": {},
   "source": [
    "### Computing Aspect"
   ]
  },
  {
   "cell_type": "code",
   "execution_count": null,
   "id": "74",
   "metadata": {},
   "outputs": [],
   "source": [
    "gdaldem aspect dem.tif aspect.tif \\\n",
    "  -of GTiff \\\n",
    "  -compute_edges"
   ]
  },
  {
   "cell_type": "markdown",
   "id": "75",
   "metadata": {},
   "source": [
    "### Creating Hillshade Visualizations"
   ]
  },
  {
   "cell_type": "code",
   "execution_count": null,
   "id": "76",
   "metadata": {},
   "outputs": [],
   "source": [
    "gdaldem hillshade dem.tif hillshade.tif"
   ]
  },
  {
   "cell_type": "code",
   "execution_count": null,
   "id": "77",
   "metadata": {},
   "outputs": [],
   "source": [
    "gdaldem hillshade dem.tif multidirectional_hillshade.tif -multidirectional"
   ]
  },
  {
   "cell_type": "markdown",
   "id": "78",
   "metadata": {},
   "source": [
    "### Creating Color Relief Maps"
   ]
  },
  {
   "cell_type": "code",
   "execution_count": null,
   "id": "79",
   "metadata": {},
   "outputs": [],
   "source": [
    "cat << EOF > colormap.txt\n",
    "500, 51, 51, 153\n",
    "1000, 3, 147, 249\n",
    "1500, 37, 211, 109\n",
    "2000, 181, 240, 138\n",
    "2500, 218, 208, 133\n",
    "3000, 146, 115, 94\n",
    "4000, 183, 163, 159\n",
    "5000, 255, 255, 255\n",
    "EOF"
   ]
  },
  {
   "cell_type": "code",
   "execution_count": null,
   "id": "80",
   "metadata": {},
   "outputs": [],
   "source": [
    "gdaldem color-relief dem.tif colormap.txt color_relief.tif"
   ]
  },
  {
   "cell_type": "markdown",
   "id": "81",
   "metadata": {},
   "source": [
    "### Combining Hillshade and Color Relief"
   ]
  },
  {
   "cell_type": "code",
   "execution_count": null,
   "id": "82",
   "metadata": {},
   "outputs": [],
   "source": [
    "gdal_calc.py \\\n",
    "  -A color_relief.tif \\\n",
    "  -B hillshade.tif \\\n",
    "  --outfile=shaded_relief.tif \\\n",
    "  --calc=\"((A.astype(float) * 0.6) + (B.astype(float) * 0.4))\" \\\n",
    "  --type=Byte"
   ]
  },
  {
   "cell_type": "code",
   "execution_count": null,
   "id": "83",
   "metadata": {},
   "outputs": [],
   "source": [
    "gdal_calc.py \\\n",
    "  -A color_relief.tif \\\n",
    "  -B hillshade.tif \\\n",
    "  --outfile=color_hillshade.tif \\\n",
    "  --calc=\"A * (B / 255.0)\" \\\n",
    "  --type=Byte"
   ]
  },
  {
   "cell_type": "code",
   "execution_count": null,
   "id": "84",
   "metadata": {},
   "outputs": [],
   "source": [
    "gdal_calc.py -A color_relief.tif --A_band=1 -B hillshade.tif --outfile=r.tif --calc=\"A*(B/255.0)\" --type=Byte\n",
    "gdal_calc.py -A color_relief.tif --A_band=2 -B hillshade.tif --outfile=g.tif --calc=\"A*(B/255.0)\" --type=Byte\n",
    "gdal_calc.py -A color_relief.tif --A_band=3 -B hillshade.tif --outfile=b.tif --calc=\"A*(B/255.0)\" --type=Byte"
   ]
  },
  {
   "cell_type": "code",
   "execution_count": null,
   "id": "85",
   "metadata": {},
   "outputs": [],
   "source": [
    "gdal_merge.py -separate -o color_shaded_relief.tif r.tif g.tif b.tif"
   ]
  },
  {
   "cell_type": "markdown",
   "id": "86",
   "metadata": {},
   "source": [
    "### Generating Contour Lines"
   ]
  },
  {
   "cell_type": "code",
   "execution_count": null,
   "id": "87",
   "metadata": {},
   "outputs": [],
   "source": [
    "gdal_contour -i 100 dem.tif contours.shp"
   ]
  },
  {
   "cell_type": "markdown",
   "id": "88",
   "metadata": {},
   "source": [
    "## Key Takeaways\n",
    "\n",
    "## References and Further Reading\n",
    "\n",
    "## Exercises\n",
    "\n",
    "### Exercise 1: Data Inspection and Understanding"
   ]
  },
  {
   "cell_type": "code",
   "execution_count": null,
   "id": "89",
   "metadata": {},
   "outputs": [],
   "source": []
  },
  {
   "cell_type": "markdown",
   "id": "90",
   "metadata": {},
   "source": [
    "### Exercise 2: Coordinate Transformation Practice"
   ]
  },
  {
   "cell_type": "code",
   "execution_count": null,
   "id": "91",
   "metadata": {},
   "outputs": [],
   "source": []
  },
  {
   "cell_type": "markdown",
   "id": "92",
   "metadata": {},
   "source": [
    "### Exercise 3: Format Conversion and Optimization"
   ]
  },
  {
   "cell_type": "code",
   "execution_count": null,
   "id": "93",
   "metadata": {},
   "outputs": [],
   "source": []
  },
  {
   "cell_type": "markdown",
   "id": "94",
   "metadata": {},
   "source": [
    "### Exercise 4: Spatial Clipping and Analysis"
   ]
  },
  {
   "cell_type": "code",
   "execution_count": null,
   "id": "95",
   "metadata": {},
   "outputs": [],
   "source": []
  },
  {
   "cell_type": "markdown",
   "id": "96",
   "metadata": {},
   "source": [
    "### Exercise 5: Raster Band Mathematics"
   ]
  },
  {
   "cell_type": "code",
   "execution_count": null,
   "id": "97",
   "metadata": {},
   "outputs": [],
   "source": []
  },
  {
   "cell_type": "markdown",
   "id": "98",
   "metadata": {},
   "source": [
    "### Exercise 6: Terrain Analysis Workflow"
   ]
  },
  {
   "cell_type": "code",
   "execution_count": null,
   "id": "99",
   "metadata": {},
   "outputs": [],
   "source": []
  },
  {
   "cell_type": "markdown",
   "id": "100",
   "metadata": {},
   "source": [
    "### Exercise 7: Raster-Vector Conversion"
   ]
  },
  {
   "cell_type": "code",
   "execution_count": null,
   "id": "101",
   "metadata": {},
   "outputs": [],
   "source": []
  },
  {
   "cell_type": "markdown",
   "id": "102",
   "metadata": {},
   "source": [
    "### Exercise 8: Geometry Processing and Data Management"
   ]
  },
  {
   "cell_type": "code",
   "execution_count": null,
   "id": "103",
   "metadata": {},
   "outputs": [],
   "source": []
  }
 ],
 "metadata": {
  "kernelspec": {
   "display_name": "Bash",
   "language": "bash",
   "name": "bash"
  }
 },
 "nbformat": 4,
 "nbformat_minor": 5
}
