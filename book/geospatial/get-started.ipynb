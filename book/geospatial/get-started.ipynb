{
 "cells": [
  {
   "cell_type": "markdown",
   "id": "0",
   "metadata": {},
   "source": [
    "# Introduction to Geospatial Python\n",
    "\n",
    "## Introduction\n",
    "\n",
    "## Setting Up Your Python Environment\n",
    "\n",
    "### uv\n",
    "\n",
    "#### Install uv\n",
    "\n",
    "#### Install geospatial\n",
    "\n",
    "### pixi\n",
    "\n",
    "#### Install pixi\n",
    "\n",
    "#### Install gdal\n",
    "\n",
    "### conda\n",
    "\n",
    "#### Install Miniconda\n",
    "\n",
    "#### Create a New Conda Environment\n",
    "\n",
    "#### Install Geospatial Libraries\n",
    "\n",
    "## Verifying Your Installation\n",
    "\n",
    "## Key Takeaways\n",
    "\n",
    "## Exercises"
   ]
  }
 ],
 "metadata": {
  "jupytext": {
   "cell_metadata_filter": "-all",
   "main_language": "python",
   "notebook_metadata_filter": "-all"
  }
 },
 "nbformat": 4,
 "nbformat_minor": 5
}
