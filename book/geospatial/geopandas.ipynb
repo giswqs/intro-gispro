{
 "cells": [
  {
   "cell_type": "markdown",
   "id": "0",
   "metadata": {},
   "source": [
    "# Vector Data Analysis with GeoPandas\n",
    "\n",
    "## Introduction\n",
    "\n",
    "## Learning Objectives\n",
    "\n",
    "## Core Concepts\n",
    "\n",
    "### GeoDataFrame and GeoSeries\n",
    "\n",
    "### Active Geometry Concept\n",
    "\n",
    "## Installing GeoPandas"
   ]
  },
  {
   "cell_type": "code",
   "execution_count": null,
   "id": "1",
   "metadata": {},
   "outputs": [],
   "source": [
    "# %pip install geopandas pygis"
   ]
  },
  {
   "cell_type": "code",
   "execution_count": null,
   "id": "2",
   "metadata": {},
   "outputs": [],
   "source": [
    "import pandas as pd\n",
    "import geopandas as gpd\n",
    "import matplotlib.pyplot as plt"
   ]
  },
  {
   "cell_type": "markdown",
   "id": "3",
   "metadata": {},
   "source": [
    "## Creating GeoDataFrames\n",
    "\n",
    "### Creating Points from Coordinate Data"
   ]
  },
  {
   "cell_type": "code",
   "execution_count": null,
   "id": "4",
   "metadata": {},
   "outputs": [],
   "source": [
    "# Creating a GeoDataFrame from coordinate data\n",
    "data = {\n",
    "    \"City\": [\"Tokyo\", \"New York\", \"London\", \"Paris\"],\n",
    "    \"Latitude\": [35.6895, 40.7128, 51.5074, 48.8566],\n",
    "    \"Longitude\": [139.6917, -74.0060, -0.1278, 2.3522],\n",
    "}\n",
    "\n",
    "# First create a regular pandas DataFrame\n",
    "df = pd.DataFrame(data)\n",
    "\n",
    "# Convert to GeoDataFrame by creating Point geometries from coordinates\n",
    "gdf = gpd.GeoDataFrame(df, geometry=gpd.points_from_xy(df.Longitude, df.Latitude))\n",
    "gdf"
   ]
  },
  {
   "cell_type": "markdown",
   "id": "5",
   "metadata": {},
   "source": [
    "## Reading and Writing Geospatial Data\n",
    "\n",
    "### Understanding Geospatial File Formats\n",
    "\n",
    "### Reading a GeoJSON File"
   ]
  },
  {
   "cell_type": "code",
   "execution_count": null,
   "id": "6",
   "metadata": {},
   "outputs": [],
   "source": [
    "url = \"https://github.com/opengeos/datasets/releases/download/vector/nybb.geojson\"\n",
    "gdf = gpd.read_file(url)\n",
    "gdf.head()"
   ]
  },
  {
   "cell_type": "markdown",
   "id": "7",
   "metadata": {},
   "source": [
    "### Writing Geospatial Data"
   ]
  },
  {
   "cell_type": "code",
   "execution_count": null,
   "id": "8",
   "metadata": {},
   "outputs": [],
   "source": [
    "output_file = \"nyc_boroughs.geojson\"\n",
    "gdf.to_file(output_file, driver=\"GeoJSON\")\n",
    "print(f\"GeoDataFrame has been written to {output_file}\")"
   ]
  },
  {
   "cell_type": "code",
   "execution_count": null,
   "id": "9",
   "metadata": {},
   "outputs": [],
   "source": [
    "# Save as Shapefile (traditional GIS format)\n",
    "output_file = \"nyc_boroughs.shp\"\n",
    "gdf.to_file(output_file)\n",
    "\n",
    "# Save as GeoPackage (modern, single-file format)\n",
    "output_file = \"nyc_boroughs.gpkg\"\n",
    "gdf.to_file(output_file, driver=\"GPKG\")"
   ]
  },
  {
   "cell_type": "markdown",
   "id": "10",
   "metadata": {},
   "source": [
    "## Projections and Coordinate Reference Systems (CRS)\n",
    "\n",
    "### Understanding Coordinate Systems\n",
    "\n",
    "### Checking and Understanding CRS"
   ]
  },
  {
   "cell_type": "code",
   "execution_count": null,
   "id": "11",
   "metadata": {},
   "outputs": [],
   "source": [
    "print(f\"Current CRS: {gdf.crs}\")"
   ]
  },
  {
   "cell_type": "markdown",
   "id": "12",
   "metadata": {},
   "source": [
    "### Reprojecting to Different Coordinate Systems"
   ]
  },
  {
   "cell_type": "code",
   "execution_count": null,
   "id": "13",
   "metadata": {},
   "outputs": [],
   "source": [
    "# Reproject to WGS84 (latitude/longitude) for global compatibility\n",
    "gdf_4326 = gdf.to_crs(epsg=4326)\n",
    "print(f\"Reprojected CRS: {gdf_4326.crs}\")\n",
    "gdf_4326.head()"
   ]
  },
  {
   "cell_type": "markdown",
   "id": "14",
   "metadata": {},
   "source": [
    "## Spatial Measurements and Analysis\n",
    "\n",
    "### Preparing Data for Accurate Measurements"
   ]
  },
  {
   "cell_type": "code",
   "execution_count": null,
   "id": "15",
   "metadata": {},
   "outputs": [],
   "source": [
    "# Reproject to Web Mercator for accurate area calculations in square meters\n",
    "gdf = gdf.to_crs(\"EPSG:3857\")\n",
    "\n",
    "# Set BoroName as index for easier data access\n",
    "gdf = gdf.set_index(\"BoroName\")\n",
    "print(f\"Now using CRS: {gdf.crs}\")"
   ]
  },
  {
   "cell_type": "markdown",
   "id": "16",
   "metadata": {},
   "source": [
    "### Calculating Areas"
   ]
  },
  {
   "cell_type": "code",
   "execution_count": null,
   "id": "17",
   "metadata": {},
   "outputs": [],
   "source": [
    "# Calculate area in square meters\n",
    "gdf[\"area\"] = gdf.area\n",
    "\n",
    "# Convert to more readable units (square kilometers)\n",
    "gdf[\"area_km2\"] = gdf[\"area\"] / 1_000_000\n",
    "\n",
    "# Display results sorted by area\n",
    "gdf[[\"area\", \"area_km2\"]].sort_values(\"area_km2\", ascending=False)"
   ]
  },
  {
   "cell_type": "markdown",
   "id": "18",
   "metadata": {},
   "source": [
    "### Extracting Geometric Features"
   ]
  },
  {
   "cell_type": "code",
   "execution_count": null,
   "id": "19",
   "metadata": {},
   "outputs": [],
   "source": [
    "# Extract boundary lines from polygons\n",
    "gdf[\"boundary\"] = gdf.boundary\n",
    "\n",
    "# Calculate centroids (geometric centers)\n",
    "gdf[\"centroid\"] = gdf.centroid\n",
    "\n",
    "# Display the geometric features\n",
    "gdf[[\"boundary\", \"centroid\"]].head()"
   ]
  },
  {
   "cell_type": "markdown",
   "id": "20",
   "metadata": {},
   "source": [
    "### Distance Calculations"
   ]
  },
  {
   "cell_type": "code",
   "execution_count": null,
   "id": "21",
   "metadata": {},
   "outputs": [],
   "source": [
    "# Use Manhattan's centroid as the reference point\n",
    "manhattan_centroid = gdf.loc[\"Manhattan\", \"centroid\"]\n",
    "\n",
    "# Calculate distance from each borough centroid to Manhattan\n",
    "gdf[\"distance_to_manhattan\"] = gdf[\"centroid\"].distance(manhattan_centroid)\n",
    "\n",
    "# Convert to kilometers and display results\n",
    "gdf[\"distance_to_manhattan_km\"] = gdf[\"distance_to_manhattan\"] / 1000\n",
    "\n",
    "gdf[[\"distance_to_manhattan_km\"]].sort_values(\"distance_to_manhattan_km\")"
   ]
  },
  {
   "cell_type": "markdown",
   "id": "22",
   "metadata": {},
   "source": [
    "### Statistical Analysis of Spatial Data"
   ]
  },
  {
   "cell_type": "code",
   "execution_count": null,
   "id": "23",
   "metadata": {},
   "outputs": [],
   "source": [
    "# Calculate summary statistics\n",
    "mean_distance = gdf[\"distance_to_manhattan_km\"].mean()\n",
    "max_distance = gdf[\"distance_to_manhattan_km\"].max()\n",
    "total_area = gdf[\"area_km2\"].sum()\n",
    "\n",
    "print(f\"Mean distance to Manhattan: {mean_distance:.2f} km\")\n",
    "print(f\"Maximum distance to Manhattan: {max_distance:.2f} km\")\n",
    "print(f\"Total NYC area: {total_area:.2f} km²\")"
   ]
  },
  {
   "cell_type": "markdown",
   "id": "24",
   "metadata": {},
   "source": [
    "## Visualizing Geospatial Data\n",
    "\n",
    "### Setting Up Plotting Environment"
   ]
  },
  {
   "cell_type": "code",
   "execution_count": null,
   "id": "25",
   "metadata": {},
   "outputs": [],
   "source": [
    "import matplotlib.pyplot as plt\n",
    "\n",
    "# Set high resolution for better quality plots\n",
    "plt.rcParams[\"figure.dpi\"] = 150"
   ]
  },
  {
   "cell_type": "markdown",
   "id": "26",
   "metadata": {},
   "source": [
    "### Thematic Mapping"
   ]
  },
  {
   "cell_type": "code",
   "execution_count": null,
   "id": "27",
   "metadata": {},
   "outputs": [],
   "source": [
    "# Create a choropleth map showing borough areas\n",
    "fig, ax = plt.subplots(figsize=(10, 6))\n",
    "\n",
    "gdf.plot(\n",
    "    column=\"area_km2\",\n",
    "    ax=ax,\n",
    "    legend=True,\n",
    "    cmap=\"YlOrRd\",  # Yellow-Orange-Red colormap\n",
    "    edgecolor=\"black\",\n",
    "    linewidth=0.5,\n",
    ")\n",
    "\n",
    "plt.title(\"NYC Boroughs by Area (km²)\", fontsize=16, fontweight=\"bold\")\n",
    "plt.axis(\"off\")  # Remove coordinate axes for cleaner appearance\n",
    "plt.tight_layout()\n",
    "plt.show()"
   ]
  },
  {
   "cell_type": "markdown",
   "id": "28",
   "metadata": {},
   "source": [
    "### Multi-Layer Visualization"
   ]
  },
  {
   "cell_type": "code",
   "execution_count": null,
   "id": "29",
   "metadata": {},
   "outputs": [],
   "source": [
    "# Create a comprehensive map with multiple layers\n",
    "fig, ax = plt.subplots(figsize=(10, 6))\n",
    "\n",
    "# Plot borough boundaries as base layer\n",
    "gdf[\"geometry\"].plot(\n",
    "    ax=ax, color=\"lightblue\", edgecolor=\"navy\", linewidth=1.5, alpha=0.7\n",
    ")\n",
    "\n",
    "# Add centroids as point layer\n",
    "gdf[\"centroid\"].plot(\n",
    "    ax=ax, color=\"red\", markersize=80, edgecolor=\"darkred\", linewidth=1\n",
    ")\n",
    "\n",
    "# Add borough labels\n",
    "for idx, row in gdf.iterrows():\n",
    "    # Get centroid coordinates for label placement\n",
    "    x = row.centroid.x\n",
    "    y = row.centroid.y\n",
    "    ax.annotate(\n",
    "        idx,\n",
    "        (x, y),\n",
    "        xytext=(5, 5),\n",
    "        textcoords=\"offset points\",\n",
    "        fontsize=10,\n",
    "        fontweight=\"bold\",\n",
    "        bbox=dict(boxstyle=\"round,pad=0.3\", facecolor=\"white\", alpha=0.8),\n",
    "    )\n",
    "\n",
    "plt.title(\"NYC Borough Boundaries and Centroids\", fontsize=16, fontweight=\"bold\")\n",
    "plt.axis(\"off\")\n",
    "plt.tight_layout()\n",
    "plt.show()"
   ]
  },
  {
   "cell_type": "markdown",
   "id": "30",
   "metadata": {},
   "source": [
    "### Interactive Visualization"
   ]
  },
  {
   "cell_type": "code",
   "execution_count": null,
   "id": "31",
   "metadata": {},
   "outputs": [],
   "source": [
    "# Create an interactive map using Folium integration\n",
    "m = gdf.explore(\n",
    "    column=\"area_km2\",\n",
    "    cmap=\"YlOrRd\",\n",
    "    tooltip=[\"area_km2\", \"distance_to_manhattan_km\"],\n",
    "    popup=True,\n",
    "    legend=True,\n",
    ")\n",
    "m"
   ]
  },
  {
   "cell_type": "markdown",
   "id": "32",
   "metadata": {},
   "source": [
    "## Advanced Geometric Operations\n",
    "\n",
    "### Buffer Analysis"
   ]
  },
  {
   "cell_type": "code",
   "execution_count": null,
   "id": "33",
   "metadata": {},
   "outputs": [],
   "source": [
    "# Create 3-kilometer buffer zones around each borough\n",
    "buffer_distance = 3000  # meters\n",
    "gdf[\"buffered\"] = gdf.buffer(buffer_distance)\n",
    "\n",
    "print(f\"Created {buffer_distance/1000} km buffer zones around each borough\")"
   ]
  },
  {
   "cell_type": "code",
   "execution_count": null,
   "id": "34",
   "metadata": {},
   "outputs": [],
   "source": [
    "# Visualize original vs buffered geometries\n",
    "fig, ax = plt.subplots(figsize=(10, 6))\n",
    "\n",
    "# Plot buffered areas first (background)\n",
    "gdf[\"buffered\"].plot(\n",
    "    ax=ax,\n",
    "    alpha=0.3,\n",
    "    color=\"orange\",\n",
    "    edgecolor=\"red\",\n",
    "    linewidth=1,\n",
    "    label=\"3km Buffer Zone\",\n",
    ")\n",
    "\n",
    "# Plot original geometries on top\n",
    "gdf[\"geometry\"].plot(\n",
    "    ax=ax,\n",
    "    color=\"lightblue\",\n",
    "    edgecolor=\"navy\",\n",
    "    linewidth=1.5,\n",
    "    label=\"Original Boundaries\",\n",
    ")\n",
    "\n",
    "plt.title(\"NYC Boroughs: Original vs 3km Buffer Zones\", fontsize=16, fontweight=\"bold\")\n",
    "plt.legend(loc=\"upper right\")\n",
    "plt.axis(\"off\")\n",
    "plt.tight_layout()\n",
    "plt.show()"
   ]
  },
  {
   "cell_type": "markdown",
   "id": "35",
   "metadata": {},
   "source": [
    "### Convex Hull Analysis"
   ]
  },
  {
   "cell_type": "code",
   "execution_count": null,
   "id": "36",
   "metadata": {},
   "outputs": [],
   "source": [
    "# Calculate convex hulls for each borough\n",
    "gdf[\"convex_hull\"] = gdf.convex_hull\n",
    "\n",
    "# Compare areas between original shapes and convex hulls\n",
    "gdf[\"convex_hull_area\"] = gdf[\"convex_hull\"].area / 1_000_000  # Convert to km²\n",
    "gdf[\"area_ratio\"] = gdf[\"convex_hull_area\"] / gdf[\"area_km2\"]\n",
    "\n",
    "print(\"Convex Hull Analysis:\")\n",
    "print(gdf[[\"area_km2\", \"convex_hull_area\", \"area_ratio\"]].round(2))"
   ]
  },
  {
   "cell_type": "code",
   "execution_count": null,
   "id": "37",
   "metadata": {},
   "outputs": [],
   "source": [
    "# Create comparison visualization\n",
    "fig, ax = plt.subplots(figsize=(10, 6))\n",
    "\n",
    "# Plot original geometries\n",
    "gdf[\"geometry\"].plot(\n",
    "    ax=ax, color=\"lightblue\", edgecolor=\"navy\", linewidth=2, label=\"Original Shape\"\n",
    ")\n",
    "\n",
    "# Plot convex hulls as outlines\n",
    "gdf[\"convex_hull\"].plot(\n",
    "    ax=ax,\n",
    "    facecolor=\"none\",\n",
    "    edgecolor=\"red\",\n",
    "    linewidth=2,\n",
    "    linestyle=\"--\",\n",
    "    label=\"Convex Hull\",\n",
    ")\n",
    "\n",
    "plt.title(\n",
    "    \"NYC Boroughs: Original Shapes vs Convex Hulls\", fontsize=16, fontweight=\"bold\"\n",
    ")\n",
    "plt.legend(loc=\"upper right\")\n",
    "plt.axis(\"off\")\n",
    "plt.tight_layout()\n",
    "plt.show()"
   ]
  },
  {
   "cell_type": "markdown",
   "id": "38",
   "metadata": {},
   "source": [
    "## Spatial Relationships and Queries\n",
    "\n",
    "### Intersection Analysis"
   ]
  },
  {
   "cell_type": "code",
   "execution_count": null,
   "id": "39",
   "metadata": {},
   "outputs": [],
   "source": [
    "# Test which buffered boroughs intersect with Manhattan's original boundary\n",
    "manhattan_geom = gdf.loc[\"Manhattan\", \"geometry\"]\n",
    "\n",
    "gdf[\"intersects_manhattan\"] = gdf[\"buffered\"].intersects(manhattan_geom)\n",
    "gdf[\"touches_manhattan\"] = gdf[\"geometry\"].touches(manhattan_geom)\n",
    "\n",
    "# Display results\n",
    "intersection_results = gdf[[\"intersects_manhattan\", \"touches_manhattan\"]]\n",
    "intersection_results"
   ]
  },
  {
   "cell_type": "markdown",
   "id": "40",
   "metadata": {},
   "source": [
    "### Containment and Spatial Validation"
   ]
  },
  {
   "cell_type": "code",
   "execution_count": null,
   "id": "41",
   "metadata": {},
   "outputs": [],
   "source": [
    "# Verify that centroids fall within their respective borough boundaries\n",
    "gdf[\"centroid_within_borough\"] = gdf[\"centroid\"].within(gdf[\"geometry\"])\n",
    "\n",
    "# Check for any anomalies\n",
    "anomalies = gdf[~gdf[\"centroid_within_borough\"]]\n",
    "if len(anomalies) > 0:\n",
    "    print(\"Warning: Some centroids fall outside their borough boundaries\")\n",
    "    print(anomalies.index.tolist())\n",
    "else:\n",
    "    print(\"✓ All centroids correctly fall within their borough boundaries\")"
   ]
  },
  {
   "cell_type": "markdown",
   "id": "42",
   "metadata": {},
   "source": [
    "## Best Practices and Performance Considerations\n",
    "\n",
    "### Coordinate System Management\n",
    "\n",
    "### Memory and Performance\n",
    "\n",
    "### Data Validation\n",
    "\n",
    "## Key Takeaways\n",
    "\n",
    "## Exercises\n",
    "\n",
    "### Exercise 1: Creating and Manipulating GeoDataFrames with GeoPandas"
   ]
  },
  {
   "cell_type": "code",
   "execution_count": null,
   "id": "43",
   "metadata": {},
   "outputs": [],
   "source": []
  },
  {
   "cell_type": "markdown",
   "id": "44",
   "metadata": {},
   "source": [
    "### Exercise 2: Combining NumPy, Pandas, and GeoPandas"
   ]
  },
  {
   "cell_type": "code",
   "execution_count": null,
   "id": "45",
   "metadata": {},
   "outputs": [],
   "source": []
  }
 ],
 "metadata": {
  "jupytext": {
   "default_lexer": "python"
  },
  "kernelspec": {
   "display_name": "Python 3",
   "language": "python",
   "name": "python3"
  }
 },
 "nbformat": 4,
 "nbformat_minor": 5
}
