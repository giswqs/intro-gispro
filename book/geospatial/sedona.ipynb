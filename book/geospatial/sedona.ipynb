{
 "cells": [
  {
   "cell_type": "markdown",
   "id": "0",
   "metadata": {},
   "source": [
    "# Distributed Computing with Apache Sedona\n",
    "\n",
    "## Introduction\n",
    "\n",
    "## Learning Objectives\n",
    "\n",
    "## Installing and Setting Up Apache Sedona\n",
    "\n",
    "### Installation Requirements\n",
    "\n",
    "```bash\n",
    "docker run -it -p 8888:8888 -p 4040:4040 -p 8080:8080 -p 8082:8081 -p 7077:7077 -p 8085:8085 -v $(pwd):/app/workspace giswqs/pygis:sedona\n",
    "```\n",
    "\n",
    "### Core Imports and Configuration"
   ]
  },
  {
   "cell_type": "code",
   "execution_count": null,
   "id": "1",
   "metadata": {},
   "outputs": [],
   "source": [
    "import leafmap\n",
    "import geopandas as gpd\n",
    "import pandas as pd\n",
    "from sedona.spark import *\n",
    "from pyspark.sql.functions import col, expr"
   ]
  },
  {
   "cell_type": "markdown",
   "id": "2",
   "metadata": {},
   "source": [
    "### Creating a Sedona-Enabled Spark Session"
   ]
  },
  {
   "cell_type": "code",
   "execution_count": null,
   "id": "3",
   "metadata": {},
   "outputs": [],
   "source": [
    "config = (\n",
    "    SedonaContext.builder()\n",
    "    .appName(\"SedonaApp\")  # Application name for tracking in Spark UI\n",
    "    .config(\n",
    "        \"spark.serializer\", \"org.apache.spark.serializer.KryoSerializer\"\n",
    "    )  # Faster serialization\n",
    "    .config(\n",
    "        \"spark.kryo.registrator\", \"org.apache.sedona.core.serde.SedonaKryoRegistrator\"\n",
    "    )  # Spatial object serialization\n",
    "    .config(\n",
    "        \"spark.jars.packages\",\n",
    "        \"org.apache.sedona:sedona-spark-shaded-3.5_2.12:1.7.2,org.datasyslab:geotools-wrapper:1.7.2-28.5\",\n",
    "    )  # Core Sedona packages\n",
    "    .config(\n",
    "        \"spark.jars.repositories\",\n",
    "        \"https://artifacts.unidata.ucar.edu/repository/unidata-all\",\n",
    "    )  # Additional repositories\n",
    "    .config(\n",
    "        \"spark.hadoop.fs.s3a.connection.ssl.enabled\", \"true\"\n",
    "    )  # Enable SSL for S3 connections\n",
    "    .config(\n",
    "        \"spark.hadoop.fs.s3a.path.style.access\", \"true\"\n",
    "    )  # Use path-style access for S3\n",
    "    .config(\n",
    "        \"spark.hadoop.fs.s3a.impl\", \"org.apache.hadoop.fs.s3a.S3AFileSystem\"\n",
    "    )  # S3 filesystem implementation\n",
    "    .config(\n",
    "        \"spark.hadoop.fs.s3a.aws.credentials.provider\",\n",
    "        \"org.apache.hadoop.fs.s3a.AnonymousAWSCredentialsProvider\",\n",
    "    )  # Anonymous access to public S3 buckets\n",
    "    .getOrCreate()\n",
    ")\n",
    "\n",
    "# Create the Sedona context which adds spatial capabilities to the Spark session\n",
    "sedona = SedonaContext.create(config)"
   ]
  },
  {
   "cell_type": "markdown",
   "id": "4",
   "metadata": {},
   "source": [
    "## Downloading Sample Data"
   ]
  },
  {
   "cell_type": "code",
   "execution_count": null,
   "id": "5",
   "metadata": {},
   "outputs": [],
   "source": [
    "url = (\n",
    "    \"https://github.com/opengeos/datasets/releases/download/book/sedona-sample-data.zip\"\n",
    ")\n",
    "leafmap.download_file(url)"
   ]
  },
  {
   "cell_type": "markdown",
   "id": "6",
   "metadata": {},
   "source": [
    "## Core Concepts and Data Structures\n",
    "\n",
    "### Understanding Spatial DataFrames\n",
    "\n",
    "### Spatial Data Types\n",
    "\n",
    "### Creating Spatial DataFrames"
   ]
  },
  {
   "cell_type": "code",
   "execution_count": null,
   "id": "7",
   "metadata": {},
   "outputs": [],
   "source": [
    "# Create sample city data with coordinates for major US cities\n",
    "cities_data = [\n",
    "    (\"New York\", 40.7128, -74.0060),\n",
    "    (\"Los Angeles\", 34.0522, -118.2437),\n",
    "    (\"Chicago\", 41.8781, -87.6298),\n",
    "    (\"Houston\", 29.7604, -95.3698),\n",
    "    (\"Phoenix\", 33.4484, -112.0740),\n",
    "]\n",
    "\n",
    "# Convert to Spark DataFrame - this creates a distributed dataset\n",
    "cities_df = sedona.createDataFrame(\n",
    "    data=cities_data, schema=[\"city\", \"latitude\", \"longitude\"]\n",
    ")\n",
    "\n",
    "# Create geometry column using ST_Point function - this transforms coordinates into spatial objects\n",
    "cities_spatial = cities_df.withColumn(\"geometry\", expr(\"ST_Point(longitude, latitude)\"))\n",
    "\n",
    "# Display the resulting spatial DataFrame\n",
    "cities_spatial.show(truncate=False)"
   ]
  },
  {
   "cell_type": "markdown",
   "id": "8",
   "metadata": {},
   "source": [
    "### Working with Real Geospatial Data"
   ]
  },
  {
   "cell_type": "code",
   "execution_count": null,
   "id": "9",
   "metadata": {},
   "outputs": [],
   "source": [
    "# Load NYC boroughs GeoJSON using GeoPandas for initial processing\n",
    "boroughs_gdf = gpd.read_file(\"nybb.geojson\")\n",
    "\n",
    "# Reproject from New York State Plane (EPSG:2263) to Albers Equal Area (EPSG:5070)\n",
    "# This ensures accurate area calculations for our later analysis\n",
    "boroughs_gdf = boroughs_gdf.to_crs(\"EPSG:5070\")\n",
    "boroughs_gdf"
   ]
  },
  {
   "cell_type": "code",
   "execution_count": null,
   "id": "10",
   "metadata": {},
   "outputs": [],
   "source": [
    "# Convert to Pandas DataFrame and extract WKT (Well-Known Text) representation of geometries\n",
    "boroughs_pd = pd.DataFrame(boroughs_gdf.drop(columns=\"geometry\"))\n",
    "boroughs_pd[\"wkt_geometry\"] = boroughs_gdf.geometry.to_wkt()\n",
    "\n",
    "# Create Spark DataFrame from the Pandas DataFrame\n",
    "boroughs_df = sedona.createDataFrame(boroughs_pd)\n",
    "\n",
    "# Convert WKT strings back to spatial geometry objects using Sedona's ST_GeomFromWKT function\n",
    "boroughs_spatial = boroughs_df.withColumn(\n",
    "    \"geometry\", expr(\"ST_GeomFromWKT(wkt_geometry)\")\n",
    ")\n",
    "\n",
    "# Display the key columns of our spatial DataFrame\n",
    "boroughs_spatial.select(\"BoroCode\", \"BoroName\", \"geometry\").show()"
   ]
  },
  {
   "cell_type": "markdown",
   "id": "11",
   "metadata": {},
   "source": [
    "## Spatial Operations and Functions\n",
    "\n",
    "### Basic Geometric Properties"
   ]
  },
  {
   "cell_type": "code",
   "execution_count": null,
   "id": "12",
   "metadata": {},
   "outputs": [],
   "source": [
    "# Calculate geometric properties for each borough\n",
    "boroughs_with_metrics = (\n",
    "    boroughs_spatial.withColumn(\n",
    "        \"area_km2\", expr(\"ROUND(ST_Area(geometry) / 1e6, 2)\")\n",
    "    )  # Convert from m² to km²\n",
    "    .withColumn(\n",
    "        \"perimeter_km\", expr(\"ROUND(ST_Perimeter(geometry) / 1000, 2)\")\n",
    "    )  # Convert from m to km\n",
    "    .withColumn(\"centroid\", expr(\"ST_Centroid(geometry)\"))  # Calculate geometric center\n",
    ")\n",
    "\n",
    "# Display the calculated metrics\n",
    "boroughs_with_metrics.select(\"BoroName\", \"area_km2\", \"perimeter_km\", \"centroid\").show()"
   ]
  },
  {
   "cell_type": "markdown",
   "id": "13",
   "metadata": {},
   "source": [
    "### Distance Calculations"
   ]
  },
  {
   "cell_type": "code",
   "execution_count": null,
   "id": "14",
   "metadata": {},
   "outputs": [],
   "source": [
    "# Transform city coordinates from geographic (EPSG:4326) to projected (EPSG:5070) coordinate system\n",
    "# This is essential for accurate distance calculations in linear units (meters)\n",
    "cities_projected = cities_spatial.withColumn(\n",
    "    \"geometry\", expr(\"ST_Transform(geometry, 'EPSG:4326', 'EPSG:5070')\")\n",
    ")\n",
    "\n",
    "# View the transformed coordinates\n",
    "cities_projected.show(truncate=False)"
   ]
  },
  {
   "cell_type": "code",
   "execution_count": null,
   "id": "15",
   "metadata": {},
   "outputs": [],
   "source": [
    "# Calculate distances from each city to Manhattan's centroid\n",
    "# First, extract Manhattan's centroid as a reference point\n",
    "manhattan_centroid = (\n",
    "    boroughs_spatial.filter(col(\"BoroName\") == \"Manhattan\")\n",
    "    .select(expr(\"ST_Centroid(geometry)\").alias(\"manhattan_center\"))\n",
    "    .collect()[0][0]  # collect() brings the result to the driver node\n",
    ")\n",
    "\n",
    "# Create a new DataFrame with distance calculations\n",
    "cities_with_distances = (\n",
    "    cities_projected.withColumn(\n",
    "        \"manhattan_center\",\n",
    "        expr(\n",
    "            f\"ST_GeomFromWKT('{manhattan_centroid.wkt}')\"\n",
    "        ),  # Add Manhattan center as reference\n",
    "    )\n",
    "    .withColumn(\n",
    "        \"distance_to_manhattan_meters\",\n",
    "        expr(\"ST_Distance(geometry, manhattan_center)\"),  # Calculate distance in meters\n",
    "    )\n",
    "    .withColumn(\n",
    "        \"distance_to_manhattan_km\",\n",
    "        expr(\n",
    "            \"ROUND(ST_Distance(geometry, manhattan_center) / 1000, 2)\"\n",
    "        ),  # Convert to kilometers and round\n",
    "    )\n",
    ")\n",
    "\n",
    "# Display results ordered by distance (closest first)\n",
    "cities_with_distances.select(\"city\", \"distance_to_manhattan_km\").orderBy(\n",
    "    \"distance_to_manhattan_km\"\n",
    ").show()"
   ]
  },
  {
   "cell_type": "markdown",
   "id": "16",
   "metadata": {},
   "source": [
    "### Spatial Relationships"
   ]
  },
  {
   "cell_type": "code",
   "execution_count": null,
   "id": "17",
   "metadata": {},
   "outputs": [],
   "source": [
    "# Create a 5-kilometer buffer around Manhattan's boundary\n",
    "manhattan_with_buffer = boroughs_spatial.filter(\n",
    "    col(\"BoroName\") == \"Manhattan\"\n",
    ").withColumn(\n",
    "    \"buffer_5km\", expr(\"ST_Buffer(geometry, 5000)\")  # 5000 meters = 5km buffer\n",
    ")\n",
    "\n",
    "# Perform spatial join to find cities within the buffer zone\n",
    "cities_in_buffer = (\n",
    "    cities_projected.crossJoin(\n",
    "        manhattan_with_buffer.select(\"buffer_5km\")\n",
    "    )  # Cross join to compare all cities with the buffer\n",
    "    .withColumn(\n",
    "        \"within_buffer\", expr(\"ST_Within(geometry, buffer_5km)\")\n",
    "    )  # Test if city point is within buffer\n",
    "    .filter(col(\"within_buffer\") == True)  # Keep only cities that are within the buffer\n",
    ")\n",
    "\n",
    "# Display cities that fall within the 5km buffer of Manhattan\n",
    "cities_in_buffer.select(\"city\").show()"
   ]
  },
  {
   "cell_type": "markdown",
   "id": "18",
   "metadata": {},
   "source": [
    "## Spatial Joins and Indexing\n",
    "\n",
    "### Understanding Spatial Join Types\n",
    "\n",
    "### Performing Spatial Joins with World Cities"
   ]
  },
  {
   "cell_type": "code",
   "execution_count": null,
   "id": "19",
   "metadata": {},
   "outputs": [],
   "source": [
    "world_cities_pd = pd.read_csv(\"world_cities.csv\")\n",
    "world_cities_pd.head()"
   ]
  },
  {
   "cell_type": "code",
   "execution_count": null,
   "id": "20",
   "metadata": {},
   "outputs": [],
   "source": [
    "# Convert Pandas DataFrame to Spark DataFrame for distributed processing\n",
    "world_cities_df = sedona.createDataFrame(world_cities_pd)\n",
    "\n",
    "# Create spatial point geometries from longitude and latitude columns\n",
    "world_cities_spatial = world_cities_df.withColumn(\n",
    "    \"geometry\", expr(\"ST_Point(longitude, latitude)\")\n",
    ")\n",
    "\n",
    "# Display sample data showing the spatial DataFrame structure\n",
    "world_cities_spatial.show(10)"
   ]
  },
  {
   "cell_type": "markdown",
   "id": "21",
   "metadata": {},
   "source": [
    "### Spatial Join Example: Cities by Country"
   ]
  },
  {
   "cell_type": "code",
   "execution_count": null,
   "id": "22",
   "metadata": {},
   "outputs": [],
   "source": [
    "# Create simplified country boundaries for demonstration\n",
    "# In production, you would load actual country boundary data from sources like Natural Earth\n",
    "sample_countries = [\n",
    "    (\n",
    "        \"Australia\",\n",
    "        \"POLYGON ((112 -44, 112 -10, 154 -10, 154 -44, 112 -44))\",\n",
    "    ),  # Simplified Australia bbox\n",
    "    (\n",
    "        \"UK\",\n",
    "        \"POLYGON ((-8.65 49.9, -8.65 60.9, 1.75 60.9, 1.75 49.9, -8.65 49.9))\",\n",
    "    ),  # Simplified UK bbox\n",
    "]\n",
    "\n",
    "# Create DataFrame with country boundaries\n",
    "countries_df = sedona.createDataFrame(sample_countries, schema=[\"country\", \"wkt\"])\n",
    "countries_spatial = countries_df.withColumn(\"geometry\", expr(\"ST_GeomFromWKT(wkt)\"))\n",
    "\n",
    "# Perform spatial join to find cities within country boundaries\n",
    "# This operation tests each city point against each country polygon\n",
    "cities_in_countries = world_cities_spatial.alias(\"cities\").join(\n",
    "    countries_spatial.alias(\"countries\"),\n",
    "    expr(\n",
    "        \"ST_Within(cities.geometry, countries.geometry)\"\n",
    "    ),  # Spatial predicate: city within country\n",
    "    \"inner\",  # Only keep cities that are within a country boundary\n",
    ")\n",
    "cities_in_countries.show()"
   ]
  },
  {
   "cell_type": "code",
   "execution_count": null,
   "id": "23",
   "metadata": {},
   "outputs": [],
   "source": [
    "# Aggregate cities by country to get summary statistics\n",
    "city_counts = cities_in_countries.groupBy(\"countries.country\").count()\n",
    "city_counts.show()"
   ]
  },
  {
   "cell_type": "markdown",
   "id": "24",
   "metadata": {},
   "source": [
    "## Advanced Spatial Analysis\n",
    "\n",
    "### Spatial Aggregations"
   ]
  },
  {
   "cell_type": "code",
   "execution_count": null,
   "id": "25",
   "metadata": {},
   "outputs": [],
   "source": [
    "# Perform spatial and statistical aggregations on North American cities\n",
    "country_unions = (\n",
    "    world_cities_spatial.filter(\n",
    "        col(\"country\").isin(\n",
    "            [\"USA\", \"CAN\", \"MEX\"]\n",
    "        )  # Filter for North American countries\n",
    "    )\n",
    "    .groupBy(\"country\")\n",
    "    .agg(\n",
    "        expr(\"ST_Union_Aggr(geometry)\").alias(\n",
    "            \"union_geometry\"\n",
    "        ),  # Create union of all city points per country\n",
    "        expr(\"COUNT(*)\").alias(\"city_count\"),  # Count cities per country\n",
    "        expr(\"CAST(AVG(population) AS INT)\").alias(\n",
    "            \"avg_population\"\n",
    "        ),  # Calculate average population per country\n",
    "    )\n",
    ")\n",
    "\n",
    "country_unions.show()"
   ]
  },
  {
   "cell_type": "markdown",
   "id": "26",
   "metadata": {},
   "source": [
    "### Spatial Clustering Analysis"
   ]
  },
  {
   "cell_type": "code",
   "execution_count": null,
   "id": "27",
   "metadata": {},
   "outputs": [],
   "source": [
    "# Create a 2-degree geographic grid for clustering analysis\n",
    "grid_analysis = (\n",
    "    world_cities_spatial.filter(\n",
    "        col(\"population\") > 100000\n",
    "    )  # Focus on major cities only\n",
    "    .withColumn(\n",
    "        \"grid_x\", expr(\"floor(longitude / 2) * 2\")\n",
    "    )  # Create 2-degree longitude grid cells\n",
    "    .withColumn(\n",
    "        \"grid_y\", expr(\"floor(latitude / 2) * 2\")\n",
    "    )  # Create 2-degree latitude grid cells\n",
    "    .groupBy(\"grid_x\", \"grid_y\")  # Group cities by grid cell\n",
    "    .agg(\n",
    "        expr(\"COUNT(*)\").alias(\"city_count\"),  # Count cities in each grid cell\n",
    "        expr(\"SUM(population)\").alias(\n",
    "            \"total_population\"\n",
    "        ),  # Sum population in each grid cell\n",
    "        expr(\"ST_Centroid(ST_Union_Aggr(geometry))\").alias(\n",
    "            \"grid_center\"\n",
    "        ),  # Calculate center of city cluster\n",
    "    )\n",
    ")\n",
    "\n",
    "# Identify and display high-density urban clusters\n",
    "high_density_grids = grid_analysis.filter(\n",
    "    col(\"city_count\") >= 5\n",
    ")  # Grid cells with 5+ major cities\n",
    "high_density_grids.orderBy(col(\"city_count\").desc()).show()"
   ]
  },
  {
   "cell_type": "markdown",
   "id": "28",
   "metadata": {},
   "source": [
    "## Reading Vector Data\n",
    "\n",
    "### Reading CSV"
   ]
  },
  {
   "cell_type": "code",
   "execution_count": null,
   "id": "29",
   "metadata": {},
   "outputs": [],
   "source": [
    "# Read CSV file and create spatial geometries from coordinate columns\n",
    "cities_df = (\n",
    "    sedona.read.option(\"header\", True)  # CSV has header row\n",
    "    .format(\"CSV\")\n",
    "    .load(\"world_cities.csv\")\n",
    "    .withColumn(\n",
    "        \"geometry\", expr(\"ST_Point(longitude, latitude)\")\n",
    "    )  # Create point geometries from coords\n",
    ")\n",
    "cities_df.show()"
   ]
  },
  {
   "cell_type": "markdown",
   "id": "30",
   "metadata": {},
   "source": [
    "### Reading GeoJSON"
   ]
  },
  {
   "cell_type": "code",
   "execution_count": null,
   "id": "31",
   "metadata": {},
   "outputs": [],
   "source": [
    "# Read GeoJSON file - initial structure shows nested format\n",
    "cables_df = sedona.read.format(\"geojson\").load(\"cables.geojson\")\n",
    "cables_df.printSchema()"
   ]
  },
  {
   "cell_type": "code",
   "execution_count": null,
   "id": "32",
   "metadata": {},
   "outputs": [],
   "source": [
    "# Flatten GeoJSON structure for easier analysis\n",
    "cables_df = (\n",
    "    sedona.read.format(\"geojson\")\n",
    "    .load(\"cables.geojson\")\n",
    "    .selectExpr(\"explode(features) as features\")  # Expand the features array\n",
    "    .select(\"features.*\")  # Select all fields from features\n",
    "    .withColumn(\"id\", expr(\"properties['id']\"))  # Extract property fields\n",
    "    .withColumn(\"name\", expr(\"properties['name']\"))\n",
    "    .withColumn(\"color\", expr(\"properties['color']\"))\n",
    "    .drop(\"properties\")  # Remove nested properties object\n",
    "    .drop(\"type\")  # Remove type field\n",
    ")\n",
    "cables_df.show(5)"
   ]
  },
  {
   "cell_type": "markdown",
   "id": "33",
   "metadata": {},
   "source": [
    "### Reading Shapefiles"
   ]
  },
  {
   "cell_type": "code",
   "execution_count": null,
   "id": "34",
   "metadata": {},
   "outputs": [],
   "source": [
    "# Read shapefile directly into spatial DataFrame\n",
    "countries_df = sedona.read.format(\"shapefile\").load(\"countries.shp\")\n",
    "countries_df.show()"
   ]
  },
  {
   "cell_type": "markdown",
   "id": "35",
   "metadata": {},
   "source": [
    "### Reading GeoPackage"
   ]
  },
  {
   "cell_type": "code",
   "execution_count": null,
   "id": "36",
   "metadata": {},
   "outputs": [],
   "source": [
    "# Read specific table from GeoPackage file\n",
    "countries_df = (\n",
    "    sedona.read.format(\"geopackage\")\n",
    "    .option(\"tableName\", \"countries\")  # Specify the table/layer name\n",
    "    .load(\"countries.gpkg\")\n",
    ")\n",
    "countries_df.show()"
   ]
  },
  {
   "cell_type": "markdown",
   "id": "37",
   "metadata": {},
   "source": [
    "### Reading GeoParquet"
   ]
  },
  {
   "cell_type": "code",
   "execution_count": null,
   "id": "38",
   "metadata": {},
   "outputs": [],
   "source": [
    "# Read GeoParquet files - optimized for large datasets\n",
    "states_df = sedona.read.format(\"geoparquet\").load(\"us_states.parquet\")\n",
    "states_df.show()"
   ]
  },
  {
   "cell_type": "code",
   "execution_count": null,
   "id": "39",
   "metadata": {},
   "outputs": [],
   "source": [
    "# GeoParquet is excellent for point datasets like cities\n",
    "us_cities_df = sedona.read.format(\"geoparquet\").load(\"us_cities.parquet\")\n",
    "us_cities_df.show()"
   ]
  },
  {
   "cell_type": "markdown",
   "id": "40",
   "metadata": {},
   "source": [
    "### Reading Cloud-Stored Data"
   ]
  },
  {
   "cell_type": "code",
   "execution_count": null,
   "id": "41",
   "metadata": {},
   "outputs": [],
   "source": [
    "# Read individual state wetlands data from S3 (DC wetlands - smaller dataset for demonstration)\n",
    "url = \"s3a://us-west-2.opendata.source.coop/giswqs/nwi/wetlands/DC_Wetlands.parquet\"\n",
    "df = sedona.read.format(\"parquet\").load(url)"
   ]
  },
  {
   "cell_type": "code",
   "execution_count": null,
   "id": "42",
   "metadata": {},
   "outputs": [],
   "source": [
    "# Display basic information about the dataset\n",
    "df.show()"
   ]
  },
  {
   "cell_type": "code",
   "execution_count": null,
   "id": "43",
   "metadata": {},
   "outputs": [],
   "source": [
    "# Convert WKB geometry to readable WKT format for inspection\n",
    "df_wkt = df.withColumn(\"geometry\", expr(\"ST_AsText(ST_GeomFromWKB(geometry))\"))\n",
    "df_wkt.show()"
   ]
  },
  {
   "cell_type": "code",
   "execution_count": null,
   "id": "44",
   "metadata": {},
   "outputs": [],
   "source": [
    "# Read all state wetlands data using wildcard pattern (75.8 GB total)\n",
    "url = \"s3a://us-west-2.opendata.source.coop/giswqs/nwi/wetlands/*.parquet\"\n",
    "df = sedona.read.format(\"parquet\").load(url)"
   ]
  },
  {
   "cell_type": "code",
   "execution_count": null,
   "id": "45",
   "metadata": {},
   "outputs": [],
   "source": [
    "# Count total wetland features across all states\n",
    "# This operation may take several minutes due to the dataset size\n",
    "df.count()"
   ]
  },
  {
   "cell_type": "markdown",
   "id": "46",
   "metadata": {},
   "source": [
    "## Visualizing Vector Data\n",
    "\n",
    "### Using KeplerGL"
   ]
  },
  {
   "cell_type": "code",
   "execution_count": null,
   "id": "47",
   "metadata": {},
   "outputs": [],
   "source": [
    "# Configure the initial map view for global data\n",
    "config = {\n",
    "    \"mapState\": {\n",
    "        \"latitude\": 20,  # Center latitude\n",
    "        \"longitude\": 0,  # Center longitude (prime meridian)\n",
    "        \"zoom\": 1,  # Global zoom level\n",
    "        \"pitch\": 0,  # Map tilt angle\n",
    "        \"bearing\": 0,  # Map rotation\n",
    "    },\n",
    "}\n",
    "# Create initial map with cities data\n",
    "m = SedonaKepler.create_map(cities_df, name=\"Cities\", config=config)"
   ]
  },
  {
   "cell_type": "code",
   "execution_count": null,
   "id": "48",
   "metadata": {},
   "outputs": [],
   "source": [
    "# Add additional layer to the existing map\n",
    "SedonaKepler.add_df(m, countries_df, name=\"Countries\")"
   ]
  },
  {
   "cell_type": "code",
   "execution_count": null,
   "id": "49",
   "metadata": {},
   "outputs": [],
   "source": [
    "# Display the interactive map\n",
    "m"
   ]
  },
  {
   "cell_type": "markdown",
   "id": "50",
   "metadata": {},
   "source": [
    "### Using PyDeck"
   ]
  },
  {
   "cell_type": "code",
   "execution_count": null,
   "id": "51",
   "metadata": {},
   "outputs": [],
   "source": [
    "# Create 3D geometry visualization for country boundaries\n",
    "m = SedonaPyDeck.create_geometry_map(countries_df)\n",
    "m"
   ]
  },
  {
   "cell_type": "code",
   "execution_count": null,
   "id": "52",
   "metadata": {},
   "outputs": [],
   "source": [
    "# Create scatterplot visualization for cities with custom point size\n",
    "m = SedonaPyDeck.create_scatterplot_map(cities_df, radius_min_pixels=3)\n",
    "m"
   ]
  },
  {
   "cell_type": "markdown",
   "id": "53",
   "metadata": {},
   "source": [
    "## Writing Vector Data"
   ]
  },
  {
   "cell_type": "code",
   "execution_count": null,
   "id": "54",
   "metadata": {},
   "outputs": [],
   "source": [
    "# Load the wetlands data for processing\n",
    "url = \"s3a://us-west-2.opendata.source.coop/giswqs/nwi/wetlands/DC_Wetlands.parquet\"\n",
    "df = sedona.read.format(\"parquet\").load(url)\n",
    "df.show()"
   ]
  },
  {
   "cell_type": "code",
   "execution_count": null,
   "id": "55",
   "metadata": {},
   "outputs": [],
   "source": [
    "# Convert WKB geometry to Sedona geometry objects for spatial operations\n",
    "df = df.withColumn(\"geometry\", expr(\"ST_GeomFromWKB(geometry)\"))"
   ]
  },
  {
   "cell_type": "code",
   "execution_count": null,
   "id": "56",
   "metadata": {},
   "outputs": [],
   "source": [
    "# Write to GeoParquet format with optimized partitioning\n",
    "# Repartitioning to 10 partitions creates 10 output files for better performance\n",
    "df.repartition(10).write.format(\"geoparquet\").mode(\"overwrite\").save(\"DE_Wetlands\")"
   ]
  },
  {
   "cell_type": "code",
   "execution_count": null,
   "id": "57",
   "metadata": {},
   "outputs": [],
   "source": [
    "# Write to GeoJSON format for compatibility with web applications\n",
    "# GeoJSON is widely supported but less efficient for large datasets\n",
    "df.write.format(\"geojson\").mode(\"overwrite\").save(\"DE_Wetlands_GeoJSON\")"
   ]
  },
  {
   "cell_type": "markdown",
   "id": "58",
   "metadata": {},
   "source": [
    "## Reading Raster Data\n",
    "\n",
    "### Reading NetCDF"
   ]
  },
  {
   "cell_type": "code",
   "execution_count": null,
   "id": "59",
   "metadata": {},
   "outputs": [],
   "source": [
    "# Load NetCDF file as binary data\n",
    "df = sedona.read.format(\"binaryFile\").load(\"wind_global.nc\")\n",
    "\n",
    "# Extract metadata information to understand the file structure\n",
    "record_info_df = df.selectExpr(\"RS_NetCDFInfo(content) as record_info\")\n",
    "\n",
    "# Display metadata about variables, dimensions, and attributes\n",
    "record_info = record_info_df.first()[\"record_info\"]\n",
    "print(record_info)"
   ]
  },
  {
   "cell_type": "code",
   "execution_count": null,
   "id": "60",
   "metadata": {},
   "outputs": [],
   "source": [
    "# Extract the u_wind variable as a raster using lon/lat coordinates\n",
    "df = df.withColumn(\"raster\", expr(\"RS_FromNetCDF(content, 'u_wind', 'lon', 'lat')\"))\n",
    "df.show()"
   ]
  },
  {
   "cell_type": "markdown",
   "id": "61",
   "metadata": {},
   "source": [
    "### Reading GeoTIFF"
   ]
  },
  {
   "cell_type": "code",
   "execution_count": null,
   "id": "62",
   "metadata": {},
   "outputs": [],
   "source": [
    "dem_df = sedona.read.format(\"binaryFile\").load(\"dem_90m.tif\")\n",
    "dem_df = dem_df.withColumn(\"raster\", expr(\"RS_FromGeoTiff(content)\"))"
   ]
  },
  {
   "cell_type": "code",
   "execution_count": null,
   "id": "63",
   "metadata": {},
   "outputs": [],
   "source": [
    "dem_df.show()"
   ]
  },
  {
   "cell_type": "code",
   "execution_count": null,
   "id": "64",
   "metadata": {},
   "outputs": [],
   "source": [
    "# Create a temporary view to enable SQL operations on the raster data\n",
    "dem_df.createOrReplaceTempView(\"dem_df\")"
   ]
  },
  {
   "cell_type": "code",
   "execution_count": null,
   "id": "65",
   "metadata": {},
   "outputs": [],
   "source": [
    "# Tile the raster into 256x256 pixel chunks for distributed processing\n",
    "tiles_df = dem_df.selectExpr(\"RS_TileExplode(raster, 256, 256) as (x, y, raster)\")"
   ]
  },
  {
   "cell_type": "code",
   "execution_count": null,
   "id": "66",
   "metadata": {},
   "outputs": [],
   "source": [
    "# Display the tiled dataset - each row represents one tile\n",
    "tiles_df.show()"
   ]
  },
  {
   "cell_type": "markdown",
   "id": "67",
   "metadata": {},
   "source": [
    "## Visualizing Raster Data"
   ]
  },
  {
   "cell_type": "code",
   "execution_count": null,
   "id": "68",
   "metadata": {},
   "outputs": [],
   "source": [
    "# Convert raster data to image format for visualization\n",
    "htmlDF = dem_df.selectExpr(\"RS_AsImage(raster, 1000) as raster_image\")\n",
    "SedonaUtils.display_image(htmlDF)"
   ]
  },
  {
   "cell_type": "markdown",
   "id": "69",
   "metadata": {},
   "source": [
    "## Raster Map Algebra"
   ]
  },
  {
   "cell_type": "code",
   "execution_count": null,
   "id": "70",
   "metadata": {},
   "outputs": [],
   "source": [
    "dem_df.printSchema()"
   ]
  },
  {
   "cell_type": "code",
   "execution_count": null,
   "id": "71",
   "metadata": {},
   "outputs": [],
   "source": [
    "dem_df.createOrReplaceTempView(\"dem_df\")"
   ]
  },
  {
   "cell_type": "code",
   "execution_count": null,
   "id": "72",
   "metadata": {},
   "outputs": [],
   "source": [
    "# Create binary mask for areas above 2000m elevation using map algebra\n",
    "mountain = sedona.sql(\n",
    "    \"\"\"\n",
    "SELECT\n",
    "  RS_MapAlgebra(\n",
    "    raster,\n",
    "    'D',\n",
    "    'out = (rast[0] > 2000) ? 1 : 0;'\n",
    "  ) AS mountain\n",
    "FROM dem_df\n",
    "\"\"\"\n",
    ")"
   ]
  },
  {
   "cell_type": "code",
   "execution_count": null,
   "id": "73",
   "metadata": {},
   "outputs": [],
   "source": [
    "# Display the results of the map algebra operation\n",
    "mountain.show()"
   ]
  },
  {
   "cell_type": "code",
   "execution_count": null,
   "id": "74",
   "metadata": {},
   "outputs": [],
   "source": [
    "# Visualize the binary mountain mask\n",
    "htmlDF = mountain.selectExpr(\"RS_AsImage(mountain, 1000) as raster_image\")\n",
    "SedonaUtils.display_image(htmlDF)"
   ]
  },
  {
   "cell_type": "code",
   "execution_count": null,
   "id": "75",
   "metadata": {},
   "outputs": [],
   "source": [
    "# Save the mountain classification raster as a GeoTIFF file\n",
    "mountain.withColumn(\"raster_binary\", expr(\"RS_AsGeoTiff(mountain)\")).write.format(\n",
    "    \"raster\"\n",
    ").option(\"rasterField\", \"raster_binary\").option(\"fileExtension\", \".tiff\").mode(\n",
    "    \"overwrite\"\n",
    ").save(\n",
    "    \"mountain\"\n",
    ")"
   ]
  },
  {
   "cell_type": "markdown",
   "id": "76",
   "metadata": {},
   "source": [
    "## Raster Zonal Statistics"
   ]
  },
  {
   "cell_type": "code",
   "execution_count": null,
   "id": "77",
   "metadata": {},
   "outputs": [],
   "source": [
    "# Display the elevation raster structure for reference\n",
    "dem_df.show()"
   ]
  },
  {
   "cell_type": "code",
   "execution_count": null,
   "id": "78",
   "metadata": {},
   "outputs": [],
   "source": [
    "# Define a polygon representing a study area in the Sierra Nevada mountains\n",
    "polygon = \"POLYGON((-119.715885 37.995326, -118.452104 37.995326, -118.452104 37.373679, -119.715885 37.373679, -119.715885 37.995326))\""
   ]
  },
  {
   "cell_type": "code",
   "execution_count": null,
   "id": "79",
   "metadata": {},
   "outputs": [],
   "source": [
    "# Calculate average elevation within the study area polygon\n",
    "mount_elev = sedona.sql(\n",
    "    f\"\"\"\n",
    "select\n",
    "RS_ZonalStats(dem_df.raster, ST_Transform(\n",
    "    ST_GeomFromText('{polygon}'), 'EPSG:4326', 'EPSG:3857'\n",
    "    ), 1, 'avg', false, false) as avg_elev\n",
    "from dem_df\n",
    "\"\"\"\n",
    ")"
   ]
  },
  {
   "cell_type": "code",
   "execution_count": null,
   "id": "80",
   "metadata": {},
   "outputs": [],
   "source": [
    "# Display the calculated average elevation\n",
    "mount_elev.show()"
   ]
  },
  {
   "cell_type": "markdown",
   "id": "81",
   "metadata": {},
   "source": [
    "## Writing Raster Data"
   ]
  },
  {
   "cell_type": "code",
   "execution_count": null,
   "id": "82",
   "metadata": {},
   "outputs": [],
   "source": [
    "# Write the digital elevation model to GeoTIFF with compression\n",
    "dem_df.withColumn(\n",
    "    \"raster_binary\", expr(\"RS_AsGeoTiff(raster, 'LZW', '0.75')\")\n",
    ").write.format(\"raster\").option(\"rasterField\", \"raster_binary\").option(\n",
    "    \"pathField\", \"path\"\n",
    ").option(\n",
    "    \"fileExtension\", \".tiff\"\n",
    ").mode(\n",
    "    \"overwrite\"\n",
    ").save(\n",
    "    \"dem\"\n",
    ")"
   ]
  },
  {
   "cell_type": "code",
   "execution_count": null,
   "id": "83",
   "metadata": {},
   "outputs": [],
   "source": [
    "# Load NetCDF file containing global wind data\n",
    "netcdf_df = sedona.read.format(\"binaryFile\").load(\"wind_global.nc\")\n",
    "\n",
    "# Extract and display metadata to understand the data structure\n",
    "record_info_df = netcdf_df.selectExpr(\"RS_NetCDFInfo(content) as record_info\")\n",
    "\n",
    "# Display metadata information\n",
    "record_info = record_info_df.first()[\"record_info\"]\n",
    "print(record_info)"
   ]
  },
  {
   "cell_type": "code",
   "execution_count": null,
   "id": "84",
   "metadata": {},
   "outputs": [],
   "source": [
    "# Extract the u_wind component as a raster for analysis\n",
    "netcdf_df = netcdf_df.withColumn(\n",
    "    \"raster\", expr(\"RS_FromNetCDF(content, 'u_wind', 'lon', 'lat')\")\n",
    ")\n",
    "netcdf_df.show()"
   ]
  },
  {
   "cell_type": "markdown",
   "id": "85",
   "metadata": {},
   "source": [
    "## Integration with GeoPandas\n",
    "\n",
    "### From Sedona DataFrame to GeoPandas GeoDataFrame"
   ]
  },
  {
   "cell_type": "code",
   "execution_count": null,
   "id": "86",
   "metadata": {},
   "outputs": [],
   "source": [
    "# Load and create spatial data in Sedona format\n",
    "cities_df = (\n",
    "    sedona.read.option(\"header\", True)\n",
    "    .format(\"CSV\")\n",
    "    .load(\"world_cities.csv\")\n",
    "    .withColumn(\"geometry\", expr(\"ST_Point(longitude, latitude)\"))\n",
    ")\n",
    "cities_df.show()"
   ]
  },
  {
   "cell_type": "code",
   "execution_count": null,
   "id": "87",
   "metadata": {},
   "outputs": [],
   "source": [
    "# Convert Sedona DataFrame to GeoPandas GeoDataFrame\n",
    "df = cities_df.toPandas()  # Convert to Pandas DataFrame\n",
    "gdf = gpd.GeoDataFrame(df, geometry=\"geometry\")\n",
    "gdf.crs = \"EPSG:4326\"  # Set coordinate reference system"
   ]
  },
  {
   "cell_type": "code",
   "execution_count": null,
   "id": "88",
   "metadata": {},
   "outputs": [],
   "source": [
    "gdf.explore()"
   ]
  },
  {
   "cell_type": "markdown",
   "id": "89",
   "metadata": {},
   "source": [
    "### From Sedona DataFrame To GeoArrow"
   ]
  },
  {
   "cell_type": "code",
   "execution_count": null,
   "id": "90",
   "metadata": {},
   "outputs": [],
   "source": [
    "# Convert Sedona DataFrame to Apache Arrow format for efficient interchange\n",
    "arrow = dataframe_to_arrow(cities_df)\n",
    "arrow"
   ]
  },
  {
   "cell_type": "markdown",
   "id": "91",
   "metadata": {},
   "source": [
    "### From GeoPandas GeoDataFrame to Sedona DataFrame"
   ]
  },
  {
   "cell_type": "code",
   "execution_count": null,
   "id": "92",
   "metadata": {},
   "outputs": [],
   "source": [
    "# Load geospatial data using GeoPandas\n",
    "gdf = gpd.read_file(\"world_cities.geojson\")\n",
    "gdf.head()"
   ]
  },
  {
   "cell_type": "code",
   "execution_count": null,
   "id": "93",
   "metadata": {},
   "outputs": [],
   "source": [
    "# Check the coordinate reference system\n",
    "gdf.crs"
   ]
  },
  {
   "cell_type": "code",
   "execution_count": null,
   "id": "94",
   "metadata": {},
   "outputs": [],
   "source": [
    "# Convert GeoPandas GeoDataFrame directly to Sedona DataFrame\n",
    "# Sedona automatically handles the geometry conversion\n",
    "df = sedona.createDataFrame(gdf)\n",
    "df.show()"
   ]
  },
  {
   "cell_type": "markdown",
   "id": "95",
   "metadata": {},
   "source": [
    "### Advanced Integration: Converting Through GeoArrow"
   ]
  },
  {
   "cell_type": "code",
   "execution_count": null,
   "id": "96",
   "metadata": {},
   "outputs": [],
   "source": [
    "# Convert Sedona DataFrame to Arrow format\n",
    "arrow = dataframe_to_arrow(df)"
   ]
  },
  {
   "cell_type": "code",
   "execution_count": null,
   "id": "97",
   "metadata": {},
   "outputs": [],
   "source": [
    "# Convert Arrow format back to GeoPandas\n",
    "gdf = gpd.GeoDataFrame.from_arrow(arrow)"
   ]
  },
  {
   "cell_type": "code",
   "execution_count": null,
   "id": "98",
   "metadata": {},
   "outputs": [],
   "source": [
    "# Display the reconstructed GeoPandas DataFrame\n",
    "gdf.head()"
   ]
  },
  {
   "cell_type": "code",
   "execution_count": null,
   "id": "99",
   "metadata": {},
   "outputs": [],
   "source": [
    "# Convert back to Sedona for further distributed processing\n",
    "df = sedona.createDataFrame(gdf)\n",
    "df.show()"
   ]
  },
  {
   "cell_type": "markdown",
   "id": "100",
   "metadata": {},
   "source": [
    "### Custom Conversion Functions"
   ]
  },
  {
   "cell_type": "code",
   "execution_count": null,
   "id": "101",
   "metadata": {},
   "outputs": [],
   "source": [
    "# Custom function to convert Sedona DataFrame to GeoPandas with error handling\n",
    "def sedona_to_geopandas(sedona_df, geometry_col=\"geometry\"):\n",
    "    \"\"\"Convert Sedona DataFrame to GeoPandas DataFrame with robust error handling\"\"\"\n",
    "    # Convert spatial geometries to WKT format for transfer\n",
    "    with_wkt = sedona_df.withColumn(\"wkt_geom\", expr(f\"ST_AsText({geometry_col})\"))\n",
    "\n",
    "    # Convert to Pandas DataFrame\n",
    "    pandas_df = with_wkt.toPandas()\n",
    "\n",
    "    # Convert WKT strings to Shapely geometries\n",
    "    from shapely import wkt\n",
    "\n",
    "    pandas_df[\"geometry\"] = pandas_df[\"wkt_geom\"].apply(wkt.loads)\n",
    "\n",
    "    # Create GeoPandas GeoDataFrame\n",
    "    gdf = gpd.GeoDataFrame(pandas_df.drop(\"wkt_geom\", axis=1), geometry=\"geometry\")\n",
    "\n",
    "    return gdf\n",
    "\n",
    "\n",
    "# Example usage: convert filtered dataset to GeoPandas\n",
    "major_cities = world_cities_spatial.filter(col(\"population\") > 1000000)\n",
    "major_cities_gdf = sedona_to_geopandas(major_cities)\n",
    "\n",
    "print(f\"Converted {len(major_cities_gdf)} major cities to GeoPandas\")"
   ]
  },
  {
   "cell_type": "code",
   "execution_count": null,
   "id": "102",
   "metadata": {},
   "outputs": [],
   "source": [
    "# Display the converted major cities dataset\n",
    "major_cities_gdf"
   ]
  },
  {
   "cell_type": "markdown",
   "id": "103",
   "metadata": {},
   "source": [
    "## Real-World Use Cases\n",
    "\n",
    "### Use Case 1: Global Urban Density Analysis"
   ]
  },
  {
   "cell_type": "code",
   "execution_count": null,
   "id": "104",
   "metadata": {},
   "outputs": [],
   "source": [
    "# Analyze urban density patterns for cities with population > 500,000\n",
    "urban_analysis = (\n",
    "    world_cities_spatial.filter(col(\"population\") > 500000)  # Focus on major cities\n",
    "    .withColumn(\n",
    "        \"urban_density\",\n",
    "        col(\"population\")\n",
    "        / expr(\"ST_Area(ST_Buffer(geometry, 10000))\"),  # People per m² in 10km radius\n",
    "    )\n",
    "    .withColumn(\n",
    "        \"city_category\",\n",
    "        expr(\n",
    "            \"\"\"\n",
    "        CASE\n",
    "            WHEN population > 5000000 THEN 'Megacity'      -- Cities > 5M people\n",
    "            WHEN population > 1000000 THEN 'Large City'    -- Cities 1-5M people\n",
    "            ELSE 'Medium City'                              -- Cities 500K-1M people\n",
    "        END\n",
    "    \"\"\"\n",
    "        ),\n",
    "    )\n",
    ")\n",
    "\n",
    "# Calculate average density by city category\n",
    "urban_analysis.groupBy(\"city_category\").agg(\n",
    "    expr(\"count(*)\").alias(\"count\"),  # Number of cities in each category\n",
    "    expr(\"avg(urban_density)\").alias(\"avg_density\"),  # Average density per category\n",
    ").show()"
   ]
  },
  {
   "cell_type": "markdown",
   "id": "105",
   "metadata": {},
   "source": [
    "### Use Case 2: Transit Accessibility Assessment"
   ]
  },
  {
   "cell_type": "code",
   "execution_count": null,
   "id": "106",
   "metadata": {},
   "outputs": [],
   "source": [
    "# Analyze potential transit coverage for cities with population > 100,000\n",
    "transit_analysis = (\n",
    "    world_cities_spatial.filter(col(\"population\") > 100000)\n",
    "    .withColumn(\n",
    "        \"transit_coverage\",\n",
    "        expr(\"ST_Buffer(geometry, 1000)\"),  # 1km radius transit catchment area\n",
    "    )\n",
    "    .withColumn(\n",
    "        \"coverage_area_km2\",\n",
    "        expr(\"ST_Area(ST_Buffer(geometry, 1000)) / 1000000\"),  # Convert m² to km²\n",
    "    )\n",
    ")\n",
    "\n",
    "# Calculate global transit accessibility metrics\n",
    "accessibility_metrics = transit_analysis.agg(\n",
    "    expr(\"avg(coverage_area_km2)\").alias(\n",
    "        \"avg_coverage_area\"\n",
    "    ),  # Average coverage area per city\n",
    "    expr(\"sum(coverage_area_km2)\").alias(\n",
    "        \"total_coverage_area\"\n",
    "    ),  # Total potential coverage globally\n",
    ")\n",
    "\n",
    "accessibility_metrics.show()"
   ]
  },
  {
   "cell_type": "markdown",
   "id": "107",
   "metadata": {},
   "source": [
    "## Key Takeaways\n",
    "\n",
    "## References and Further Reading\n",
    "\n",
    "## Exercises\n",
    "\n",
    "### Exercise 1: Setting Up Sedona and Basic Spatial Operations"
   ]
  },
  {
   "cell_type": "code",
   "execution_count": null,
   "id": "108",
   "metadata": {},
   "outputs": [],
   "source": []
  },
  {
   "cell_type": "markdown",
   "id": "109",
   "metadata": {},
   "source": [
    "### Exercise 2: Working with Real Geospatial Data"
   ]
  },
  {
   "cell_type": "code",
   "execution_count": null,
   "id": "110",
   "metadata": {},
   "outputs": [],
   "source": []
  },
  {
   "cell_type": "markdown",
   "id": "111",
   "metadata": {},
   "source": [
    "### Exercise 3: Distance Analysis"
   ]
  },
  {
   "cell_type": "code",
   "execution_count": null,
   "id": "112",
   "metadata": {},
   "outputs": [],
   "source": []
  },
  {
   "cell_type": "markdown",
   "id": "113",
   "metadata": {},
   "source": [
    "### Exercise 4: Spatial Joins"
   ]
  },
  {
   "cell_type": "code",
   "execution_count": null,
   "id": "114",
   "metadata": {},
   "outputs": [],
   "source": []
  },
  {
   "cell_type": "markdown",
   "id": "115",
   "metadata": {},
   "source": [
    "### Exercise 5: Spatial Aggregation and Clustering"
   ]
  },
  {
   "cell_type": "code",
   "execution_count": null,
   "id": "116",
   "metadata": {},
   "outputs": [],
   "source": []
  },
  {
   "cell_type": "markdown",
   "id": "117",
   "metadata": {},
   "source": [
    "### Exercise 6: Buffer Analysis"
   ]
  },
  {
   "cell_type": "code",
   "execution_count": null,
   "id": "118",
   "metadata": {},
   "outputs": [],
   "source": []
  },
  {
   "cell_type": "markdown",
   "id": "119",
   "metadata": {},
   "source": [
    "### Exercise 7: Spatial SQL Queries"
   ]
  },
  {
   "cell_type": "code",
   "execution_count": null,
   "id": "120",
   "metadata": {},
   "outputs": [],
   "source": []
  },
  {
   "cell_type": "markdown",
   "id": "121",
   "metadata": {},
   "source": [
    "### Exercise 8: Advanced Spatial Analysis"
   ]
  },
  {
   "cell_type": "code",
   "execution_count": null,
   "id": "122",
   "metadata": {},
   "outputs": [],
   "source": []
  }
 ],
 "metadata": {
  "jupytext": {
   "default_lexer": "ipython3"
  },
  "kernelspec": {
   "display_name": "Python 3",
   "language": "python",
   "name": "python3"
  }
 },
 "nbformat": 4,
 "nbformat_minor": 5
}
