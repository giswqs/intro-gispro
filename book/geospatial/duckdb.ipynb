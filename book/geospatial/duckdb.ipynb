{
 "cells": [
  {
   "cell_type": "markdown",
   "id": "0",
   "metadata": {},
   "source": [
    "# High-Performance Geospatial Analytics with DuckDB\n",
    "\n",
    "## Introduction\n",
    "\n",
    "### What Makes DuckDB Special for Geospatial Work?\n",
    "\n",
    "## Learning Objectives\n",
    "\n",
    "## Installation and Setup\n",
    "\n",
    "### Installing Required Packages"
   ]
  },
  {
   "cell_type": "code",
   "execution_count": null,
   "id": "1",
   "metadata": {},
   "outputs": [],
   "source": [
    "# %pip install duckdb pygis"
   ]
  },
  {
   "cell_type": "markdown",
   "id": "2",
   "metadata": {},
   "source": [
    "### Library Import and Configuration"
   ]
  },
  {
   "cell_type": "code",
   "execution_count": null,
   "id": "3",
   "metadata": {},
   "outputs": [],
   "source": [
    "# Configure jupysql for optimal output\n",
    "%config SqlMagic.autopandas = True\n",
    "%config SqlMagic.feedback = False\n",
    "%config SqlMagic.displaycon = False"
   ]
  },
  {
   "cell_type": "code",
   "execution_count": null,
   "id": "4",
   "metadata": {},
   "outputs": [],
   "source": [
    "import duckdb\n",
    "import leafmap\n",
    "import pandas as pd\n",
    "\n",
    "# Import jupysql Jupyter extension for SQL magic commands\n",
    "%load_ext sql"
   ]
  },
  {
   "cell_type": "markdown",
   "id": "5",
   "metadata": {},
   "source": [
    "### Understanding DuckDB Connections"
   ]
  },
  {
   "cell_type": "code",
   "execution_count": null,
   "id": "6",
   "metadata": {},
   "outputs": [],
   "source": [
    "# Connect to in-memory database\n",
    "con = duckdb.connect()\n",
    "\n",
    "# Connect to persistent file-based database\n",
    "con = duckdb.connect(\"filename.db\")\n",
    "\n",
    "# Connect using SQL magic for jupyter notebooks\n",
    "%sql duckdb:///:memory:"
   ]
  },
  {
   "cell_type": "markdown",
   "id": "7",
   "metadata": {},
   "source": [
    "### Installing and Loading Extensions"
   ]
  },
  {
   "cell_type": "code",
   "execution_count": null,
   "id": "8",
   "metadata": {},
   "outputs": [],
   "source": [
    "# Install and load essential extensions\n",
    "con.install_extension(\"httpfs\")  # For remote file access\n",
    "con.load_extension(\"httpfs\")\n",
    "\n",
    "con.install_extension(\"spatial\")  # For spatial operations\n",
    "con.load_extension(\"spatial\")"
   ]
  },
  {
   "cell_type": "code",
   "execution_count": null,
   "id": "9",
   "metadata": {},
   "outputs": [],
   "source": [
    "con.sql(\"FROM duckdb_extensions();\")"
   ]
  },
  {
   "cell_type": "code",
   "execution_count": null,
   "id": "10",
   "metadata": {},
   "outputs": [],
   "source": [
    "con.sql(\"FROM duckdb_extensions();\").df()"
   ]
  },
  {
   "cell_type": "markdown",
   "id": "11",
   "metadata": {},
   "source": [
    "## SQL Basics for Spatial Analysis\n",
    "\n",
    "### Understanding SQL for Geospatial Work\n",
    "\n",
    "### Sample Datasets\n",
    "\n",
    "### Reading Data Directly from URLs"
   ]
  },
  {
   "cell_type": "code",
   "execution_count": null,
   "id": "12",
   "metadata": {},
   "outputs": [],
   "source": [
    "%%sql\n",
    "SELECT * FROM 'https://opengeos.org/data/duckdb/cities.csv';"
   ]
  },
  {
   "cell_type": "code",
   "execution_count": null,
   "id": "13",
   "metadata": {},
   "outputs": [],
   "source": [
    "%%sql\n",
    "SELECT * FROM 'https://opengeos.org/data/duckdb/countries.csv';"
   ]
  },
  {
   "cell_type": "markdown",
   "id": "14",
   "metadata": {},
   "source": [
    "### Creating Persistent Tables"
   ]
  },
  {
   "cell_type": "code",
   "execution_count": null,
   "id": "15",
   "metadata": {},
   "outputs": [],
   "source": [
    "%%sql\n",
    "CREATE OR REPLACE TABLE cities AS SELECT * FROM 'https://opengeos.org/data/duckdb/cities.csv';"
   ]
  },
  {
   "cell_type": "code",
   "execution_count": null,
   "id": "16",
   "metadata": {},
   "outputs": [],
   "source": [
    "%%sql\n",
    "CREATE OR REPLACE TABLE countries AS SELECT * FROM 'https://opengeos.org/data/duckdb/countries.csv';"
   ]
  },
  {
   "cell_type": "markdown",
   "id": "17",
   "metadata": {},
   "source": [
    "### Viewing Your Data"
   ]
  },
  {
   "cell_type": "code",
   "execution_count": null,
   "id": "18",
   "metadata": {},
   "outputs": [],
   "source": [
    "%%sql\n",
    "FROM cities;"
   ]
  },
  {
   "cell_type": "code",
   "execution_count": null,
   "id": "19",
   "metadata": {},
   "outputs": [],
   "source": [
    "%%sql\n",
    "FROM countries;"
   ]
  },
  {
   "cell_type": "markdown",
   "id": "20",
   "metadata": {},
   "source": [
    "### Essential SQL Commands\n",
    "\n",
    "#### Selecting Data"
   ]
  },
  {
   "cell_type": "code",
   "execution_count": null,
   "id": "21",
   "metadata": {},
   "outputs": [],
   "source": [
    "%%sql\n",
    "SELECT * FROM cities LIMIT 10;"
   ]
  },
  {
   "cell_type": "markdown",
   "id": "22",
   "metadata": {},
   "source": [
    "#### Choosing Specific Columns"
   ]
  },
  {
   "cell_type": "code",
   "execution_count": null,
   "id": "23",
   "metadata": {},
   "outputs": [],
   "source": [
    "%%sql\n",
    "SELECT name, country FROM cities LIMIT 10;"
   ]
  },
  {
   "cell_type": "markdown",
   "id": "24",
   "metadata": {},
   "source": [
    "#### Finding Unique Values"
   ]
  },
  {
   "cell_type": "code",
   "execution_count": null,
   "id": "25",
   "metadata": {},
   "outputs": [],
   "source": [
    "%%sql\n",
    "SELECT DISTINCT country FROM cities LIMIT 10;"
   ]
  },
  {
   "cell_type": "markdown",
   "id": "26",
   "metadata": {},
   "source": [
    "#### Counting and Aggregation"
   ]
  },
  {
   "cell_type": "code",
   "execution_count": null,
   "id": "27",
   "metadata": {},
   "outputs": [],
   "source": [
    "%%sql\n",
    "SELECT COUNT(*) FROM cities;"
   ]
  },
  {
   "cell_type": "code",
   "execution_count": null,
   "id": "28",
   "metadata": {},
   "outputs": [],
   "source": [
    "%%sql\n",
    "SELECT COUNT(DISTINCT country) FROM cities;"
   ]
  },
  {
   "cell_type": "code",
   "execution_count": null,
   "id": "29",
   "metadata": {},
   "outputs": [],
   "source": [
    "%%sql\n",
    "SELECT MAX(population) FROM cities;"
   ]
  },
  {
   "cell_type": "code",
   "execution_count": null,
   "id": "30",
   "metadata": {},
   "outputs": [],
   "source": [
    "%%sql\n",
    "SELECT MIN(population) FROM cities;"
   ]
  },
  {
   "cell_type": "code",
   "execution_count": null,
   "id": "31",
   "metadata": {},
   "outputs": [],
   "source": [
    "%%sql\n",
    "SELECT AVG(population) FROM cities;"
   ]
  },
  {
   "cell_type": "markdown",
   "id": "32",
   "metadata": {},
   "source": [
    "### Filtering and Sorting Data\n",
    "\n",
    "#### Filtering with WHERE Clauses"
   ]
  },
  {
   "cell_type": "code",
   "execution_count": null,
   "id": "33",
   "metadata": {},
   "outputs": [],
   "source": [
    "%%sql\n",
    "SELECT * FROM cities WHERE population > 1000000 LIMIT 10;"
   ]
  },
  {
   "cell_type": "markdown",
   "id": "34",
   "metadata": {},
   "source": [
    "#### Sorting Your Results"
   ]
  },
  {
   "cell_type": "code",
   "execution_count": null,
   "id": "35",
   "metadata": {},
   "outputs": [],
   "source": [
    "%%sql\n",
    "SELECT * FROM cities ORDER BY population DESC LIMIT 10;"
   ]
  },
  {
   "cell_type": "markdown",
   "id": "36",
   "metadata": {},
   "source": [
    "#### Grouping and Aggregating Data"
   ]
  },
  {
   "cell_type": "code",
   "execution_count": null,
   "id": "37",
   "metadata": {},
   "outputs": [],
   "source": [
    "%%sql\n",
    "SELECT country, COUNT(*) as city_count, AVG(population) as avg_population\n",
    "FROM cities\n",
    "GROUP BY country\n",
    "ORDER BY city_count DESC\n",
    "LIMIT 10;"
   ]
  },
  {
   "cell_type": "markdown",
   "id": "38",
   "metadata": {},
   "source": [
    "## Python API Integration\n",
    "\n",
    "### Understanding Result Formats"
   ]
  },
  {
   "cell_type": "code",
   "execution_count": null,
   "id": "39",
   "metadata": {},
   "outputs": [],
   "source": [
    "# Execute SQL and get different result formats\n",
    "con.sql(\"SELECT 42\").fetchall()  # Python objects"
   ]
  },
  {
   "cell_type": "code",
   "execution_count": null,
   "id": "40",
   "metadata": {},
   "outputs": [],
   "source": [
    "con.sql(\"SELECT 42\").df()  # Pandas DataFrame"
   ]
  },
  {
   "cell_type": "code",
   "execution_count": null,
   "id": "41",
   "metadata": {},
   "outputs": [],
   "source": [
    "con.sql(\"SELECT 42\").fetchnumpy()  # NumPy Arrays"
   ]
  },
  {
   "cell_type": "markdown",
   "id": "42",
   "metadata": {},
   "source": [
    "### Seamless DataFrame Integration"
   ]
  },
  {
   "cell_type": "code",
   "execution_count": null,
   "id": "43",
   "metadata": {},
   "outputs": [],
   "source": [
    "# Query Pandas DataFrames directly\n",
    "pandas_df = pd.DataFrame({\"a\": [42]})\n",
    "con.sql(\"SELECT * FROM pandas_df\")"
   ]
  },
  {
   "cell_type": "code",
   "execution_count": null,
   "id": "44",
   "metadata": {},
   "outputs": [],
   "source": [
    "# Convert remote data to DataFrame\n",
    "df = con.read_csv(\"https://opengeos.org/data/duckdb/cities.csv\").df()\n",
    "df.head()"
   ]
  },
  {
   "cell_type": "markdown",
   "id": "45",
   "metadata": {},
   "source": [
    "### Result Conversion and Export"
   ]
  },
  {
   "cell_type": "code",
   "execution_count": null,
   "id": "46",
   "metadata": {},
   "outputs": [],
   "source": [
    "# Write results to various formats\n",
    "con.sql(\"SELECT 42\").write_parquet(\"out.parquet\")\n",
    "con.sql(\"SELECT 42\").write_csv(\"out.csv\")\n",
    "con.sql(\"COPY (SELECT 42) TO 'out.parquet'\")"
   ]
  },
  {
   "cell_type": "markdown",
   "id": "47",
   "metadata": {},
   "source": [
    "### Persistent Storage"
   ]
  },
  {
   "cell_type": "code",
   "execution_count": null,
   "id": "48",
   "metadata": {},
   "outputs": [],
   "source": [
    "# Create persistent database connection\n",
    "# create a connection to a file called 'file.db'\n",
    "con_persistent = duckdb.connect(\"file.db\")\n",
    "# create a table and load data into it\n",
    "con_persistent.sql(\n",
    "    'CREATE TABLE IF NOT EXISTS cities AS FROM read_csv_auto(\"https://opengeos.org/data/duckdb/cities.csv\")'\n",
    ")\n",
    "# query the table\n",
    "con_persistent.table(\"cities\").show()"
   ]
  },
  {
   "cell_type": "code",
   "execution_count": null,
   "id": "49",
   "metadata": {},
   "outputs": [],
   "source": [
    "# explicitly close the connection\n",
    "con_persistent.close()"
   ]
  },
  {
   "cell_type": "code",
   "execution_count": null,
   "id": "50",
   "metadata": {},
   "outputs": [],
   "source": [
    "with duckdb.connect(\"file.db\") as con:\n",
    "    con.sql(\n",
    "        'CREATE TABLE IF NOT EXISTS cities AS FROM read_csv_auto(\"https://opengeos.org/data/duckdb/cities.csv\")'\n",
    "    )\n",
    "    con.table(\"cities\").show(max_rows=5)\n",
    "    # the context manager closes the connection automatically"
   ]
  },
  {
   "cell_type": "markdown",
   "id": "51",
   "metadata": {},
   "source": [
    "## Data Import\n",
    "\n",
    "### Understanding Data Formats in Geospatial Work\n",
    "\n",
    "### Downloading Sample Data"
   ]
  },
  {
   "cell_type": "code",
   "execution_count": null,
   "id": "52",
   "metadata": {},
   "outputs": [],
   "source": [
    "url = \"https://opengeos.org/data/duckdb/cities.zip\"\n",
    "leafmap.download_file(url, unzip=True)"
   ]
  },
  {
   "cell_type": "markdown",
   "id": "53",
   "metadata": {},
   "source": [
    "### Working with CSV Files"
   ]
  },
  {
   "cell_type": "code",
   "execution_count": null,
   "id": "54",
   "metadata": {},
   "outputs": [],
   "source": [
    "# Read CSV with auto-detection\n",
    "con = duckdb.connect()\n",
    "con.read_csv(\"cities.csv\")"
   ]
  },
  {
   "cell_type": "code",
   "execution_count": null,
   "id": "55",
   "metadata": {},
   "outputs": [],
   "source": [
    "# Read CSV with specific options\n",
    "con.read_csv(\"cities.csv\", header=True, sep=\",\")"
   ]
  },
  {
   "cell_type": "code",
   "execution_count": null,
   "id": "56",
   "metadata": {},
   "outputs": [],
   "source": [
    "# Use parallel CSV reader\n",
    "con.read_csv(\"cities.csv\", parallel=True)"
   ]
  },
  {
   "cell_type": "code",
   "execution_count": null,
   "id": "57",
   "metadata": {},
   "outputs": [],
   "source": [
    "# Read CSV directly in SQL\n",
    "con.sql(\"SELECT * FROM 'cities.csv'\")"
   ]
  },
  {
   "cell_type": "code",
   "execution_count": null,
   "id": "58",
   "metadata": {},
   "outputs": [],
   "source": [
    "# Call read_csv from within SQL\n",
    "con.sql(\"SELECT * FROM read_csv_auto('cities.csv')\")"
   ]
  },
  {
   "cell_type": "markdown",
   "id": "59",
   "metadata": {},
   "source": [
    "### JSON Files"
   ]
  },
  {
   "cell_type": "code",
   "execution_count": null,
   "id": "60",
   "metadata": {},
   "outputs": [],
   "source": [
    "# Read JSON files\n",
    "con.read_json(\"cities.json\")"
   ]
  },
  {
   "cell_type": "code",
   "execution_count": null,
   "id": "61",
   "metadata": {},
   "outputs": [],
   "source": [
    "# Read JSON directly in SQL\n",
    "con.sql(\"SELECT * FROM 'cities.json'\")"
   ]
  },
  {
   "cell_type": "code",
   "execution_count": null,
   "id": "62",
   "metadata": {},
   "outputs": [],
   "source": [
    "# Call read_json from within SQL\n",
    "con.sql(\"SELECT * FROM read_json_auto('cities.json')\")"
   ]
  },
  {
   "cell_type": "markdown",
   "id": "63",
   "metadata": {},
   "source": [
    "### DataFrames"
   ]
  },
  {
   "cell_type": "code",
   "execution_count": null,
   "id": "64",
   "metadata": {},
   "outputs": [],
   "source": [
    "df = pd.read_csv(\"cities.csv\")\n",
    "df"
   ]
  },
  {
   "cell_type": "code",
   "execution_count": null,
   "id": "65",
   "metadata": {},
   "outputs": [],
   "source": [
    "con.sql(\"SELECT * FROM df\").fetchall()"
   ]
  },
  {
   "cell_type": "markdown",
   "id": "66",
   "metadata": {},
   "source": [
    "### Parquet Files"
   ]
  },
  {
   "cell_type": "code",
   "execution_count": null,
   "id": "67",
   "metadata": {},
   "outputs": [],
   "source": [
    "# Read from a single Parquet file\n",
    "con.read_parquet(\"cities.parquet\")"
   ]
  },
  {
   "cell_type": "code",
   "execution_count": null,
   "id": "68",
   "metadata": {},
   "outputs": [],
   "source": [
    "# Read Parquet directly in SQL\n",
    "con.sql(\"SELECT * FROM 'cities.parquet'\")"
   ]
  },
  {
   "cell_type": "code",
   "execution_count": null,
   "id": "69",
   "metadata": {},
   "outputs": [],
   "source": [
    "# Call read_parquet from within SQL\n",
    "con.sql(\"SELECT * FROM read_parquet('cities.parquet')\")"
   ]
  },
  {
   "cell_type": "markdown",
   "id": "70",
   "metadata": {},
   "source": [
    "### Spatial Data Formats"
   ]
  },
  {
   "cell_type": "code",
   "execution_count": null,
   "id": "71",
   "metadata": {},
   "outputs": [],
   "source": [
    "con.load_extension(\"spatial\")"
   ]
  },
  {
   "cell_type": "code",
   "execution_count": null,
   "id": "72",
   "metadata": {},
   "outputs": [],
   "source": [
    "con.sql(\"SELECT * FROM ST_Drivers()\")"
   ]
  },
  {
   "cell_type": "code",
   "execution_count": null,
   "id": "73",
   "metadata": {},
   "outputs": [],
   "source": [
    "# Read GeoJSON\n",
    "con.sql(\"SELECT * FROM ST_Read('cities.geojson')\")"
   ]
  },
  {
   "cell_type": "code",
   "execution_count": null,
   "id": "74",
   "metadata": {},
   "outputs": [],
   "source": [
    "# Create spatial table from GeoJSON\n",
    "con.sql(\"CREATE TABLE cities AS SELECT * FROM ST_Read('cities.geojson')\")"
   ]
  },
  {
   "cell_type": "code",
   "execution_count": null,
   "id": "75",
   "metadata": {},
   "outputs": [],
   "source": [
    "con.table(\"cities\")"
   ]
  },
  {
   "cell_type": "code",
   "execution_count": null,
   "id": "76",
   "metadata": {},
   "outputs": [],
   "source": [
    "con.sql(\"SELECT * FROM ST_Read('cities.shp')\")"
   ]
  },
  {
   "cell_type": "code",
   "execution_count": null,
   "id": "77",
   "metadata": {},
   "outputs": [],
   "source": [
    "con.sql(\n",
    "    \"\"\"\n",
    "        CREATE TABLE IF NOT EXISTS cities2 AS\n",
    "        SELECT * FROM ST_Read('cities.shp')\n",
    "        \"\"\"\n",
    ")"
   ]
  },
  {
   "cell_type": "code",
   "execution_count": null,
   "id": "78",
   "metadata": {},
   "outputs": [],
   "source": [
    "con.table(\"cities2\")"
   ]
  },
  {
   "cell_type": "markdown",
   "id": "79",
   "metadata": {},
   "source": [
    "## Data Export\n",
    "\n",
    "### Sample Spatial Data Setup"
   ]
  },
  {
   "cell_type": "code",
   "execution_count": null,
   "id": "80",
   "metadata": {},
   "outputs": [],
   "source": [
    "con = duckdb.connect()\n",
    "con.load_extension(\"spatial\")\n",
    "con.sql(\n",
    "    \"\"\"\n",
    "CREATE TABLE IF NOT EXISTS cities AS\n",
    "FROM 'https://opengeos.org/data/duckdb/cities.parquet'\n",
    "\"\"\"\n",
    ")"
   ]
  },
  {
   "cell_type": "code",
   "execution_count": null,
   "id": "81",
   "metadata": {},
   "outputs": [],
   "source": [
    "con.table(\"cities\").show()"
   ]
  },
  {
   "cell_type": "markdown",
   "id": "82",
   "metadata": {},
   "source": [
    "### Export to DataFrames"
   ]
  },
  {
   "cell_type": "code",
   "execution_count": null,
   "id": "83",
   "metadata": {},
   "outputs": [],
   "source": [
    "con.table(\"cities\").df()"
   ]
  },
  {
   "cell_type": "markdown",
   "id": "84",
   "metadata": {},
   "source": [
    "### Export to Files"
   ]
  },
  {
   "cell_type": "code",
   "execution_count": null,
   "id": "85",
   "metadata": {},
   "outputs": [],
   "source": [
    "# Export to CSV\n",
    "con.sql(\"COPY cities TO 'cities.csv' (HEADER, DELIMITER ',')\")"
   ]
  },
  {
   "cell_type": "code",
   "execution_count": null,
   "id": "86",
   "metadata": {},
   "outputs": [],
   "source": [
    "con.sql(\n",
    "    \"COPY (SELECT * FROM cities WHERE country='USA') TO 'cities_us.csv' (HEADER, DELIMITER ',')\"\n",
    ")"
   ]
  },
  {
   "cell_type": "markdown",
   "id": "87",
   "metadata": {},
   "source": [
    "### Export to JSON"
   ]
  },
  {
   "cell_type": "code",
   "execution_count": null,
   "id": "88",
   "metadata": {},
   "outputs": [],
   "source": [
    "con.sql(\"COPY cities TO 'cities.json'\")"
   ]
  },
  {
   "cell_type": "code",
   "execution_count": null,
   "id": "89",
   "metadata": {},
   "outputs": [],
   "source": [
    "con.sql(\"COPY (SELECT * FROM cities WHERE country='USA') TO 'cities_us.json'\")"
   ]
  },
  {
   "cell_type": "markdown",
   "id": "90",
   "metadata": {},
   "source": [
    "### Export to Excel"
   ]
  },
  {
   "cell_type": "code",
   "execution_count": null,
   "id": "91",
   "metadata": {},
   "outputs": [],
   "source": [
    "con.sql(\n",
    "    \"COPY (SELECT * EXCLUDE geometry FROM cities) TO 'cities.xlsx' WITH (FORMAT GDAL, DRIVER 'XLSX')\"\n",
    ")"
   ]
  },
  {
   "cell_type": "markdown",
   "id": "92",
   "metadata": {},
   "source": [
    "### Export to Parquet"
   ]
  },
  {
   "cell_type": "code",
   "execution_count": null,
   "id": "93",
   "metadata": {},
   "outputs": [],
   "source": [
    "con.sql(\"COPY cities TO 'cities.parquet' (FORMAT PARQUET)\")"
   ]
  },
  {
   "cell_type": "code",
   "execution_count": null,
   "id": "94",
   "metadata": {},
   "outputs": [],
   "source": [
    "con.sql(\n",
    "    \"COPY (SELECT * FROM cities WHERE country='USA') TO 'cities_us.parquet' (FORMAT PARQUET)\"\n",
    ")"
   ]
  },
  {
   "cell_type": "markdown",
   "id": "95",
   "metadata": {},
   "source": [
    "### Export Spatial Formats"
   ]
  },
  {
   "cell_type": "code",
   "execution_count": null,
   "id": "96",
   "metadata": {},
   "outputs": [],
   "source": [
    "# Export to GeoJSON\n",
    "con.sql(\"COPY cities TO 'cities.geojson' WITH (FORMAT GDAL, DRIVER 'GeoJSON')\")"
   ]
  },
  {
   "cell_type": "code",
   "execution_count": null,
   "id": "97",
   "metadata": {},
   "outputs": [],
   "source": [
    "con.sql(\n",
    "    \"COPY (SELECT * FROM cities WHERE country='USA') TO 'cities_us.geojson' WITH (FORMAT GDAL, DRIVER 'GeoJSON')\"\n",
    ")"
   ]
  },
  {
   "cell_type": "code",
   "execution_count": null,
   "id": "98",
   "metadata": {},
   "outputs": [],
   "source": [
    "# Export to Shapefile\n",
    "con.sql(\"COPY cities TO 'cities.shp' WITH (FORMAT GDAL, DRIVER 'ESRI Shapefile')\")"
   ]
  },
  {
   "cell_type": "code",
   "execution_count": null,
   "id": "99",
   "metadata": {},
   "outputs": [],
   "source": [
    "# Export to GeoPackage\n",
    "con.sql(\"COPY cities TO 'cities.gpkg' WITH (FORMAT GDAL, DRIVER 'GPKG')\")"
   ]
  },
  {
   "cell_type": "markdown",
   "id": "100",
   "metadata": {},
   "source": [
    "## Working with Geometries\n",
    "\n",
    "### Understanding Spatial Data Types\n",
    "\n",
    "### Sample Data Setup"
   ]
  },
  {
   "cell_type": "code",
   "execution_count": null,
   "id": "101",
   "metadata": {},
   "outputs": [],
   "source": [
    "# Download NYC sample data\n",
    "url = \"https://opengeos.org/data/duckdb/nyc_data.db.zip\"\n",
    "leafmap.download_file(url, unzip=True)"
   ]
  },
  {
   "cell_type": "code",
   "execution_count": null,
   "id": "102",
   "metadata": {},
   "outputs": [],
   "source": [
    "# Connect to spatial database\n",
    "con = duckdb.connect(\"nyc_data.db\")\n",
    "con.install_extension(\"spatial\")\n",
    "con.load_extension(\"spatial\")"
   ]
  },
  {
   "cell_type": "code",
   "execution_count": null,
   "id": "103",
   "metadata": {},
   "outputs": [],
   "source": [
    "con.sql(\"SHOW TABLES;\")"
   ]
  },
  {
   "cell_type": "markdown",
   "id": "104",
   "metadata": {},
   "source": [
    "### Creating and Understanding Geometries"
   ]
  },
  {
   "cell_type": "code",
   "execution_count": null,
   "id": "105",
   "metadata": {},
   "outputs": [],
   "source": [
    "con.sql(\n",
    "    \"\"\"\n",
    "\n",
    "CREATE or REPLACE TABLE samples (name VARCHAR, geom GEOMETRY);\n",
    "\n",
    "INSERT INTO samples VALUES\n",
    "  ('Point', ST_GeomFromText('POINT(-100 40)')),\n",
    "  ('Linestring', ST_GeomFromText('LINESTRING(0 0, 1 1, 2 1, 2 2)')),\n",
    "  ('Polygon', ST_GeomFromText('POLYGON((0 0, 1 0, 1 1, 0 1, 0 0))')),\n",
    "  ('PolygonWithHole', ST_GeomFromText('POLYGON((0 0, 10 0, 10 10, 0 10, 0 0),(1 1, 1 2, 2 2, 2 1, 1 1))')),\n",
    "  ('Collection', ST_GeomFromText('GEOMETRYCOLLECTION(POINT(2 0),POLYGON((0 0, 1 0, 1 1, 0 1, 0 0)))'));\n",
    "\n",
    "SELECT * FROM samples;\n",
    "\n",
    "  \"\"\"\n",
    ")"
   ]
  },
  {
   "cell_type": "code",
   "execution_count": null,
   "id": "106",
   "metadata": {},
   "outputs": [],
   "source": [
    "con.sql(\"SELECT name, ST_AsText(geom) AS geometry FROM samples;\")"
   ]
  },
  {
   "cell_type": "code",
   "execution_count": null,
   "id": "107",
   "metadata": {},
   "outputs": [],
   "source": [
    "con.sql(\n",
    "    \"\"\"\n",
    "COPY samples TO 'samples.geojson' (FORMAT GDAL, DRIVER GeoJSON);\n",
    "\"\"\"\n",
    ")"
   ]
  },
  {
   "cell_type": "markdown",
   "id": "108",
   "metadata": {},
   "source": [
    "### Working with Points"
   ]
  },
  {
   "cell_type": "code",
   "execution_count": null,
   "id": "109",
   "metadata": {},
   "outputs": [],
   "source": [
    "con.sql(\n",
    "    \"\"\"\n",
    "SELECT ST_AsText(geom)\n",
    "  FROM samples\n",
    "  WHERE name = 'Point';\n",
    "\"\"\"\n",
    ")"
   ]
  },
  {
   "cell_type": "code",
   "execution_count": null,
   "id": "110",
   "metadata": {},
   "outputs": [],
   "source": [
    "con.sql(\n",
    "    \"\"\"\n",
    "SELECT ST_X(geom), ST_Y(geom)\n",
    "  FROM samples\n",
    "  WHERE name = 'Point';\n",
    "\"\"\"\n",
    ")"
   ]
  },
  {
   "cell_type": "code",
   "execution_count": null,
   "id": "111",
   "metadata": {},
   "outputs": [],
   "source": [
    "con.sql(\n",
    "    \"\"\"\n",
    "SELECT * FROM nyc_subway_stations\n",
    "\"\"\"\n",
    ")"
   ]
  },
  {
   "cell_type": "code",
   "execution_count": null,
   "id": "112",
   "metadata": {},
   "outputs": [],
   "source": [
    "con.sql(\n",
    "    \"\"\"\n",
    "SELECT name, ST_AsText(geom)\n",
    "  FROM nyc_subway_stations\n",
    "  LIMIT 10;\n",
    "\"\"\"\n",
    ")"
   ]
  },
  {
   "cell_type": "markdown",
   "id": "113",
   "metadata": {},
   "source": [
    "### Working with LineStrings"
   ]
  },
  {
   "cell_type": "code",
   "execution_count": null,
   "id": "114",
   "metadata": {},
   "outputs": [],
   "source": [
    "con.sql(\n",
    "    \"\"\"\n",
    "SELECT ST_AsText(geom)\n",
    "  FROM samples\n",
    "  WHERE name = 'Linestring';\n",
    "\"\"\"\n",
    ")"
   ]
  },
  {
   "cell_type": "code",
   "execution_count": null,
   "id": "115",
   "metadata": {},
   "outputs": [],
   "source": [
    "con.sql(\n",
    "    \"\"\"\n",
    "SELECT ST_Length(geom)\n",
    "  FROM samples\n",
    "  WHERE name = 'Linestring';\n",
    "\"\"\"\n",
    ")"
   ]
  },
  {
   "cell_type": "markdown",
   "id": "116",
   "metadata": {},
   "source": [
    "### Working with Polygons"
   ]
  },
  {
   "cell_type": "code",
   "execution_count": null,
   "id": "117",
   "metadata": {},
   "outputs": [],
   "source": [
    "con.sql(\n",
    "    \"\"\"\n",
    "SELECT ST_AsText(geom)\n",
    "  FROM samples\n",
    "  WHERE name = 'Polygon';\n",
    "\"\"\"\n",
    ")"
   ]
  },
  {
   "cell_type": "code",
   "execution_count": null,
   "id": "118",
   "metadata": {},
   "outputs": [],
   "source": [
    "con.sql(\n",
    "    \"\"\"\n",
    "SELECT\n",
    "    ST_Area(geom) as area,\n",
    "    ST_Perimeter(geom) as perimeter\n",
    "FROM samples\n",
    "WHERE name = 'Polygon';\n",
    "\"\"\"\n",
    ")"
   ]
  },
  {
   "cell_type": "markdown",
   "id": "119",
   "metadata": {},
   "source": [
    "## Spatial Relationships\n",
    "\n",
    "### Understanding Spatial Predicates\n",
    "\n",
    "### Working with Real Spatial Data"
   ]
  },
  {
   "cell_type": "code",
   "execution_count": null,
   "id": "120",
   "metadata": {},
   "outputs": [],
   "source": [
    "# Find subway station\n",
    "con.sql(\n",
    "    \"\"\"\n",
    "SELECT name, geom\n",
    "FROM nyc_subway_stations\n",
    "WHERE name = 'Broad St';\n",
    "\"\"\"\n",
    ")"
   ]
  },
  {
   "cell_type": "markdown",
   "id": "121",
   "metadata": {},
   "source": [
    "### Testing Spatial Equality"
   ]
  },
  {
   "cell_type": "code",
   "execution_count": null,
   "id": "122",
   "metadata": {},
   "outputs": [],
   "source": [
    "# Test spatial equality\n",
    "con.sql(\n",
    "    \"\"\"\n",
    "SELECT name\n",
    "FROM nyc_subway_stations\n",
    "WHERE ST_Equals(geom, ST_GeomFromText('POINT (583571.9059213118 4506714.341192182)'));\n",
    "\"\"\"\n",
    ")"
   ]
  },
  {
   "cell_type": "markdown",
   "id": "123",
   "metadata": {},
   "source": [
    "### Point-in-Polygon Analysis"
   ]
  },
  {
   "cell_type": "code",
   "execution_count": null,
   "id": "124",
   "metadata": {},
   "outputs": [],
   "source": [
    "con.sql(\"FROM nyc_neighborhoods LIMIT 5\")"
   ]
  },
  {
   "cell_type": "code",
   "execution_count": null,
   "id": "125",
   "metadata": {},
   "outputs": [],
   "source": [
    "# Find neighborhood containing a point\n",
    "con.sql(\n",
    "    \"\"\"\n",
    "SELECT name, boroname\n",
    "FROM nyc_neighborhoods\n",
    "WHERE ST_Intersects(geom, ST_GeomFromText('POINT(583571 4506714)'));\n",
    "\"\"\"\n",
    ")"
   ]
  },
  {
   "cell_type": "markdown",
   "id": "126",
   "metadata": {},
   "source": [
    "### Proximity Analysis with Distance"
   ]
  },
  {
   "cell_type": "code",
   "execution_count": null,
   "id": "127",
   "metadata": {},
   "outputs": [],
   "source": [
    "# Find features within distance\n",
    "con.sql(\n",
    "    \"\"\"\n",
    "SELECT COUNT(*) as nearby_stations\n",
    "FROM nyc_subway_stations\n",
    "WHERE ST_DWithin(geom, ST_GeomFromText('POINT(583571 4506714)'), 500);\n",
    "\"\"\"\n",
    ")"
   ]
  },
  {
   "cell_type": "markdown",
   "id": "128",
   "metadata": {},
   "source": [
    "## Spatial Joins\n",
    "\n",
    "### Understanding Spatial vs. Regular Joins\n",
    "\n",
    "### Exploring Our Data"
   ]
  },
  {
   "cell_type": "code",
   "execution_count": null,
   "id": "129",
   "metadata": {},
   "outputs": [],
   "source": [
    "con.sql(\"FROM nyc_neighborhoods SELECT * LIMIT 5;\")"
   ]
  },
  {
   "cell_type": "code",
   "execution_count": null,
   "id": "130",
   "metadata": {},
   "outputs": [],
   "source": [
    "con.sql(\"FROM nyc_subway_stations SELECT * LIMIT 5;\")"
   ]
  },
  {
   "cell_type": "markdown",
   "id": "131",
   "metadata": {},
   "source": [
    "### Your First Spatial Join"
   ]
  },
  {
   "cell_type": "code",
   "execution_count": null,
   "id": "132",
   "metadata": {},
   "outputs": [],
   "source": [
    "# Find subway stations and their neighborhoods\n",
    "con.sql(\n",
    "    \"\"\"\n",
    "SELECT\n",
    "  subways.name AS subway_name,\n",
    "  neighborhoods.name AS neighborhood_name,\n",
    "  neighborhoods.boroname AS borough\n",
    "FROM nyc_neighborhoods AS neighborhoods\n",
    "JOIN nyc_subway_stations AS subways\n",
    "ON ST_Intersects(neighborhoods.geom, subways.geom)\n",
    "WHERE subways.NAME = 'Broad St';\n",
    "\"\"\"\n",
    ")"
   ]
  },
  {
   "cell_type": "markdown",
   "id": "133",
   "metadata": {},
   "source": [
    "### Advanced Spatial Analysis"
   ]
  },
  {
   "cell_type": "code",
   "execution_count": null,
   "id": "134",
   "metadata": {},
   "outputs": [],
   "source": [
    "con.sql(\n",
    "    \"\"\"\n",
    "SELECT DISTINCT COLOR FROM nyc_subway_stations;\n",
    "\"\"\"\n",
    ")"
   ]
  },
  {
   "cell_type": "code",
   "execution_count": null,
   "id": "135",
   "metadata": {},
   "outputs": [],
   "source": [
    "# Find RED subway stations and their neighborhoods\n",
    "con.sql(\n",
    "    \"\"\"\n",
    "SELECT\n",
    "  subways.name AS subway_name,\n",
    "  neighborhoods.name AS neighborhood_name,\n",
    "  neighborhoods.boroname AS borough\n",
    "FROM nyc_neighborhoods AS neighborhoods\n",
    "JOIN nyc_subway_stations AS subways\n",
    "ON ST_Intersects(neighborhoods.geom, subways.geom)\n",
    "WHERE subways.color = 'RED';\n",
    "\"\"\"\n",
    ")"
   ]
  },
  {
   "cell_type": "markdown",
   "id": "136",
   "metadata": {},
   "source": [
    "### Distance-Based Analysis"
   ]
  },
  {
   "cell_type": "code",
   "execution_count": null,
   "id": "137",
   "metadata": {},
   "outputs": [],
   "source": [
    "# Get baseline demographics\n",
    "con.sql(\n",
    "    \"\"\"\n",
    "SELECT\n",
    "  100.0 * Sum(popn_white) / Sum(popn_total) AS white_pct,\n",
    "  100.0 * Sum(popn_black) / Sum(popn_total) AS black_pct,\n",
    "  Sum(popn_total) AS popn_total\n",
    "FROM nyc_census_blocks;\n",
    "\"\"\"\n",
    ")"
   ]
  },
  {
   "cell_type": "code",
   "execution_count": null,
   "id": "138",
   "metadata": {},
   "outputs": [],
   "source": [
    "con.sql(\n",
    "    \"\"\"\n",
    "SELECT DISTINCT routes\n",
    "FROM nyc_subway_stations AS subways\n",
    "WHERE strpos(subways.routes,'A') > 0;\n",
    "\"\"\"\n",
    ")"
   ]
  },
  {
   "cell_type": "code",
   "execution_count": null,
   "id": "139",
   "metadata": {},
   "outputs": [],
   "source": [
    "# Demographics within 200 meters of A-train\n",
    "con.sql(\n",
    "    \"\"\"\n",
    "SELECT\n",
    "  100.0 * Sum(popn_white) / Sum(popn_total) AS white_pct,\n",
    "  100.0 * Sum(popn_black) / Sum(popn_total) AS black_pct,\n",
    "  Sum(popn_total) AS popn_total\n",
    "FROM nyc_census_blocks AS census\n",
    "JOIN nyc_subway_stations AS subways\n",
    "ON ST_DWithin(census.geom, subways.geom, 200)\n",
    "WHERE strpos(subways.routes,'A') > 0;\n",
    "\"\"\"\n",
    ")"
   ]
  },
  {
   "cell_type": "markdown",
   "id": "140",
   "metadata": {},
   "source": [
    "### Advanced Multi-Table Joins"
   ]
  },
  {
   "cell_type": "code",
   "execution_count": null,
   "id": "141",
   "metadata": {},
   "outputs": [],
   "source": [
    "# Create subway lines reference table\n",
    "con.sql(\n",
    "    \"\"\"\n",
    "CREATE OR REPLACE TABLE subway_lines ( route char(1) );\n",
    "INSERT INTO subway_lines (route) VALUES\n",
    "  ('A'),('B'),('C'),('D'),('E'),('F'),('G'),\n",
    "  ('J'),('L'),('M'),('N'),('Q'),('R'),('S'),\n",
    "  ('Z'),('1'),('2'),('3'),('4'),('5'),('6'),\n",
    "  ('7');\n",
    "\"\"\"\n",
    ")"
   ]
  },
  {
   "cell_type": "code",
   "execution_count": null,
   "id": "142",
   "metadata": {},
   "outputs": [],
   "source": [
    "# Analyze demographics by subway line\n",
    "con.sql(\n",
    "    \"\"\"\n",
    "SELECT\n",
    "  lines.route,\n",
    "  100.0 * Sum(popn_white) / Sum(popn_total) AS white_pct,\n",
    "  100.0 * Sum(popn_black) / Sum(popn_total) AS black_pct,\n",
    "  Sum(popn_total) AS popn_total\n",
    "FROM nyc_census_blocks AS census\n",
    "JOIN nyc_subway_stations AS subways\n",
    "ON ST_DWithin(census.geom, subways.geom, 200)\n",
    "JOIN subway_lines AS lines\n",
    "ON strpos(subways.routes, lines.route) > 0\n",
    "GROUP BY lines.route\n",
    "ORDER BY black_pct DESC;\n",
    "\"\"\"\n",
    ")"
   ]
  },
  {
   "cell_type": "markdown",
   "id": "143",
   "metadata": {},
   "source": [
    "## Large-Scale Data Analysis\n",
    "\n",
    "### Analyzing the National Wetlands Inventory"
   ]
  },
  {
   "cell_type": "code",
   "execution_count": null,
   "id": "144",
   "metadata": {},
   "outputs": [],
   "source": [
    "# Connect and prepare for large-scale analysis\n",
    "con = duckdb.connect()\n",
    "con.install_extension(\"spatial\")\n",
    "con.load_extension(\"spatial\")"
   ]
  },
  {
   "cell_type": "code",
   "execution_count": null,
   "id": "145",
   "metadata": {},
   "outputs": [],
   "source": [
    "# Analyze single state data\n",
    "state = \"DC\"  # Change to the US State of your choice\n",
    "url = f\"https://data.source.coop/giswqs/nwi/wetlands/{state}_Wetlands.parquet\"\n",
    "con.sql(f\"SELECT * FROM '{url}'\")"
   ]
  },
  {
   "cell_type": "code",
   "execution_count": null,
   "id": "146",
   "metadata": {},
   "outputs": [],
   "source": [
    "# Inspect the table schema\n",
    "con.sql(f\"DESCRIBE FROM '{url}'\")"
   ]
  },
  {
   "cell_type": "markdown",
   "id": "147",
   "metadata": {},
   "source": [
    "### Scaling Up: Nationwide Wetland Analysis\n",
    "\n",
    "#### Count the Total Number of Wetlands"
   ]
  },
  {
   "cell_type": "code",
   "execution_count": null,
   "id": "148",
   "metadata": {},
   "outputs": [],
   "source": [
    "con.sql(\n",
    "    f\"\"\"\n",
    "SELECT COUNT(*) AS Count\n",
    "FROM 's3://us-west-2.opendata.source.coop/giswqs/nwi/wetlands/*.parquet'\n",
    "\"\"\"\n",
    ")"
   ]
  },
  {
   "cell_type": "markdown",
   "id": "149",
   "metadata": {},
   "source": [
    "#### Count Wetlands by State"
   ]
  },
  {
   "cell_type": "code",
   "execution_count": null,
   "id": "150",
   "metadata": {},
   "outputs": [],
   "source": [
    "# Count wetlands by state using filename\n",
    "df = con.sql(\n",
    "    f\"\"\"\n",
    "SELECT filename, COUNT(*) AS Count\n",
    "FROM read_parquet('s3://us-west-2.opendata.source.coop/giswqs/nwi/wetlands/*.parquet', filename=true)\n",
    "GROUP BY filename\n",
    "ORDER BY COUNT(*) DESC;\n",
    "\"\"\"\n",
    ").df()\n",
    "df.head()"
   ]
  },
  {
   "cell_type": "code",
   "execution_count": null,
   "id": "151",
   "metadata": {},
   "outputs": [],
   "source": [
    "# Extract state codes from filenames\n",
    "count_df = con.sql(\n",
    "    f\"\"\"\n",
    "SELECT SUBSTRING(filename, LENGTH(filename) - 18, 2) AS State, COUNT(*) AS Count\n",
    "FROM read_parquet('s3://us-west-2.opendata.source.coop/giswqs/nwi/wetlands/*.parquet', filename=true)\n",
    "GROUP BY State\n",
    "ORDER BY COUNT(*) DESC;\n",
    "\"\"\"\n",
    ").df()\n",
    "count_df.head(10)"
   ]
  },
  {
   "cell_type": "code",
   "execution_count": null,
   "id": "152",
   "metadata": {},
   "outputs": [],
   "source": [
    "# Create a wetlands table from the DataFrame\n",
    "con.sql(\"CREATE OR REPLACE TABLE wetlands AS FROM count_df\")\n",
    "con.sql(\"FROM wetlands\")"
   ]
  },
  {
   "cell_type": "markdown",
   "id": "153",
   "metadata": {},
   "source": [
    "### Mapping Wetland Counts by State"
   ]
  },
  {
   "cell_type": "code",
   "execution_count": null,
   "id": "154",
   "metadata": {},
   "outputs": [],
   "source": [
    "# Create states table with geometries\n",
    "url = \"https://opengeos.org/data/us/us_states.parquet\"\n",
    "con.sql(\n",
    "    f\"\"\"\n",
    "CREATE OR REPLACE TABLE states AS\n",
    "SELECT * FROM '{url}'\n",
    "\"\"\"\n",
    ")"
   ]
  },
  {
   "cell_type": "code",
   "execution_count": null,
   "id": "155",
   "metadata": {},
   "outputs": [],
   "source": [
    "con.sql(\n",
    "    \"\"\"\n",
    "SELECT * FROM states INNER JOIN wetlands ON states.id = wetlands.State\n",
    "\"\"\"\n",
    ")"
   ]
  },
  {
   "cell_type": "code",
   "execution_count": null,
   "id": "156",
   "metadata": {},
   "outputs": [],
   "source": [
    "# Join wetlands count with state geometries for visualization\n",
    "file_path = \"states_with_wetlands.geojson\"\n",
    "con.sql(\n",
    "    f\"\"\"\n",
    "    COPY (\n",
    "    SELECT s.name, s.id, w.Count, s.geometry\n",
    "    FROM states s\n",
    "    JOIN wetlands w ON s.id = w.State\n",
    "    ORDER BY w.Count DESC\n",
    "    ) TO '{file_path}' WITH (FORMAT GDAL, DRIVER 'GeoJSON')\n",
    "\"\"\"\n",
    ")"
   ]
  },
  {
   "cell_type": "code",
   "execution_count": null,
   "id": "157",
   "metadata": {},
   "outputs": [],
   "source": [
    "m = leafmap.Map()\n",
    "m.add_data(\n",
    "    file_path,\n",
    "    column=\"Count\",\n",
    "    scheme=\"Quantiles\",\n",
    "    cmap=\"Greens\",\n",
    "    legend_title=\"Wetland Count\",\n",
    ")\n",
    "m"
   ]
  },
  {
   "cell_type": "markdown",
   "id": "158",
   "metadata": {},
   "source": [
    "### Wetland Distribution Charts\n",
    "\n",
    "#### Pie Chart of Wetlands by State"
   ]
  },
  {
   "cell_type": "code",
   "execution_count": null,
   "id": "159",
   "metadata": {},
   "outputs": [],
   "source": [
    "leafmap.pie_chart(\n",
    "    count_df, \"State\", \"Count\", height=800, title=\"Number of Wetlands by State\"\n",
    ")"
   ]
  },
  {
   "cell_type": "markdown",
   "id": "160",
   "metadata": {},
   "source": [
    "#### Bar Chart of Wetlands by State"
   ]
  },
  {
   "cell_type": "code",
   "execution_count": null,
   "id": "161",
   "metadata": {},
   "outputs": [],
   "source": [
    "leafmap.bar_chart(count_df, \"State\", \"Count\", title=\"Number of Wetlands by State\")"
   ]
  },
  {
   "cell_type": "markdown",
   "id": "162",
   "metadata": {},
   "source": [
    "### Wetland Area Analysis\n",
    "\n",
    "#### Total Wetland Area in the U.S."
   ]
  },
  {
   "cell_type": "code",
   "execution_count": null,
   "id": "163",
   "metadata": {},
   "outputs": [],
   "source": [
    "con.sql(\n",
    "    f\"\"\"\n",
    "SELECT SUM(Shape_Area) /  1000000 AS Area_SqKm\n",
    "FROM 's3://us-west-2.opendata.source.coop/giswqs/nwi/wetlands/*.parquet'\n",
    "\"\"\"\n",
    ")"
   ]
  },
  {
   "cell_type": "markdown",
   "id": "164",
   "metadata": {},
   "source": [
    "#### Wetland Area by State"
   ]
  },
  {
   "cell_type": "code",
   "execution_count": null,
   "id": "165",
   "metadata": {},
   "outputs": [],
   "source": [
    "area_df = con.sql(\n",
    "    f\"\"\"\n",
    "SELECT SUBSTRING(filename, LENGTH(filename) - 18, 2) AS State, SUM(Shape_Area) /  1000000 AS Area_SqKm\n",
    "FROM read_parquet('s3://us-west-2.opendata.source.coop/giswqs/nwi/wetlands/*.parquet', filename=true)\n",
    "GROUP BY State\n",
    "ORDER BY COUNT(*) DESC;\n",
    "\"\"\"\n",
    ").df()\n",
    "area_df.head(10)"
   ]
  },
  {
   "cell_type": "markdown",
   "id": "166",
   "metadata": {},
   "source": [
    "#### Pie Chart of Wetland Area by State"
   ]
  },
  {
   "cell_type": "code",
   "execution_count": null,
   "id": "167",
   "metadata": {},
   "outputs": [],
   "source": [
    "leafmap.pie_chart(\n",
    "    area_df, \"State\", \"Area_SqKm\", height=850, title=\"Wetland Area by State\"\n",
    ")"
   ]
  },
  {
   "cell_type": "markdown",
   "id": "168",
   "metadata": {},
   "source": [
    "#### Bar Chart of Wetland Area by State"
   ]
  },
  {
   "cell_type": "code",
   "execution_count": null,
   "id": "169",
   "metadata": {},
   "outputs": [],
   "source": [
    "leafmap.bar_chart(area_df, \"State\", \"Area_SqKm\", title=\"Wetland Area by State\")"
   ]
  },
  {
   "cell_type": "markdown",
   "id": "170",
   "metadata": {},
   "source": [
    "## Key Takeaways\n",
    "\n",
    "### Fundamental Concepts You've Learned\n",
    "\n",
    "### Why This Approach is Powerful\n",
    "\n",
    "### Building Your Spatial Analysis Skills\n",
    "\n",
    "## Exercises\n",
    "\n",
    "### Exercise 1: Creating Tables"
   ]
  },
  {
   "cell_type": "code",
   "execution_count": null,
   "id": "171",
   "metadata": {},
   "outputs": [],
   "source": []
  },
  {
   "cell_type": "markdown",
   "id": "172",
   "metadata": {},
   "source": [
    "### Exercise 2: Column Filtering"
   ]
  },
  {
   "cell_type": "code",
   "execution_count": null,
   "id": "173",
   "metadata": {},
   "outputs": [],
   "source": []
  },
  {
   "cell_type": "markdown",
   "id": "174",
   "metadata": {},
   "source": [
    "### Exercise 3: Row Filtering"
   ]
  },
  {
   "cell_type": "code",
   "execution_count": null,
   "id": "175",
   "metadata": {},
   "outputs": [],
   "source": []
  },
  {
   "cell_type": "markdown",
   "id": "176",
   "metadata": {},
   "source": [
    "### Exercise 4: Sorting Results"
   ]
  },
  {
   "cell_type": "code",
   "execution_count": null,
   "id": "177",
   "metadata": {},
   "outputs": [],
   "source": []
  },
  {
   "cell_type": "markdown",
   "id": "178",
   "metadata": {},
   "source": [
    "### Exercise 5: Unique Values"
   ]
  },
  {
   "cell_type": "code",
   "execution_count": null,
   "id": "179",
   "metadata": {},
   "outputs": [],
   "source": []
  },
  {
   "cell_type": "markdown",
   "id": "180",
   "metadata": {},
   "source": [
    "### Exercise 6: Counting Rows"
   ]
  },
  {
   "cell_type": "code",
   "execution_count": null,
   "id": "181",
   "metadata": {},
   "outputs": [],
   "source": []
  },
  {
   "cell_type": "markdown",
   "id": "182",
   "metadata": {},
   "source": [
    "### Exercise 7: Aggregating Data"
   ]
  },
  {
   "cell_type": "code",
   "execution_count": null,
   "id": "183",
   "metadata": {},
   "outputs": [],
   "source": []
  },
  {
   "cell_type": "markdown",
   "id": "184",
   "metadata": {},
   "source": [
    "### Exercise 8: Joining Tables"
   ]
  },
  {
   "cell_type": "code",
   "execution_count": null,
   "id": "185",
   "metadata": {},
   "outputs": [],
   "source": []
  },
  {
   "cell_type": "markdown",
   "id": "186",
   "metadata": {},
   "source": [
    "### Exercise 9: String Manipulation"
   ]
  },
  {
   "cell_type": "code",
   "execution_count": null,
   "id": "187",
   "metadata": {},
   "outputs": [],
   "source": []
  },
  {
   "cell_type": "markdown",
   "id": "188",
   "metadata": {},
   "source": [
    "### Exercise 10: Filtering with Multiple Conditions"
   ]
  },
  {
   "cell_type": "code",
   "execution_count": null,
   "id": "189",
   "metadata": {},
   "outputs": [],
   "source": []
  },
  {
   "cell_type": "markdown",
   "id": "190",
   "metadata": {},
   "source": [
    "### Exercise 11: Basic Setup and Data Loading"
   ]
  },
  {
   "cell_type": "code",
   "execution_count": null,
   "id": "191",
   "metadata": {},
   "outputs": [],
   "source": []
  },
  {
   "cell_type": "markdown",
   "id": "192",
   "metadata": {},
   "source": [
    "### Exercise 12: Spatial Relationships Analysis"
   ]
  },
  {
   "cell_type": "code",
   "execution_count": null,
   "id": "193",
   "metadata": {},
   "outputs": [],
   "source": []
  },
  {
   "cell_type": "markdown",
   "id": "194",
   "metadata": {},
   "source": [
    "### Exercise 13: Advanced Spatial Joins"
   ]
  },
  {
   "cell_type": "code",
   "execution_count": null,
   "id": "195",
   "metadata": {},
   "outputs": [],
   "source": []
  },
  {
   "cell_type": "code",
   "execution_count": null,
   "id": "196",
   "metadata": {},
   "outputs": [],
   "source": []
  },
  {
   "cell_type": "code",
   "execution_count": null,
   "id": "197",
   "metadata": {},
   "outputs": [],
   "source": []
  },
  {
   "cell_type": "code",
   "execution_count": null,
   "id": "198",
   "metadata": {},
   "outputs": [],
   "source": []
  },
  {
   "cell_type": "code",
   "execution_count": null,
   "id": "199",
   "metadata": {},
   "outputs": [],
   "source": []
  },
  {
   "cell_type": "code",
   "execution_count": null,
   "id": "200",
   "metadata": {},
   "outputs": [],
   "source": []
  },
  {
   "cell_type": "markdown",
   "id": "201",
   "metadata": {},
   "source": [
    "### Exercise 14: Data Import and Export"
   ]
  },
  {
   "cell_type": "code",
   "execution_count": null,
   "id": "202",
   "metadata": {},
   "outputs": [],
   "source": []
  },
  {
   "cell_type": "code",
   "execution_count": null,
   "id": "203",
   "metadata": {},
   "outputs": [],
   "source": []
  },
  {
   "cell_type": "code",
   "execution_count": null,
   "id": "204",
   "metadata": {},
   "outputs": [],
   "source": []
  },
  {
   "cell_type": "markdown",
   "id": "205",
   "metadata": {},
   "source": [
    "### Exercise 15: Large-Scale Analysis"
   ]
  },
  {
   "cell_type": "code",
   "execution_count": null,
   "id": "206",
   "metadata": {},
   "outputs": [],
   "source": []
  },
  {
   "cell_type": "code",
   "execution_count": null,
   "id": "207",
   "metadata": {},
   "outputs": [],
   "source": []
  },
  {
   "cell_type": "code",
   "execution_count": null,
   "id": "208",
   "metadata": {},
   "outputs": [],
   "source": []
  },
  {
   "cell_type": "code",
   "execution_count": null,
   "id": "209",
   "metadata": {},
   "outputs": [],
   "source": []
  }
 ],
 "metadata": {
  "jupytext": {
   "default_lexer": "ipython3"
  },
  "kernelspec": {
   "display_name": "Python 3",
   "language": "python",
   "name": "python3"
  }
 },
 "nbformat": 4,
 "nbformat_minor": 5
}
