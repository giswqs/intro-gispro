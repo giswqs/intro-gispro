{
 "cells": [
  {
   "cell_type": "markdown",
   "id": "1df13d08",
   "metadata": {},
   "source": [
    "# Spatial Database Analysis with DuckDB\n",
    "\n",
    "## Introduction\n",
    "\n",
    "## Learning Objectives\n",
    "\n",
    "## Downloading Sample Datasets\n",
    "\n",
    "## Installing DuckDB\n",
    "\n",
    "## Installing Extensions\n",
    "\n",
    "## Working with CSV Files\n",
    "\n",
    "## Working with JSON Files\n",
    "\n",
    "## Working with Pandas DataFrames\n",
    "\n",
    "## Working with Parquet Files\n",
    "\n",
    "## Working with GeoJSON Files\n",
    "\n",
    "## Working with Shapefiles\n",
    "\n",
    "## Working with GeoParquet Files\n",
    "\n",
    "## Key Takeaways\n",
    "\n",
    "## Exercises"
   ]
  }
 ],
 "metadata": {
  "jupytext": {
   "cell_metadata_filter": "-all",
   "main_language": "python",
   "notebook_metadata_filter": "-all"
  }
 },
 "nbformat": 4,
 "nbformat_minor": 5
}
