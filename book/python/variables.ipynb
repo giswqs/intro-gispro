{
 "cells": [
  {
   "cell_type": "markdown",
   "id": "0",
   "metadata": {},
   "source": [
    "# Variables and Data Types\n",
    "\n",
    "## Introduction\n",
    "\n",
    "## Learning Objectives\n",
    "\n",
    "## Variables in Python"
   ]
  },
  {
   "cell_type": "code",
   "execution_count": null,
   "id": "1",
   "metadata": {},
   "outputs": [],
   "source": [
    "num_points = 120"
   ]
  },
  {
   "cell_type": "code",
   "execution_count": null,
   "id": "2",
   "metadata": {},
   "outputs": [],
   "source": [
    "print(num_points)"
   ]
  },
  {
   "cell_type": "code",
   "execution_count": null,
   "id": "3",
   "metadata": {},
   "outputs": [],
   "source": [
    "num_points"
   ]
  },
  {
   "cell_type": "markdown",
   "id": "4",
   "metadata": {},
   "source": [
    "### Variable Assignment"
   ]
  },
  {
   "cell_type": "code",
   "execution_count": null,
   "id": "5",
   "metadata": {},
   "outputs": [],
   "source": [
    "# Start with a number\n",
    "location_data = 42.3601\n",
    "\n",
    "# Change to text\n",
    "location_data = \"Boston\"\n",
    "\n",
    "# Change to a list of coordinates\n",
    "location_data = [42.3601, -71.0589]\n",
    "\n",
    "print(location_data)"
   ]
  },
  {
   "cell_type": "markdown",
   "id": "6",
   "metadata": {},
   "source": [
    "## Naming Variables\n",
    "\n",
    "### Good Naming Examples for Geospatial Data"
   ]
  },
  {
   "cell_type": "code",
   "execution_count": null,
   "id": "7",
   "metadata": {},
   "outputs": [],
   "source": [
    "# Good variable names for geospatial data\n",
    "latitude = 42.3601\n",
    "longitude = -71.0589\n",
    "elevation = 147.2\n",
    "city_name = \"Boston\"\n",
    "population = 685094\n",
    "coordinate_system = \"WGS 84\""
   ]
  },
  {
   "cell_type": "markdown",
   "id": "8",
   "metadata": {},
   "source": [
    "### Poor Naming Examples to Avoid"
   ]
  },
  {
   "cell_type": "code",
   "execution_count": null,
   "id": "9",
   "metadata": {},
   "outputs": [],
   "source": [
    "# Poor variable names - avoid these\n",
    "x = 42.3601  # Too generic\n",
    "data = \"Boston\"  # Too vague\n",
    "temp = 25.6  # Ambiguous - temperature or temporary?\n",
    "l = [42.36, -71.06]  # Single letter variables are hard to understand"
   ]
  },
  {
   "cell_type": "markdown",
   "id": "10",
   "metadata": {},
   "source": [
    "## Data Types"
   ]
  },
  {
   "cell_type": "code",
   "execution_count": null,
   "id": "11",
   "metadata": {},
   "outputs": [],
   "source": [
    "num_features = 500  # Represents the number of features in a geospatial dataset"
   ]
  },
  {
   "cell_type": "code",
   "execution_count": null,
   "id": "12",
   "metadata": {},
   "outputs": [],
   "source": [
    "latitude = 35.6895  # Represents the latitude of a point on Earth's surface\n",
    "longitude = 139.6917  # Represents the longitude of a point on Earth's surface"
   ]
  },
  {
   "cell_type": "code",
   "execution_count": null,
   "id": "13",
   "metadata": {},
   "outputs": [],
   "source": [
    "coordinate_system = \"WGS 84\"  # Represents a commonly used coordinate system"
   ]
  },
  {
   "cell_type": "code",
   "execution_count": null,
   "id": "14",
   "metadata": {},
   "outputs": [],
   "source": [
    "is_georeferenced = True  # Represents whether a dataset is georeferenced or not"
   ]
  },
  {
   "cell_type": "code",
   "execution_count": null,
   "id": "15",
   "metadata": {},
   "outputs": [],
   "source": [
    "coordinates = [\n",
    "    35.6895,\n",
    "    139.6917,\n",
    "]  # A list representing latitude and longitude of a point"
   ]
  },
  {
   "cell_type": "code",
   "execution_count": null,
   "id": "16",
   "metadata": {},
   "outputs": [],
   "source": [
    "feature_attributes = {\n",
    "    \"name\": \"Mount Fuji\",\n",
    "    \"height_meters\": 3776,\n",
    "    \"type\": \"Stratovolcano\",\n",
    "    \"location\": [35.3606, 138.7274],\n",
    "}"
   ]
  },
  {
   "cell_type": "markdown",
   "id": "17",
   "metadata": {},
   "source": [
    "## Escape Characters"
   ]
  },
  {
   "cell_type": "code",
   "execution_count": null,
   "id": "18",
   "metadata": {},
   "outputs": [],
   "source": [
    "print(\"Hello World!\\nThis is a Python script.\")"
   ]
  },
  {
   "cell_type": "code",
   "execution_count": null,
   "id": "19",
   "metadata": {},
   "outputs": [],
   "source": [
    "print(\"This is the first line.\\n\\tThis is the second line. It is indented.\")"
   ]
  },
  {
   "cell_type": "code",
   "execution_count": null,
   "id": "20",
   "metadata": {},
   "outputs": [],
   "source": [
    "print(\"What's your name?\")"
   ]
  },
  {
   "cell_type": "code",
   "execution_count": null,
   "id": "21",
   "metadata": {},
   "outputs": [],
   "source": [
    "print(\"What's your name?\")"
   ]
  },
  {
   "cell_type": "markdown",
   "id": "22",
   "metadata": {},
   "source": [
    "## Comments in Python"
   ]
  },
  {
   "cell_type": "code",
   "execution_count": null,
   "id": "23",
   "metadata": {},
   "outputs": [],
   "source": [
    "# This is a comment\n",
    "num_points = 120  # This is an inline comment"
   ]
  },
  {
   "cell_type": "markdown",
   "id": "24",
   "metadata": {},
   "source": [
    "## Working with Variables and Data Types"
   ]
  },
  {
   "cell_type": "code",
   "execution_count": null,
   "id": "25",
   "metadata": {},
   "outputs": [],
   "source": [
    "num_features += 20\n",
    "print(\"Updated number of features:\", num_features)"
   ]
  },
  {
   "cell_type": "code",
   "execution_count": null,
   "id": "26",
   "metadata": {},
   "outputs": [],
   "source": [
    "import math\n",
    "\n",
    "latitude = 35.6895\n",
    "latitude_radians = math.radians(latitude)\n",
    "print(\"Latitude in radians:\", latitude_radians)"
   ]
  },
  {
   "cell_type": "code",
   "execution_count": null,
   "id": "27",
   "metadata": {},
   "outputs": [],
   "source": [
    "coordinates = [35.6895, 139.6917]\n",
    "coordinates.append(34.0522)  # Adding latitude of Los Angeles\n",
    "coordinates.append(-118.2437)  # Adding longitude of Los Angeles\n",
    "print(\"Updated coordinates:\", coordinates)"
   ]
  },
  {
   "cell_type": "code",
   "execution_count": null,
   "id": "28",
   "metadata": {},
   "outputs": [],
   "source": [
    "mount_fuji_name = feature_attributes[\"name\"]\n",
    "mount_fuji_height = feature_attributes[\"height_meters\"]\n",
    "print(f\"{mount_fuji_name} is {mount_fuji_height} meters high.\")"
   ]
  },
  {
   "cell_type": "markdown",
   "id": "29",
   "metadata": {},
   "source": [
    "## Basic String Operations\n",
    "\n",
    "### Changing Case"
   ]
  },
  {
   "cell_type": "code",
   "execution_count": null,
   "id": "30",
   "metadata": {},
   "outputs": [],
   "source": [
    "city_name = \"San Francisco\"\n",
    "\n",
    "# Convert to lowercase\n",
    "city_lowercase = city_name.lower()\n",
    "print(\"Lowercase:\", city_lowercase)\n",
    "\n",
    "# Convert to uppercase\n",
    "city_uppercase = city_name.upper()\n",
    "print(\"Uppercase:\", city_uppercase)\n",
    "\n",
    "# Convert to title case (first letter of each word capitalized)\n",
    "city_title = city_name.title()\n",
    "print(\"Title case:\", city_title)"
   ]
  },
  {
   "cell_type": "markdown",
   "id": "31",
   "metadata": {},
   "source": [
    "### Replacing Text"
   ]
  },
  {
   "cell_type": "code",
   "execution_count": null,
   "id": "32",
   "metadata": {},
   "outputs": [],
   "source": [
    "original_city = \"San Francisco\"\n",
    "new_city = original_city.replace(\"San\", \"Los\")\n",
    "print(\"Original:\", original_city)\n",
    "print(\"Modified:\", new_city)"
   ]
  },
  {
   "cell_type": "markdown",
   "id": "33",
   "metadata": {},
   "source": [
    "### Other Useful String Methods"
   ]
  },
  {
   "cell_type": "code",
   "execution_count": null,
   "id": "34",
   "metadata": {},
   "outputs": [],
   "source": [
    "location_data = \"  Mount Everest  \"\n",
    "\n",
    "# Remove whitespace from beginning and end\n",
    "clean_location = location_data.strip()\n",
    "print(\"Cleaned:\", clean_location)"
   ]
  },
  {
   "cell_type": "markdown",
   "id": "35",
   "metadata": {},
   "source": [
    "## Key Takeaways\n",
    "\n",
    "## Exercises\n",
    "\n",
    "### Exercise 1: Variable Assignment and Basic Operations"
   ]
  },
  {
   "cell_type": "code",
   "execution_count": null,
   "id": "36",
   "metadata": {},
   "outputs": [],
   "source": []
  },
  {
   "cell_type": "markdown",
   "id": "37",
   "metadata": {},
   "source": [
    "### Exercise 2: Working with Strings"
   ]
  },
  {
   "cell_type": "code",
   "execution_count": null,
   "id": "38",
   "metadata": {},
   "outputs": [],
   "source": []
  }
 ],
 "metadata": {
  "jupytext": {
   "default_lexer": "ipython3"
  },
  "kernelspec": {
   "display_name": "Python 3",
   "language": "python",
   "name": "python3"
  }
 },
 "nbformat": 4,
 "nbformat_minor": 5
}
