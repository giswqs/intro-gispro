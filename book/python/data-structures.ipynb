{
 "cells": [
  {
   "cell_type": "markdown",
   "id": "0",
   "metadata": {},
   "source": [
    "# Python Data Structures\n",
    "\n",
    "## Introduction\n",
    "\n",
    "## Learning Objectives\n",
    "\n",
    "## Tuples\n",
    "\n",
    "### Creating and Using Tuples"
   ]
  },
  {
   "cell_type": "code",
   "execution_count": null,
   "id": "1",
   "metadata": {},
   "outputs": [],
   "source": [
    "tokyo_point = (\n",
    "    35.6895,\n",
    "    139.6917,\n",
    ")  # Tuple representing Tokyo's coordinates (latitude, longitude)\n",
    "print(f\"Tokyo coordinates: {tokyo_point}\")"
   ]
  },
  {
   "cell_type": "markdown",
   "id": "2",
   "metadata": {},
   "source": [
    "### Accessing Tuple Elements"
   ]
  },
  {
   "cell_type": "code",
   "execution_count": null,
   "id": "3",
   "metadata": {},
   "outputs": [],
   "source": [
    "latitude = tokyo_point[0]\n",
    "longitude = tokyo_point[1]\n",
    "print(f\"Latitude: {latitude}\")\n",
    "print(f\"Longitude: {longitude}\")"
   ]
  },
  {
   "cell_type": "markdown",
   "id": "4",
   "metadata": {},
   "source": [
    "### Tuple Unpacking"
   ]
  },
  {
   "cell_type": "code",
   "execution_count": null,
   "id": "5",
   "metadata": {},
   "outputs": [],
   "source": [
    "lat, lon = tokyo_point  # Unpacking the tuple into two variables\n",
    "print(f\"Tokyo is located at {lat}°N, {lon}°E\")"
   ]
  },
  {
   "cell_type": "markdown",
   "id": "6",
   "metadata": {},
   "source": [
    "### Multiple Coordinate Points"
   ]
  },
  {
   "cell_type": "code",
   "execution_count": null,
   "id": "7",
   "metadata": {},
   "outputs": [],
   "source": [
    "# Different geographic locations as tuples\n",
    "new_york = (40.7128, -74.0060)\n",
    "london = (51.5074, -0.1278)\n",
    "sydney = (-33.8688, 151.2093)\n",
    "\n",
    "print(f\"New York: {new_york}\")\n",
    "print(f\"London: {london}\")\n",
    "print(f\"Sydney: {sydney}\")"
   ]
  },
  {
   "cell_type": "markdown",
   "id": "8",
   "metadata": {},
   "source": [
    "## Lists\n",
    "\n",
    "### Creating Lists"
   ]
  },
  {
   "cell_type": "code",
   "execution_count": null,
   "id": "9",
   "metadata": {},
   "outputs": [],
   "source": [
    "# A list of coordinate tuples representing a travel route\n",
    "route = [\n",
    "    (35.6895, 139.6917),  # Tokyo\n",
    "    (34.0522, -118.2437),  # Los Angeles\n",
    "    (51.5074, -0.1278),  # London\n",
    "]\n",
    "print(\"Travel route:\", route)"
   ]
  },
  {
   "cell_type": "code",
   "execution_count": null,
   "id": "10",
   "metadata": {},
   "outputs": [],
   "source": [
    "# A list of elevation measurements (in meters)\n",
    "elevations = [120.5, 135.2, 150.8, 168.3, 185.7, 203.1]\n",
    "print(\"Elevation profile:\", elevations)"
   ]
  },
  {
   "cell_type": "code",
   "execution_count": null,
   "id": "11",
   "metadata": {},
   "outputs": [],
   "source": [
    "# A list of city names\n",
    "cities = [\"Tokyo\", \"Los Angeles\", \"London\", \"Paris\"]\n",
    "print(\"Cities to visit:\", cities)"
   ]
  },
  {
   "cell_type": "markdown",
   "id": "12",
   "metadata": {},
   "source": [
    "### Adding Elements to Lists"
   ]
  },
  {
   "cell_type": "code",
   "execution_count": null,
   "id": "13",
   "metadata": {},
   "outputs": [],
   "source": [
    "# Add Paris to our travel route\n",
    "route.append((48.8566, 2.3522))  # Adding Paris coordinates\n",
    "print(\"Updated route:\", route)"
   ]
  },
  {
   "cell_type": "code",
   "execution_count": null,
   "id": "14",
   "metadata": {},
   "outputs": [],
   "source": [
    "# Add a new elevation measurement\n",
    "elevations.append(221.4)\n",
    "print(\"Updated elevations:\", elevations)"
   ]
  },
  {
   "cell_type": "markdown",
   "id": "15",
   "metadata": {},
   "source": [
    "### Accessing List Elements"
   ]
  },
  {
   "cell_type": "code",
   "execution_count": null,
   "id": "16",
   "metadata": {},
   "outputs": [],
   "source": [
    "# Access the first city in our route\n",
    "first_stop = route[0]\n",
    "print(f\"First stop: {first_stop}\")\n",
    "\n",
    "# Access the last city using negative indexing\n",
    "last_stop = route[-1]\n",
    "print(f\"Last stop: {last_stop}\")"
   ]
  },
  {
   "cell_type": "markdown",
   "id": "17",
   "metadata": {},
   "source": [
    "### List Slicing"
   ]
  },
  {
   "cell_type": "code",
   "execution_count": null,
   "id": "18",
   "metadata": {},
   "outputs": [],
   "source": [
    "# Get the first two stops of our route\n",
    "first_two_stops = route[:2]\n",
    "print(\"First two stops:\", first_two_stops)\n",
    "\n",
    "# Get the middle portion of elevation data\n",
    "middle_elevations = elevations[2:5]\n",
    "print(\"Middle elevation readings:\", middle_elevations)"
   ]
  },
  {
   "cell_type": "markdown",
   "id": "19",
   "metadata": {},
   "source": [
    "### Useful List Operations"
   ]
  },
  {
   "cell_type": "code",
   "execution_count": null,
   "id": "20",
   "metadata": {},
   "outputs": [],
   "source": [
    "# Find the number of waypoints in our route\n",
    "num_waypoints = len(route)\n",
    "print(f\"Number of waypoints: {num_waypoints}\")\n",
    "\n",
    "# Find the highest elevation\n",
    "max_elevation = max(elevations)\n",
    "print(f\"Highest elevation: {max_elevation} meters\")\n",
    "\n",
    "# Calculate average elevation\n",
    "avg_elevation = sum(elevations) / len(elevations)\n",
    "print(f\"Average elevation: {avg_elevation:.1f} meters\")"
   ]
  },
  {
   "cell_type": "markdown",
   "id": "21",
   "metadata": {},
   "source": [
    "## Sets\n",
    "\n",
    "### Creating Sets"
   ]
  },
  {
   "cell_type": "code",
   "execution_count": null,
   "id": "22",
   "metadata": {},
   "outputs": [],
   "source": [
    "# Create a set of geographic regions\n",
    "regions_visited = {\"North America\", \"Europe\", \"Asia\"}\n",
    "print(\"Regions visited:\", regions_visited)"
   ]
  },
  {
   "cell_type": "code",
   "execution_count": null,
   "id": "23",
   "metadata": {},
   "outputs": [],
   "source": [
    "# Create a set from a list (automatically removes duplicates)\n",
    "country_codes = [\"US\", \"CA\", \"MX\", \"US\", \"CA\"]  # Notice the duplicates\n",
    "unique_codes = set(country_codes)\n",
    "print(\"Original list:\", country_codes)\n",
    "print(\"Unique country codes:\", unique_codes)"
   ]
  },
  {
   "cell_type": "code",
   "execution_count": null,
   "id": "24",
   "metadata": {},
   "outputs": [],
   "source": [
    "# Create a set of coordinate system codes\n",
    "crs_codes = {\"EPSG:4326\", \"EPSG:3857\", \"EPSG:32633\"}\n",
    "print(\"Coordinate reference systems:\", crs_codes)"
   ]
  },
  {
   "cell_type": "markdown",
   "id": "25",
   "metadata": {},
   "source": [
    "### Adding Elements to Sets"
   ]
  },
  {
   "cell_type": "code",
   "execution_count": null,
   "id": "26",
   "metadata": {},
   "outputs": [],
   "source": [
    "# Add a new region\n",
    "print(\"Original set:\", regions_visited)\n",
    "regions_visited.add(\"Africa\")\n",
    "print(\"After adding Africa:\", regions_visited)\n",
    "\n",
    "# Try to add a duplicate region\n",
    "regions_visited.add(\"Europe\")  # This won't change the set\n",
    "print(\"After trying to add Europe again:\", regions_visited)"
   ]
  },
  {
   "cell_type": "markdown",
   "id": "27",
   "metadata": {},
   "source": [
    "### Practical Set Operations"
   ]
  },
  {
   "cell_type": "code",
   "execution_count": null,
   "id": "28",
   "metadata": {},
   "outputs": [],
   "source": [
    "# Two different survey areas with their observed species\n",
    "area_a_species = {\"oak\", \"pine\", \"maple\", \"birch\"}\n",
    "area_b_species = {\"pine\", \"birch\", \"cedar\", \"fir\"}\n",
    "\n",
    "print(\"Species in Area A:\", area_a_species)\n",
    "print(\"Species in Area B:\", area_b_species)\n",
    "\n",
    "# Find species common to both areas\n",
    "common_species = area_a_species.intersection(area_b_species)\n",
    "print(\"Species found in both areas:\", common_species)\n",
    "\n",
    "# Find species unique to Area A\n",
    "unique_to_a = area_a_species - area_b_species\n",
    "print(\"Species only in Area A:\", unique_to_a)\n",
    "\n",
    "# Find all species across both areas\n",
    "all_species = area_a_species.union(area_b_species)\n",
    "print(\"All species found:\", all_species)"
   ]
  },
  {
   "cell_type": "markdown",
   "id": "29",
   "metadata": {},
   "source": [
    "### Checking Set Membership"
   ]
  },
  {
   "cell_type": "code",
   "execution_count": null,
   "id": "30",
   "metadata": {},
   "outputs": [],
   "source": [
    "# Check if we've visited a particular region\n",
    "if \"Asia\" in regions_visited:\n",
    "    print(\"We have visited Asia\")\n",
    "\n",
    "if \"Antarctica\" in regions_visited:\n",
    "    print(\"We have visited Antarctica\")\n",
    "else:\n",
    "    print(\"Antarctica not yet visited\")"
   ]
  },
  {
   "cell_type": "markdown",
   "id": "31",
   "metadata": {},
   "source": [
    "## Dictionaries\n",
    "\n",
    "### Creating Dictionaries"
   ]
  },
  {
   "cell_type": "code",
   "execution_count": null,
   "id": "32",
   "metadata": {},
   "outputs": [],
   "source": [
    "# Dictionary storing attributes of a city\n",
    "tokyo_info = {\n",
    "    \"name\": \"Tokyo\",\n",
    "    \"population\": 13929286,\n",
    "    \"coordinates\": (35.6895, 139.6917),\n",
    "    \"country\": \"Japan\",\n",
    "    \"established\": 1603,\n",
    "}\n",
    "print(\"Tokyo information:\", tokyo_info)"
   ]
  },
  {
   "cell_type": "code",
   "execution_count": null,
   "id": "33",
   "metadata": {},
   "outputs": [],
   "source": [
    "# Dictionary for a geographic survey point\n",
    "survey_point = {\n",
    "    \"point_id\": \"SP001\",\n",
    "    \"latitude\": 40.7589,\n",
    "    \"longitude\": -73.9851,\n",
    "    \"elevation\": 87.3,\n",
    "    \"land_cover\": \"urban\",\n",
    "    \"date_surveyed\": \"2023-06-15\",\n",
    "}\n",
    "print(\"Survey point data:\", survey_point)"
   ]
  },
  {
   "cell_type": "markdown",
   "id": "34",
   "metadata": {},
   "source": [
    "### Accessing Dictionary Values"
   ]
  },
  {
   "cell_type": "code",
   "execution_count": null,
   "id": "35",
   "metadata": {},
   "outputs": [],
   "source": [
    "# Access specific information about Tokyo\n",
    "city_name = tokyo_info[\"name\"]\n",
    "city_population = tokyo_info[\"population\"]\n",
    "city_coords = tokyo_info[\"coordinates\"]\n",
    "\n",
    "print(f\"City: {city_name}\")\n",
    "print(f\"Population: {city_population:,}\")\n",
    "print(f\"Coordinates: {city_coords}\")"
   ]
  },
  {
   "cell_type": "markdown",
   "id": "36",
   "metadata": {},
   "source": [
    "### Safe Access with get()"
   ]
  },
  {
   "cell_type": "code",
   "execution_count": null,
   "id": "37",
   "metadata": {},
   "outputs": [],
   "source": [
    "# Safe access to dictionary values\n",
    "area = tokyo_info.get(\"area_km2\", \"Not specified\")\n",
    "timezone = tokyo_info.get(\"timezone\", \"Unknown\")\n",
    "\n",
    "print(f\"Area: {area}\")\n",
    "print(f\"Timezone: {timezone}\")"
   ]
  },
  {
   "cell_type": "markdown",
   "id": "38",
   "metadata": {},
   "source": [
    "### Adding and Updating Values"
   ]
  },
  {
   "cell_type": "code",
   "execution_count": null,
   "id": "39",
   "metadata": {},
   "outputs": [],
   "source": [
    "# Add new information to our Tokyo dictionary\n",
    "tokyo_info[\"area_km2\"] = 2191\n",
    "tokyo_info[\"timezone\"] = \"JST\"\n",
    "tokyo_info[\"population\"] = 14000000  # Update population\n",
    "\n",
    "print(\"Updated Tokyo info:\", tokyo_info)"
   ]
  },
  {
   "cell_type": "markdown",
   "id": "40",
   "metadata": {},
   "source": [
    "### Working with Geographic Feature Collections"
   ]
  },
  {
   "cell_type": "code",
   "execution_count": null,
   "id": "41",
   "metadata": {},
   "outputs": [],
   "source": [
    "# Collection of world capitals\n",
    "world_capitals = {\n",
    "    \"Japan\": {\n",
    "        \"capital\": \"Tokyo\",\n",
    "        \"coordinates\": (35.6895, 139.6917),\n",
    "        \"population\": 13929286,\n",
    "    },\n",
    "    \"France\": {\n",
    "        \"capital\": \"Paris\",\n",
    "        \"coordinates\": (48.8566, 2.3522),\n",
    "        \"population\": 2161000,\n",
    "    },\n",
    "    \"UK\": {\n",
    "        \"capital\": \"London\",\n",
    "        \"coordinates\": (51.5074, -0.1278),\n",
    "        \"population\": 8982000,\n",
    "    },\n",
    "}\n",
    "\n",
    "# Access information about France's capital\n",
    "france_info = world_capitals[\"France\"]\n",
    "print(f\"France's capital: {france_info['capital']}\")\n",
    "print(f\"Population: {france_info['population']:,}\")"
   ]
  },
  {
   "cell_type": "markdown",
   "id": "42",
   "metadata": {},
   "source": [
    "### Dictionary Methods for Data Exploration"
   ]
  },
  {
   "cell_type": "code",
   "execution_count": null,
   "id": "43",
   "metadata": {},
   "outputs": [],
   "source": [
    "# Explore the structure of our Tokyo dictionary\n",
    "print(\"Keys in tokyo_info:\", list(tokyo_info.keys()))\n",
    "print(\"Values in tokyo_info:\", list(tokyo_info.values()))\n",
    "\n",
    "# Check if a key exists\n",
    "if \"coordinates\" in tokyo_info:\n",
    "    print(\"Coordinate information is available\")\n",
    "\n",
    "# Get all countries in our capitals dictionary\n",
    "countries = list(world_capitals.keys())\n",
    "print(\"Countries in our database:\", countries)"
   ]
  },
  {
   "cell_type": "markdown",
   "id": "44",
   "metadata": {},
   "source": [
    "### Practical Example: GPS Waypoint Management"
   ]
  },
  {
   "cell_type": "code",
   "execution_count": null,
   "id": "45",
   "metadata": {},
   "outputs": [],
   "source": [
    "# GPS waypoint with comprehensive metadata\n",
    "waypoint = {\n",
    "    \"id\": \"WP001\",\n",
    "    \"name\": \"Trail Start\",\n",
    "    \"latitude\": 45.3311,\n",
    "    \"longitude\": -121.7113,\n",
    "    \"elevation\": 1200,\n",
    "    \"description\": \"Beginning of Pacific Crest Trail section\",\n",
    "    \"waypoint_type\": \"trailhead\",\n",
    "    \"facilities\": [\"parking\", \"restrooms\", \"water\"],\n",
    "    \"difficulty\": \"easy\",\n",
    "}\n",
    "\n",
    "print(f\"Waypoint: {waypoint['name']}\")\n",
    "print(f\"Location: {waypoint['latitude']}, {waypoint['longitude']}\")\n",
    "print(f\"Elevation: {waypoint['elevation']} meters\")\n",
    "print(f\"Available facilities: {', '.join(waypoint['facilities'])}\")"
   ]
  },
  {
   "cell_type": "markdown",
   "id": "46",
   "metadata": {},
   "source": [
    "## Data Structure Selection Guide\n",
    "\n",
    "### When to Use Each Data Structure\n",
    "\n",
    "## Key Takeaways\n",
    "\n",
    "## Exercises\n",
    "\n",
    "### Exercise 1: Using Lists"
   ]
  },
  {
   "cell_type": "code",
   "execution_count": null,
   "id": "47",
   "metadata": {},
   "outputs": [],
   "source": []
  },
  {
   "cell_type": "markdown",
   "id": "48",
   "metadata": {},
   "source": [
    "### Exercise 2: Using Tuples"
   ]
  },
  {
   "cell_type": "code",
   "execution_count": null,
   "id": "49",
   "metadata": {},
   "outputs": [],
   "source": []
  },
  {
   "cell_type": "markdown",
   "id": "50",
   "metadata": {},
   "source": [
    "### Exercise 3: Working with Sets"
   ]
  },
  {
   "cell_type": "code",
   "execution_count": null,
   "id": "51",
   "metadata": {},
   "outputs": [],
   "source": []
  },
  {
   "cell_type": "markdown",
   "id": "52",
   "metadata": {},
   "source": [
    "### Exercise 4: Working with Dictionaries"
   ]
  },
  {
   "cell_type": "code",
   "execution_count": null,
   "id": "53",
   "metadata": {},
   "outputs": [],
   "source": []
  },
  {
   "cell_type": "markdown",
   "id": "54",
   "metadata": {},
   "source": [
    "### Exercise 5: Nested Data Structures"
   ]
  },
  {
   "cell_type": "code",
   "execution_count": null,
   "id": "55",
   "metadata": {},
   "outputs": [],
   "source": []
  }
 ],
 "metadata": {
  "jupytext": {
   "default_lexer": "ipython3"
  },
  "kernelspec": {
   "display_name": "Python 3",
   "language": "python",
   "name": "python3"
  }
 },
 "nbformat": 4,
 "nbformat_minor": 5
}
