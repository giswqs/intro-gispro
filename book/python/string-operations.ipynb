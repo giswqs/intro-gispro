{
 "cells": [
  {
   "cell_type": "markdown",
   "id": "0",
   "metadata": {},
   "source": [
    "# String Operations\n",
    "\n",
    "## Introduction\n",
    "\n",
    "## Learning Objectives\n",
    "\n",
    "## Creating and Manipulating Strings\n",
    "\n",
    "### Creating Strings"
   ]
  },
  {
   "cell_type": "code",
   "execution_count": null,
   "id": "1",
   "metadata": {},
   "outputs": [],
   "source": [
    "# Different ways to create strings\n",
    "location_name = \"Mount Everest\"  # Using double quotes\n",
    "country = \"Nepal\"  # Using single quotes\n",
    "description = \"\"\"Mount Everest is the highest peak\n",
    "in the world, located in the Himalayas.\"\"\"  # Multi-line string\n",
    "\n",
    "print(f\"Location: {location_name}\")\n",
    "print(f\"Country: {country}\")\n",
    "print(f\"Description: {description}\")"
   ]
  },
  {
   "cell_type": "markdown",
   "id": "2",
   "metadata": {},
   "source": [
    "### String Concatenation"
   ]
  },
  {
   "cell_type": "code",
   "execution_count": null,
   "id": "3",
   "metadata": {},
   "outputs": [],
   "source": [
    "# Basic concatenation using the + operator\n",
    "location_full = location_name + \", \" + country\n",
    "print(f\"Full location: {location_full}\")\n",
    "\n",
    "# Building a file path\n",
    "data_folder = \"geographic_data\"\n",
    "filename = \"mountain_peaks.csv\"\n",
    "file_path = data_folder + \"/\" + filename\n",
    "print(f\"File path: {file_path}\")"
   ]
  },
  {
   "cell_type": "markdown",
   "id": "4",
   "metadata": {},
   "source": [
    "### String Repetition"
   ]
  },
  {
   "cell_type": "code",
   "execution_count": null,
   "id": "5",
   "metadata": {},
   "outputs": [],
   "source": [
    "# Create visual separators\n",
    "separator = \"-\" * 30\n",
    "print(separator)\n",
    "print(\"Geographic Data Report\")\n",
    "print(separator)\n",
    "\n",
    "# Create formatted spacing\n",
    "tab_space = \" \" * 4\n",
    "print(f\"Location:{tab_space}{location_name}\")\n",
    "print(f\"Elevation:{tab_space}8,848 meters\")"
   ]
  },
  {
   "cell_type": "markdown",
   "id": "6",
   "metadata": {},
   "source": [
    "### String Length and Basic Properties"
   ]
  },
  {
   "cell_type": "code",
   "execution_count": null,
   "id": "7",
   "metadata": {},
   "outputs": [],
   "source": [
    "# Get the length of a string\n",
    "location_length = len(location_name)\n",
    "print(f\"The location name '{location_name}' has {location_length} characters\")\n",
    "\n",
    "# Check if a string contains only letters\n",
    "city_name = \"SanFrancisco\"\n",
    "print(f\"Is '{city_name}' alphabetic? {city_name.isalpha()}\")\n",
    "\n",
    "# Check if a string contains only digits (useful for coordinate validation)\n",
    "zip_code = \"94102\"\n",
    "print(f\"Is '{zip_code}' numeric? {zip_code.isdigit()}\")"
   ]
  },
  {
   "cell_type": "markdown",
   "id": "8",
   "metadata": {},
   "source": [
    "### Building Dynamic Content"
   ]
  },
  {
   "cell_type": "code",
   "execution_count": null,
   "id": "9",
   "metadata": {},
   "outputs": [],
   "source": [
    "# Building dynamic location descriptions\n",
    "latitude = 27.9881\n",
    "longitude = 86.9250\n",
    "elevation = 8848\n",
    "\n",
    "location_info = (\n",
    "    location_name\n",
    "    + \" is located at coordinates \"\n",
    "    + str(latitude)\n",
    "    + \", \"\n",
    "    + str(longitude)\n",
    ")\n",
    "print(location_info)\n",
    "\n",
    "# A more complex example - building a geographic summary\n",
    "cities = [\"Kathmandu\", \"Pokhara\", \"Lalitpur\"]\n",
    "summary = \"Major cities in \" + country + \" include: \" + \", \".join(cities)\n",
    "print(summary)"
   ]
  },
  {
   "cell_type": "markdown",
   "id": "10",
   "metadata": {},
   "source": [
    "## String Methods for Geospatial Data\n",
    "\n",
    "### Case Conversion Methods"
   ]
  },
  {
   "cell_type": "code",
   "execution_count": null,
   "id": "11",
   "metadata": {},
   "outputs": [],
   "source": [
    "# Case conversion examples\n",
    "mountain_name = \"Mount Everest\"\n",
    "\n",
    "# Convert to different cases\n",
    "print(f\"Original: {mountain_name}\")\n",
    "print(f\"Uppercase: {mountain_name.upper()}\")\n",
    "print(f\"Lowercase: {mountain_name.lower()}\")\n",
    "print(f\"Title case: {mountain_name.title()}\")\n",
    "print(f\"Capitalize: {mountain_name.capitalize()}\")"
   ]
  },
  {
   "cell_type": "markdown",
   "id": "12",
   "metadata": {},
   "source": [
    "### Whitespace Removal Methods"
   ]
  },
  {
   "cell_type": "code",
   "execution_count": null,
   "id": "13",
   "metadata": {},
   "outputs": [],
   "source": [
    "# Whitespace removal examples\n",
    "messy_location = \"   San Francisco   \"\n",
    "messy_left = \"   Los Angeles\"\n",
    "messy_right = \"Chicago   \"\n",
    "\n",
    "print(f\"Original: '{messy_location}'\")\n",
    "print(f\"strip(): '{messy_location.strip()}'\")  # Remove both sides\n",
    "print(f\"lstrip(): '{messy_left.lstrip()}'\")  # Remove left side\n",
    "print(f\"rstrip(): '{messy_right.rstrip()}'\")  # Remove right side"
   ]
  },
  {
   "cell_type": "markdown",
   "id": "14",
   "metadata": {},
   "source": [
    "### String Replacement"
   ]
  },
  {
   "cell_type": "code",
   "execution_count": null,
   "id": "15",
   "metadata": {},
   "outputs": [],
   "source": [
    "# Basic replacement\n",
    "location = \"Mount Everest, Nepal\"\n",
    "updated_location = location.replace(\"Everest\", \"Kilimanjaro\")\n",
    "print(f\"Original: {location}\")\n",
    "print(f\"Updated: {updated_location}\")\n",
    "\n",
    "# Replace multiple occurrences\n",
    "path_string = \"data/raw_data/geographic_data/raw_data/points.csv\"\n",
    "clean_path = path_string.replace(\"raw_data/\", \"\")\n",
    "print(f\"Original path: {path_string}\")\n",
    "print(f\"Clean path: {clean_path}\")"
   ]
  },
  {
   "cell_type": "markdown",
   "id": "16",
   "metadata": {},
   "source": [
    "### String Splitting"
   ]
  },
  {
   "cell_type": "code",
   "execution_count": null,
   "id": "17",
   "metadata": {},
   "outputs": [],
   "source": [
    "# Basic splitting\n",
    "location_full = \"Mount Everest, Nepal, Asia\"\n",
    "location_parts = location_full.split(\", \")\n",
    "print(f\"Original: {location_full}\")\n",
    "print(f\"Split into parts: {location_parts}\")\n",
    "\n",
    "# Extract individual components\n",
    "mountain, country, continent = location_parts\n",
    "print(f\"Mountain: {mountain}\")\n",
    "print(f\"Country: {country}\")\n",
    "print(f\"Continent: {continent}\")"
   ]
  },
  {
   "cell_type": "code",
   "execution_count": null,
   "id": "18",
   "metadata": {},
   "outputs": [],
   "source": [
    "# Splitting coordinate strings\n",
    "coordinate_string = \"40.7128,-74.0060\"\n",
    "lat_str, lon_str = coordinate_string.split(\",\")\n",
    "latitude = float(lat_str)\n",
    "longitude = float(lon_str)\n",
    "print(f\"Parsed coordinates: Lat={latitude}, Lon={longitude}\")"
   ]
  },
  {
   "cell_type": "code",
   "execution_count": null,
   "id": "19",
   "metadata": {},
   "outputs": [],
   "source": [
    "# Splitting file paths\n",
    "file_path = \"data/geographic/cities/world_cities.csv\"\n",
    "path_components = file_path.split(\"/\")\n",
    "print(f\"Path components: {path_components}\")\n",
    "print(f\"Filename: {path_components[-1]}\")  # Last component is the filename"
   ]
  },
  {
   "cell_type": "markdown",
   "id": "20",
   "metadata": {},
   "source": [
    "### String Joining"
   ]
  },
  {
   "cell_type": "code",
   "execution_count": null,
   "id": "21",
   "metadata": {},
   "outputs": [],
   "source": [
    "# Basic joining\n",
    "city_names = [\"San Francisco\", \"New York\", \"Tokyo\"]\n",
    "city_name = \", \".join(city_names)\n",
    "print(f\"Joined city name: {city_name}\")"
   ]
  },
  {
   "cell_type": "code",
   "execution_count": null,
   "id": "22",
   "metadata": {},
   "outputs": [],
   "source": [
    "# Creating file paths\n",
    "path_parts = [\"data\", \"geographic\", \"elevation\", \"dem.tif\"]\n",
    "full_path = \"/\".join(path_parts)\n",
    "print(f\"Full path: {full_path}\")"
   ]
  },
  {
   "cell_type": "code",
   "execution_count": null,
   "id": "23",
   "metadata": {},
   "outputs": [],
   "source": [
    "# Practical example: creating coordinate strings\n",
    "coordinates = [\"40.7128\", \"-74.0060\"]\n",
    "coordinate_string = \",\".join(coordinates)\n",
    "print(f\"Coordinate string: {coordinate_string}\")"
   ]
  },
  {
   "cell_type": "markdown",
   "id": "24",
   "metadata": {},
   "source": [
    "## String Formatting\n",
    "\n",
    "### F-String Formatting (Recommended)"
   ]
  },
  {
   "cell_type": "code",
   "execution_count": null,
   "id": "25",
   "metadata": {},
   "outputs": [],
   "source": [
    "# Basic f-string formatting with geographic data\n",
    "location = \"Mount Everest\"\n",
    "latitude = 27.9881\n",
    "longitude = 86.9250\n",
    "elevation = 8848\n",
    "\n",
    "# Simple variable insertion\n",
    "location_info = f\"Location: {location}\"\n",
    "print(location_info)\n",
    "\n",
    "# Multiple variables\n",
    "coordinates = f\"Coordinates: ({latitude}, {longitude})\"\n",
    "print(coordinates)\n",
    "\n",
    "# Complete geographic summary\n",
    "summary = f\"{location} is located at {latitude}°N, {longitude}°E with an elevation of {elevation} meters\"\n",
    "print(summary)"
   ]
  },
  {
   "cell_type": "markdown",
   "id": "26",
   "metadata": {},
   "source": [
    "### Formatting Numbers in Strings"
   ]
  },
  {
   "cell_type": "code",
   "execution_count": null,
   "id": "27",
   "metadata": {},
   "outputs": [],
   "source": [
    "# Controlling decimal places for coordinates\n",
    "precise_lat = 40.712776\n",
    "precise_lon = -74.005974\n",
    "\n",
    "# Round to different decimal places\n",
    "coords_2_places = f\"Coordinates: ({precise_lat:.2f}, {precise_lon:.2f})\"\n",
    "coords_4_places = f\"Coordinates: ({precise_lat:.4f}, {precise_lon:.4f})\"\n",
    "\n",
    "print(coords_2_places)\n",
    "print(coords_4_places)\n",
    "\n",
    "# Adding thousands separators for large numbers\n",
    "population = 8336817\n",
    "area_sqkm = 783.8\n",
    "\n",
    "formatted_stats = f\"NYC Population: {population:,} people, Area: {area_sqkm:.1f} km²\"\n",
    "print(formatted_stats)"
   ]
  },
  {
   "cell_type": "markdown",
   "id": "28",
   "metadata": {},
   "source": [
    "### Legacy Formatting Methods"
   ]
  },
  {
   "cell_type": "code",
   "execution_count": null,
   "id": "29",
   "metadata": {},
   "outputs": [],
   "source": [
    "# Using .format() method\n",
    "location = \"San Francisco\"\n",
    "lat = 37.7749\n",
    "lon = -122.4194\n",
    "\n",
    "# Basic format method\n",
    "formatted_1 = \"Location: {} at coordinates ({}, {})\".format(location, lat, lon)\n",
    "print(formatted_1)\n",
    "\n",
    "# With positional arguments\n",
    "formatted_2 = \"Location: {0} at coordinates ({1}, {2})\".format(location, lat, lon)\n",
    "print(formatted_2)\n",
    "\n",
    "# With named arguments\n",
    "formatted_3 = \"Location: {name} at coordinates ({latitude}, {longitude})\".format(\n",
    "    name=location, latitude=lat, longitude=lon\n",
    ")\n",
    "print(formatted_3)"
   ]
  },
  {
   "cell_type": "markdown",
   "id": "30",
   "metadata": {},
   "source": [
    "### Practical Formatting Examples"
   ]
  },
  {
   "cell_type": "code",
   "execution_count": null,
   "id": "31",
   "metadata": {},
   "outputs": [],
   "source": [
    "# Creating file names with timestamps and coordinates\n",
    "import datetime\n",
    "\n",
    "current_time = datetime.datetime.now()\n",
    "survey_lat = 45.3311\n",
    "survey_lon = -121.7113\n",
    "\n",
    "filename = f\"survey_{current_time.strftime('%Y%m%d')}_{survey_lat:.4f}N_{abs(survey_lon):.4f}W.csv\"\n",
    "print(f\"Generated filename: {filename}\")\n",
    "\n",
    "# Creating Well-Known Text (WKT) representations\n",
    "wkt_point = f\"POINT({survey_lon} {survey_lat})\"\n",
    "print(f\"WKT Point: {wkt_point}\")"
   ]
  },
  {
   "cell_type": "code",
   "execution_count": null,
   "id": "32",
   "metadata": {},
   "outputs": [],
   "source": [
    "# Building SQL queries with formatting\n",
    "table_name = \"cities\"\n",
    "min_population = 1000000\n",
    "region = \"North America\"\n",
    "\n",
    "sql_query = f\"\"\"SELECT name, latitude, longitude\n",
    "FROM {table_name}\n",
    "WHERE population > {min_population:,}\n",
    "AND region = '{region}'\"\"\"\n",
    "\n",
    "print(\"Generated SQL Query:\")\n",
    "print(sql_query)"
   ]
  },
  {
   "cell_type": "markdown",
   "id": "33",
   "metadata": {},
   "source": [
    "## String Operation Decision Guide\n",
    "\n",
    "### When to Use Each Operation\n",
    "\n",
    "## Key Takeaways\n",
    "\n",
    "## Exercises\n",
    "\n",
    "### Exercise 1: Manipulating Geographic Location Strings"
   ]
  },
  {
   "cell_type": "code",
   "execution_count": null,
   "id": "34",
   "metadata": {},
   "outputs": [],
   "source": []
  },
  {
   "cell_type": "markdown",
   "id": "35",
   "metadata": {},
   "source": [
    "### Exercise 2: Extracting and Formatting Coordinates"
   ]
  },
  {
   "cell_type": "code",
   "execution_count": null,
   "id": "36",
   "metadata": {},
   "outputs": [],
   "source": []
  },
  {
   "cell_type": "markdown",
   "id": "37",
   "metadata": {},
   "source": [
    "### Exercise 3: Building Dynamic SQL Queries"
   ]
  },
  {
   "cell_type": "code",
   "execution_count": null,
   "id": "38",
   "metadata": {},
   "outputs": [],
   "source": []
  },
  {
   "cell_type": "markdown",
   "id": "39",
   "metadata": {},
   "source": [
    "### Exercise 4: String Normalization and Cleaning"
   ]
  },
  {
   "cell_type": "code",
   "execution_count": null,
   "id": "40",
   "metadata": {},
   "outputs": [],
   "source": []
  },
  {
   "cell_type": "markdown",
   "id": "41",
   "metadata": {},
   "source": [
    "### Exercise 5: Parsing and Extracting Address Information"
   ]
  },
  {
   "cell_type": "code",
   "execution_count": null,
   "id": "42",
   "metadata": {},
   "outputs": [],
   "source": []
  }
 ],
 "metadata": {
  "jupytext": {
   "default_lexer": "ipython3"
  },
  "kernelspec": {
   "display_name": "Python 3",
   "language": "python",
   "name": "python3"
  }
 },
 "nbformat": 4,
 "nbformat_minor": 5
}
