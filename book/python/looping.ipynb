{
 "cells": [
  {
   "cell_type": "markdown",
   "id": "0",
   "metadata": {},
   "source": [
    "# Loops and Conditional Statements\n",
    "\n",
    "## Introduction\n",
    "\n",
    "## Learning Objectives\n",
    "\n",
    "## For Loops\n",
    "\n",
    "### Basic For Loop Syntax"
   ]
  },
  {
   "cell_type": "code",
   "execution_count": null,
   "id": "1",
   "metadata": {},
   "outputs": [],
   "source": [
    "coordinates = [\n",
    "    (35.6895, 139.6917),\n",
    "    (34.0522, -118.2437),\n",
    "    (51.5074, -0.1278),\n",
    "]  # List of tuples representing coordinates\n",
    "\n",
    "for lat, lon in coordinates:\n",
    "    print(f\"Latitude: {lat}, Longitude: {lon}\")"
   ]
  },
  {
   "cell_type": "markdown",
   "id": "2",
   "metadata": {},
   "source": [
    "### Processing Multiple Data Points"
   ]
  },
  {
   "cell_type": "code",
   "execution_count": null,
   "id": "3",
   "metadata": {},
   "outputs": [],
   "source": [
    "def calculate_distance(lat1, lon1, lat2, lon2):\n",
    "    # Placeholder for distance calculation logic\n",
    "    return ((lat2 - lat1) ** 2 + (lon2 - lon1) ** 2) ** 0.5\n",
    "\n",
    "\n",
    "reference_point = (0, 0)  # Reference point (latitude, longitude)\n",
    "\n",
    "for lat, lon in coordinates:\n",
    "    distance = calculate_distance(reference_point[0], reference_point[1], lat, lon)\n",
    "    print(f\"Distance from {reference_point} to ({lat}, {lon}): {distance:.2f}\")"
   ]
  },
  {
   "cell_type": "markdown",
   "id": "4",
   "metadata": {},
   "source": [
    "### Iterating Through Geographic Collections"
   ]
  },
  {
   "cell_type": "code",
   "execution_count": null,
   "id": "5",
   "metadata": {},
   "outputs": [],
   "source": [
    "# Working with a list of place names\n",
    "cities = [\"New York\", \"Los Angeles\", \"Chicago\", \"Houston\", \"Phoenix\"]\n",
    "\n",
    "print(\"Major US Cities:\")\n",
    "for i, city in enumerate(cities):\n",
    "    print(f\"{i+1}. {city}\")"
   ]
  },
  {
   "cell_type": "markdown",
   "id": "6",
   "metadata": {},
   "source": [
    "## While Loops\n",
    "\n",
    "### Basic While Loop Structure"
   ]
  },
  {
   "cell_type": "code",
   "execution_count": null,
   "id": "7",
   "metadata": {},
   "outputs": [],
   "source": [
    "counter = 0\n",
    "while counter < len(coordinates):\n",
    "    lat, lon = coordinates[counter]\n",
    "    print(f\"Processing coordinate: ({lat}, {lon})\")\n",
    "    counter += 1"
   ]
  },
  {
   "cell_type": "markdown",
   "id": "8",
   "metadata": {},
   "source": [
    "### Practical While Loop Example"
   ]
  },
  {
   "cell_type": "code",
   "execution_count": null,
   "id": "9",
   "metadata": {},
   "outputs": [],
   "source": [
    "# Simulate searching for a coordinate within a certain range\n",
    "import random\n",
    "\n",
    "target_latitude = 40.0\n",
    "tolerance = 0.1\n",
    "attempts = 0\n",
    "max_attempts = 10\n",
    "\n",
    "print(f\"Searching for coordinates near latitude {target_latitude}\")\n",
    "\n",
    "while attempts < max_attempts:\n",
    "    # Simulate getting a new coordinate\n",
    "    random_lat = random.uniform(39.5, 40.5)\n",
    "    random_lon = random.uniform(-74.5, -73.5)\n",
    "    attempts += 1\n",
    "\n",
    "    print(f\"Attempt {attempts}: Found coordinate ({random_lat:.4f}, {random_lon:.4f})\")\n",
    "\n",
    "    # Check if we're close enough to the target\n",
    "    if abs(random_lat - target_latitude) <= tolerance:\n",
    "        print(f\"✓ Found coordinate within tolerance after {attempts} attempts!\")\n",
    "        break\n",
    "else:\n",
    "    print(f\"✗ Could not find suitable coordinate within {max_attempts} attempts\")"
   ]
  },
  {
   "cell_type": "markdown",
   "id": "10",
   "metadata": {},
   "source": [
    "## Control Statements: Making Decisions in Your Code\n",
    "\n",
    "### The if Statement"
   ]
  },
  {
   "cell_type": "code",
   "execution_count": null,
   "id": "11",
   "metadata": {},
   "outputs": [],
   "source": [
    "for lat, lon in coordinates:\n",
    "    if lat > 0:\n",
    "        print(f\"{lat} is in the Northern Hemisphere\")\n",
    "    elif lat < 0:\n",
    "        print(f\"{lat} is in the Southern Hemisphere\")\n",
    "    else:\n",
    "        print(f\"{lat} is near the equator\")"
   ]
  },
  {
   "cell_type": "markdown",
   "id": "12",
   "metadata": {},
   "source": [
    "### Multiple Conditions and Complex Logic"
   ]
  },
  {
   "cell_type": "code",
   "execution_count": null,
   "id": "13",
   "metadata": {},
   "outputs": [],
   "source": [
    "for lat, lon in coordinates:\n",
    "    if lat > 0:\n",
    "        hemisphere = \"Northern\"\n",
    "    else:\n",
    "        hemisphere = \"Southern\"\n",
    "\n",
    "    if lon > 0:\n",
    "        direction = \"Eastern\"\n",
    "    else:\n",
    "        direction = \"Western\"\n",
    "\n",
    "    print(\n",
    "        f\"The coordinate ({lat}, {lon}) is in the {hemisphere} Hemisphere and {direction} Hemisphere.\"\n",
    "    )"
   ]
  },
  {
   "cell_type": "markdown",
   "id": "14",
   "metadata": {},
   "source": [
    "### Logical Operators for Complex Conditions"
   ]
  },
  {
   "cell_type": "code",
   "execution_count": null,
   "id": "15",
   "metadata": {},
   "outputs": [],
   "source": [
    "# Classify coordinates by quadrant\n",
    "for lat, lon in coordinates:\n",
    "    if lat > 0 and lon > 0:\n",
    "        quadrant = \"Northeast\"\n",
    "    elif lat > 0 and lon < 0:\n",
    "        quadrant = \"Northwest\"\n",
    "    elif lat < 0 and lon > 0:\n",
    "        quadrant = \"Southeast\"\n",
    "    else:  # lat < 0 and lon < 0\n",
    "        quadrant = \"Southwest\"\n",
    "\n",
    "    print(f\"Coordinate ({lat}, {lon}) is in the {quadrant} quadrant\")"
   ]
  },
  {
   "cell_type": "markdown",
   "id": "16",
   "metadata": {},
   "source": [
    "## Combining Loops and Control Statements"
   ]
  },
  {
   "cell_type": "code",
   "execution_count": null,
   "id": "17",
   "metadata": {},
   "outputs": [],
   "source": [
    "filtered_coordinates = []\n",
    "for lat, lon in coordinates:\n",
    "    if lon > 0:\n",
    "        filtered_coordinates.append((lat, lon))\n",
    "print(f\"Filtered coordinates (only with positive longitude): {filtered_coordinates}\")"
   ]
  },
  {
   "cell_type": "markdown",
   "id": "18",
   "metadata": {},
   "source": [
    "### Counting and Analyzing Data"
   ]
  },
  {
   "cell_type": "code",
   "execution_count": null,
   "id": "19",
   "metadata": {},
   "outputs": [],
   "source": [
    "southern_count = 0\n",
    "for lat, lon in coordinates:\n",
    "    if lat < 0:\n",
    "        southern_count += 1\n",
    "print(f\"Number of coordinates in the Southern Hemisphere: {southern_count}\")"
   ]
  },
  {
   "cell_type": "markdown",
   "id": "20",
   "metadata": {},
   "source": [
    "### Building Summary Statistics"
   ]
  },
  {
   "cell_type": "code",
   "execution_count": null,
   "id": "21",
   "metadata": {},
   "outputs": [],
   "source": [
    "# Analyze a set of coordinates\n",
    "analysis_coordinates = [\n",
    "    (40.7128, -74.0060),  # New York\n",
    "    (-33.8688, 151.2093),  # Sydney\n",
    "    (51.5074, -0.1278),  # London\n",
    "    (-1.2921, 36.8219),  # Nairobi\n",
    "    (35.6762, 139.6503),  # Tokyo\n",
    "]\n",
    "\n",
    "# Initialize counters\n",
    "northern_count = 0\n",
    "southern_count = 0\n",
    "eastern_count = 0\n",
    "western_count = 0\n",
    "valid_coordinates = []\n",
    "\n",
    "print(\"Coordinate Analysis:\")\n",
    "print(\"-\" * 40)\n",
    "\n",
    "for lat, lon in analysis_coordinates:\n",
    "    # Validate coordinates (basic check)\n",
    "    if -90 <= lat <= 90 and -180 <= lon <= 180:\n",
    "        valid_coordinates.append((lat, lon))\n",
    "\n",
    "        # Count by hemisphere\n",
    "        if lat >= 0:\n",
    "            northern_count += 1\n",
    "        else:\n",
    "            southern_count += 1\n",
    "\n",
    "        # Count by longitude\n",
    "        if lon >= 0:\n",
    "            eastern_count += 1\n",
    "        else:\n",
    "            western_count += 1\n",
    "\n",
    "        print(f\"Valid: ({lat:7.4f}, {lon:8.4f})\")\n",
    "    else:\n",
    "        print(f\"Invalid: ({lat}, {lon}) - coordinates out of range\")\n",
    "\n",
    "print(f\"\\nSummary:\")\n",
    "print(f\"Valid coordinates: {len(valid_coordinates)}\")\n",
    "print(f\"Northern Hemisphere: {northern_count}\")\n",
    "print(f\"Southern Hemisphere: {southern_count}\")\n",
    "print(f\"Eastern Longitude: {eastern_count}\")\n",
    "print(f\"Western Longitude: {western_count}\")"
   ]
  },
  {
   "cell_type": "markdown",
   "id": "22",
   "metadata": {},
   "source": [
    "## Loop and Control Statement Decision Guide\n",
    "\n",
    "## Key Takeaways\n",
    "\n",
    "## Exercises\n",
    "\n",
    "### Exercise 1: Using For Loops to Process Coordinate Lists"
   ]
  },
  {
   "cell_type": "code",
   "execution_count": null,
   "id": "23",
   "metadata": {},
   "outputs": [],
   "source": []
  },
  {
   "cell_type": "markdown",
   "id": "24",
   "metadata": {},
   "source": [
    "### Exercise 2: While Loops for Iterative Processing"
   ]
  },
  {
   "cell_type": "code",
   "execution_count": null,
   "id": "25",
   "metadata": {},
   "outputs": [],
   "source": []
  },
  {
   "cell_type": "markdown",
   "id": "26",
   "metadata": {},
   "source": [
    "### Exercise 3: Conditional Logic in Loops"
   ]
  },
  {
   "cell_type": "code",
   "execution_count": null,
   "id": "27",
   "metadata": {},
   "outputs": [],
   "source": []
  },
  {
   "cell_type": "markdown",
   "id": "28",
   "metadata": {},
   "source": [
    "### Exercise 4: Filtering Data with Combined Loops and Conditionals"
   ]
  },
  {
   "cell_type": "code",
   "execution_count": null,
   "id": "29",
   "metadata": {},
   "outputs": [],
   "source": []
  },
  {
   "cell_type": "markdown",
   "id": "30",
   "metadata": {},
   "source": [
    "### Exercise 5: Generating and Analyzing Random Coordinates"
   ]
  },
  {
   "cell_type": "code",
   "execution_count": null,
   "id": "31",
   "metadata": {},
   "outputs": [],
   "source": []
  }
 ],
 "metadata": {
  "jupytext": {
   "default_lexer": "ipython3"
  },
  "kernelspec": {
   "display_name": "Python 3",
   "language": "python",
   "name": "python3"
  }
 },
 "nbformat": 4,
 "nbformat_minor": 5
}
