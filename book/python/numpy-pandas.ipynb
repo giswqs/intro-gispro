{
 "cells": [
  {
   "cell_type": "markdown",
   "id": "0",
   "metadata": {},
   "source": [
    "# Data Analysis with NumPy and Pandas\n",
    "\n",
    "## Introduction\n",
    "\n",
    "## Learning Objectives\n",
    "\n",
    "## Introduction to NumPy\n",
    "\n",
    "### Creating NumPy Arrays"
   ]
  },
  {
   "cell_type": "code",
   "execution_count": null,
   "id": "1",
   "metadata": {},
   "outputs": [],
   "source": [
    "import numpy as np"
   ]
  },
  {
   "cell_type": "code",
   "execution_count": null,
   "id": "2",
   "metadata": {},
   "outputs": [],
   "source": [
    "elevation_readings = np.array([245, 312, 156, 423, 678])\n",
    "print(f\"1D Array (elevation readings): {elevation_readings}\")\n",
    "print(f\"Data type: {elevation_readings.dtype}\")\n",
    "print(f\"Array shape: {elevation_readings.shape}\")"
   ]
  },
  {
   "cell_type": "code",
   "execution_count": null,
   "id": "3",
   "metadata": {},
   "outputs": [],
   "source": [
    "# Each row represents one location: [latitude, longitude]\n",
    "coordinates = np.array(\n",
    "    [[35.6895, 139.6917], [40.7128, -74.0060], [51.5074, -0.1278]]  # Tokyo  # New York\n",
    ")  # London\n",
    "print(f\"2D Array (city coordinates):\\n{coordinates}\")\n",
    "print(f\"Array shape: {coordinates.shape}\")  # (3 rows, 2 columns)\n",
    "print(f\"Number of cities: {coordinates.shape[0]}\")"
   ]
  },
  {
   "cell_type": "code",
   "execution_count": null,
   "id": "4",
   "metadata": {},
   "outputs": [],
   "source": [
    "# For example, you might create a grid to store calculated distances\n",
    "distance_matrix = np.zeros((3, 3))\n",
    "print(f\"Distance matrix (initialized with zeros):\\n{distance_matrix}\")\n",
    "print(f\"This could store distances between {distance_matrix.shape[0]} cities\")"
   ]
  },
  {
   "cell_type": "code",
   "execution_count": null,
   "id": "5",
   "metadata": {},
   "outputs": [],
   "source": [
    "# You can multiply by any number to get arrays filled with that value\n",
    "weights = np.ones((2, 4)) * 0.5  # Array filled with 0.5\n",
    "print(f\"Array of weights (0.5):\\n{weights}\")\n",
    "\n",
    "# Or create an array for marking valid data points\n",
    "valid_data_flags = np.ones((5,), dtype=bool)  # All True initially\n",
    "print(f\"Data validity flags: {valid_data_flags}\")"
   ]
  },
  {
   "cell_type": "code",
   "execution_count": null,
   "id": "6",
   "metadata": {},
   "outputs": [],
   "source": [
    "# For example, creating a series of years for time series analysis\n",
    "years = np.arange(2010, 2021, 1)  # From 2010 to 2020, step by 1\n",
    "print(f\"Years array: {years}\")\n",
    "\n",
    "# Or creating latitude values for a grid\n",
    "latitudes = np.arange(-90, 91, 30)  # From -90 to 90 degrees, every 30 degrees\n",
    "print(f\"Latitude grid: {latitudes}\")\n",
    "\n",
    "# You can also use linspace for evenly spaced values\n",
    "longitudes = np.linspace(-180, 180, 7)  # 7 evenly spaced values from -180 to 180\n",
    "print(f\"Longitude grid: {longitudes}\")"
   ]
  },
  {
   "cell_type": "markdown",
   "id": "7",
   "metadata": {},
   "source": [
    "### Basic Array Operations"
   ]
  },
  {
   "cell_type": "code",
   "execution_count": null,
   "id": "8",
   "metadata": {},
   "outputs": [],
   "source": [
    "# Element-wise addition - add the same value to every element\n",
    "# Example: adjusting elevation readings by adding a reference height\n",
    "elevation_readings = np.array([245, 312, 156, 423, 678])\n",
    "sea_level_adjustment = elevation_readings + 10  # Add 10 meters to all readings\n",
    "print(f\"Original elevations: {elevation_readings}\")\n",
    "print(f\"Adjusted elevations: {sea_level_adjustment}\")"
   ]
  },
  {
   "cell_type": "code",
   "execution_count": null,
   "id": "9",
   "metadata": {},
   "outputs": [],
   "source": [
    "# Element-wise multiplication - multiply every element by the same value\n",
    "# Example: converting elevation from meters to feet (1 meter = 3.28084 feet)\n",
    "elevations_meters = np.array([245, 312, 156, 423, 678])\n",
    "elevations_feet = elevations_meters * 3.28084\n",
    "print(f\"Elevations in meters: {elevations_meters}\")\n",
    "print(f\"Elevations in feet: {elevations_feet.round(1)}\")  # Round to 1 decimal place\n",
    "\n",
    "# You can also add, subtract, and divide arrays by scalars\n",
    "temperatures_celsius = np.array([15.5, 22.3, 8.9, 31.2])\n",
    "temperatures_fahrenheit = temperatures_celsius * 9 / 5 + 32\n",
    "print(f\"Temperatures in Celsius: {temperatures_celsius}\")\n",
    "print(f\"Temperatures in Fahrenheit: {temperatures_fahrenheit.round(1)}\")"
   ]
  },
  {
   "cell_type": "code",
   "execution_count": null,
   "id": "10",
   "metadata": {},
   "outputs": [],
   "source": [
    "# Operations between arrays - element-wise operations between two arrays\n",
    "# Example: calculating weighted coordinates\n",
    "coordinates = np.array(\n",
    "    [[35.6895, 139.6917], [40.7128, -74.0060], [51.5074, -0.1278]]  # Tokyo  # New York\n",
    ")  # London\n",
    "\n",
    "# Apply different weights to latitude and longitude (useful for some projections)\n",
    "weights = np.array([1.0, 0.8])  # Weight latitude normally, reduce longitude weight\n",
    "weighted_coords = coordinates * weights\n",
    "print(f\"Original coordinates:\\n{coordinates}\")\n",
    "print(f\"Weighted coordinates:\\n{weighted_coords}\")\n",
    "\n",
    "# You can also perform operations between arrays of the same shape\n",
    "coord_differences = coordinates - coordinates[0]  # Distance from first city (Tokyo)\n",
    "print(f\"Coordinate differences from Tokyo:\\n{coord_differences}\")"
   ]
  },
  {
   "cell_type": "markdown",
   "id": "11",
   "metadata": {},
   "source": [
    "### Reshaping Arrays"
   ]
  },
  {
   "cell_type": "code",
   "execution_count": null,
   "id": "12",
   "metadata": {},
   "outputs": [],
   "source": [
    "# Example: Reshape coordinate data received as a flat list\n",
    "# Imagine you received GPS data as: [lat1, lon1, lat2, lon2, lat3, lon3]\n",
    "flat_coordinates = np.array([35.6895, 139.6917, 40.7128, -74.0060, 51.5074, -0.1278])\n",
    "print(f\"Flat coordinate data: {flat_coordinates}\")\n",
    "\n",
    "# Reshape into coordinate pairs (3 rows, 2 columns)\n",
    "coordinate_pairs = flat_coordinates.reshape((3, 2))\n",
    "print(f\"Reshaped into coordinate pairs:\\n{coordinate_pairs}\")\n",
    "\n",
    "# Alternatively, you can use -1 to let NumPy calculate one dimension\n",
    "# This is useful when you know you want pairs but don't know how many\n",
    "coordinate_pairs_auto = flat_coordinates.reshape(-1, 2)\n",
    "print(f\"Auto-calculated rows: {coordinate_pairs_auto.shape}\")"
   ]
  },
  {
   "cell_type": "code",
   "execution_count": null,
   "id": "13",
   "metadata": {},
   "outputs": [],
   "source": [
    "# Understanding array properties\n",
    "print(f\"Original flat array shape: {flat_coordinates.shape}\")\n",
    "print(f\"Reshaped array shape: {coordinate_pairs.shape}\")\n",
    "print(\n",
    "    f\"Total elements (should be the same): {flat_coordinates.size} vs {coordinate_pairs.size}\"\n",
    ")\n",
    "\n",
    "# You can also flatten a multidimensional array back to 1D\n",
    "flattened_again = coordinate_pairs.flatten()\n",
    "print(f\"Flattened back to 1D: {flattened_again}\")"
   ]
  },
  {
   "cell_type": "markdown",
   "id": "14",
   "metadata": {},
   "source": [
    "### Mathematical Functions on Arrays"
   ]
  },
  {
   "cell_type": "code",
   "execution_count": null,
   "id": "15",
   "metadata": {},
   "outputs": [],
   "source": [
    "# Mathematical functions applied to arrays\n",
    "distances_squared = np.array([100, 400, 900, 1600, 2500])  # Squared distances in km²\n",
    "actual_distances = np.sqrt(distances_squared)  # Calculate actual distances\n",
    "print(f\"Squared distances: {distances_squared}\")\n",
    "print(f\"Actual distances: {actual_distances}\")\n",
    "\n",
    "# Trigonometric functions - essential for coordinate conversions\n",
    "angles_degrees = np.array([0, 30, 45, 60, 90])\n",
    "angles_radians = np.radians(angles_degrees)  # Convert to radians first\n",
    "sine_values = np.sin(angles_radians)\n",
    "cosine_values = np.cos(angles_radians)\n",
    "print(f\"Angles (degrees): {angles_degrees}\")\n",
    "print(f\"Sine values: {sine_values.round(3)}\")\n",
    "print(f\"Cosine values: {cosine_values.round(3)}\")"
   ]
  },
  {
   "cell_type": "code",
   "execution_count": null,
   "id": "16",
   "metadata": {},
   "outputs": [],
   "source": [
    "# Logarithmic and exponential functions\n",
    "population_data = np.array([100000, 500000, 1000000, 5000000, 10000000])\n",
    "# Log transformation is often used to normalize highly skewed data like population\n",
    "log_population = np.log10(population_data)  # Base-10 logarithm\n",
    "print(f\"Population data: {population_data}\")\n",
    "print(f\"Log10 of population: {log_population.round(2)}\")\n",
    "\n",
    "# Exponential functions\n",
    "growth_rates = np.array([0.01, 0.02, 0.03, 0.05])  # 1%, 2%, 3%, 5% growth rates\n",
    "exponential_growth = np.exp(growth_rates)  # e^x\n",
    "print(f\"Growth rates: {growth_rates}\")\n",
    "print(f\"Exponential factors: {exponential_growth.round(3)}\")"
   ]
  },
  {
   "cell_type": "markdown",
   "id": "17",
   "metadata": {},
   "source": [
    "### Statistical Operations"
   ]
  },
  {
   "cell_type": "code",
   "execution_count": null,
   "id": "18",
   "metadata": {},
   "outputs": [],
   "source": [
    "elevation_profile = np.array(\n",
    "    [1245, 1367, 1423, 1389, 1456, 1502, 1478, 1398, 1334, 1278]\n",
    ")\n",
    "\n",
    "# Basic descriptive statistics\n",
    "mean_elevation = np.mean(elevation_profile)\n",
    "median_elevation = np.median(elevation_profile)\n",
    "std_elevation = np.std(elevation_profile)\n",
    "min_elevation = np.min(elevation_profile)\n",
    "max_elevation = np.max(elevation_profile)\n",
    "\n",
    "print(f\"Elevation Profile Statistics:\")\n",
    "print(f\"Mean elevation: {mean_elevation:.1f} meters\")\n",
    "print(f\"Median elevation: {median_elevation:.1f} meters\")\n",
    "print(f\"Standard deviation: {std_elevation:.1f} meters\")\n",
    "print(f\"Elevation range: {min_elevation} - {max_elevation} meters\")\n",
    "print(f\"Total elevation gain: {max_elevation - min_elevation} meters\")\n",
    "\n",
    "# Percentiles help understand the distribution\n",
    "percentiles = np.percentile(elevation_profile, [25, 50, 75])\n",
    "print(f\"25th, 50th, 75th percentiles: {percentiles}\")"
   ]
  },
  {
   "cell_type": "markdown",
   "id": "19",
   "metadata": {},
   "source": [
    "### Random Data Generation for Simulation"
   ]
  },
  {
   "cell_type": "code",
   "execution_count": null,
   "id": "20",
   "metadata": {},
   "outputs": [],
   "source": [
    "# Set a seed for reproducible results (useful for testing)\n",
    "np.random.seed(42)\n",
    "\n",
    "# Generate random coordinates within realistic bounds\n",
    "# Latitudes: -90 to 90 degrees, Longitudes: -180 to 180 degrees\n",
    "n_points = 5\n",
    "random_latitudes = np.random.uniform(-90, 90, n_points)\n",
    "random_longitudes = np.random.uniform(-180, 180, n_points)\n",
    "\n",
    "print(f\"Random coordinates:\")\n",
    "for i in range(n_points):\n",
    "    print(f\"Point {i+1}: ({random_latitudes[i]:.4f}, {random_longitudes[i]:.4f})\")"
   ]
  },
  {
   "cell_type": "code",
   "execution_count": null,
   "id": "21",
   "metadata": {},
   "outputs": [],
   "source": [
    "temperature_base = 20  # Base temperature in Celsius\n",
    "temperature_readings = np.random.normal(\n",
    "    temperature_base, 3, 10\n",
    ")  # Mean=20, std=3, 10 readings\n",
    "print(f\"\\nSimulated temperature readings (°C):\")\n",
    "print(temperature_readings.round(1))\n",
    "\n",
    "# Generate random integers - useful for sampling or indexing\n",
    "random_indices = np.random.randint(0, 100, 5)  # Random integers between 0 and 99\n",
    "print(f\"\\nRandom sample indices: {random_indices}\")"
   ]
  },
  {
   "cell_type": "markdown",
   "id": "22",
   "metadata": {},
   "source": [
    "### Indexing, Slicing, and Iterating\n",
    "\n",
    "#### Indexing in NumPy"
   ]
  },
  {
   "cell_type": "code",
   "execution_count": null,
   "id": "23",
   "metadata": {},
   "outputs": [],
   "source": [
    "# Create a 1D array of temperatures recorded at different times\n",
    "temperatures = np.array([15.2, 18.5, 22.1, 19.8, 16.3])\n",
    "\n",
    "# Accessing the first temperature reading\n",
    "first_temp = temperatures[0]\n",
    "print(f\"First temperature reading: {first_temp}°C\")\n",
    "\n",
    "# Accessing the last temperature reading (negative indexing)\n",
    "last_temp = temperatures[-1]\n",
    "print(f\"Last temperature reading: {last_temp}°C\")\n",
    "\n",
    "# Accessing the middle reading\n",
    "middle_temp = temperatures[2]\n",
    "print(f\"Middle temperature reading: {middle_temp}°C\")"
   ]
  },
  {
   "cell_type": "code",
   "execution_count": null,
   "id": "24",
   "metadata": {},
   "outputs": [],
   "source": [
    "# Create a 2D array\n",
    "arr_2d = np.array([[1, 2, 3], [4, 5, 6], [7, 8, 9]])\n",
    "arr_2d"
   ]
  },
  {
   "cell_type": "code",
   "execution_count": null,
   "id": "25",
   "metadata": {},
   "outputs": [],
   "source": [
    "# Accessing the element in the first row and second column\n",
    "element = arr_2d[0, 1]\n",
    "print(f\"Element at row 1, column 2: {element}\")\n",
    "\n",
    "# Accessing the element in the last row and last column\n",
    "element_last = arr_2d[-1, -1]\n",
    "print(f\"Element at last row, last column: {element_last}\")"
   ]
  },
  {
   "cell_type": "markdown",
   "id": "26",
   "metadata": {},
   "source": [
    "#### Slicing in NumPy"
   ]
  },
  {
   "cell_type": "code",
   "execution_count": null,
   "id": "27",
   "metadata": {},
   "outputs": [],
   "source": [
    "# Create a 1D array\n",
    "arr = np.array([10, 20, 30, 40, 50])\n",
    "\n",
    "# Slice elements from index 1 to 3 (exclusive)\n",
    "slice_1d = arr[1:4]\n",
    "print(f\"Slice from index 1 to 3: {slice_1d}\")\n",
    "\n",
    "# Slice all elements from index 2 onwards\n",
    "slice_2d = arr[2:]\n",
    "print(f\"Slice from index 2 onwards: {slice_2d}\")"
   ]
  },
  {
   "cell_type": "code",
   "execution_count": null,
   "id": "28",
   "metadata": {},
   "outputs": [],
   "source": [
    "# Create a 2D array\n",
    "arr_2d = np.array([[1, 2, 3], [4, 5, 6], [7, 8, 9]])\n",
    "arr_2d"
   ]
  },
  {
   "cell_type": "code",
   "execution_count": null,
   "id": "29",
   "metadata": {},
   "outputs": [],
   "source": [
    "# Slice the first two rows and all columns\n",
    "slice_2d = arr_2d[:2, :]\n",
    "print(f\"Sliced 2D array (first two rows):\\n{slice_2d}\")\n",
    "\n",
    "# Slice the last two rows and the first two columns\n",
    "slice_2d_partial = arr_2d[1:, :2]\n",
    "print(f\"Sliced 2D array (last two rows, first two columns):\\n{slice_2d_partial}\")"
   ]
  },
  {
   "cell_type": "markdown",
   "id": "30",
   "metadata": {},
   "source": [
    "#### Boolean Indexing"
   ]
  },
  {
   "cell_type": "code",
   "execution_count": null,
   "id": "31",
   "metadata": {},
   "outputs": [],
   "source": [
    "# Create a 1D array\n",
    "arr = np.array([10, 20, 30, 40, 50])\n",
    "\n",
    "# Boolean condition to select elements greater than 25\n",
    "condition = arr > 25\n",
    "print(f\"Boolean condition: {condition}\")\n",
    "\n",
    "# Use the condition to filter the array\n",
    "filtered_arr = arr[condition]\n",
    "print(f\"Filtered array (elements > 25): {filtered_arr}\")"
   ]
  },
  {
   "cell_type": "markdown",
   "id": "32",
   "metadata": {},
   "source": [
    "#### Iterating Over Arrays"
   ]
  },
  {
   "cell_type": "code",
   "execution_count": null,
   "id": "33",
   "metadata": {},
   "outputs": [],
   "source": [
    "# Create a 1D array\n",
    "arr = np.array([10, 20, 30, 40, 50])\n",
    "\n",
    "# Iterating through the array\n",
    "for element in arr:\n",
    "    print(f\"Element: {element}\")"
   ]
  },
  {
   "cell_type": "code",
   "execution_count": null,
   "id": "34",
   "metadata": {},
   "outputs": [],
   "source": [
    "# Create a 2D array\n",
    "arr_2d = np.array([[1, 2, 3], [4, 5, 6], [7, 8, 9]])\n",
    "\n",
    "# Iterating through rows of the 2D array\n",
    "print(\"Iterating over rows:\")\n",
    "for row in arr_2d:\n",
    "    print(row)\n",
    "\n",
    "# Iterating through each element of the 2D array\n",
    "print(\"\\nIterating over each element:\")\n",
    "for row in arr_2d:\n",
    "    for element in row:\n",
    "        print(element, end=\" \")"
   ]
  },
  {
   "cell_type": "markdown",
   "id": "35",
   "metadata": {},
   "source": [
    "### Modifying Array Elements"
   ]
  },
  {
   "cell_type": "code",
   "execution_count": null,
   "id": "36",
   "metadata": {},
   "outputs": [],
   "source": [
    "# Create a 1D array\n",
    "arr = np.array([10, 20, 30, 40, 50])\n",
    "\n",
    "# Modify the element at index 1\n",
    "arr[1] = 25\n",
    "print(f\"Modified array: {arr}\")\n",
    "\n",
    "# Modify multiple elements using slicing\n",
    "arr[2:4] = [35, 45]\n",
    "print(f\"Modified array with slicing: {arr}\")"
   ]
  },
  {
   "cell_type": "markdown",
   "id": "37",
   "metadata": {},
   "source": [
    "### Working with Geospatial Coordinates"
   ]
  },
  {
   "cell_type": "code",
   "execution_count": null,
   "id": "38",
   "metadata": {},
   "outputs": [],
   "source": [
    "# Array of latitudes and longitudes\n",
    "coords = np.array([[35.6895, 139.6917], [34.0522, -118.2437], [51.5074, -0.1278]])\n",
    "\n",
    "# Convert degrees to radians\n",
    "coords_radians = np.radians(coords)\n",
    "print(f\"Coordinates in radians:\\n{coords_radians}\")"
   ]
  },
  {
   "cell_type": "markdown",
   "id": "39",
   "metadata": {},
   "source": [
    "## Introduction to Pandas\n",
    "\n",
    "### Creating Pandas Series and DataFrames"
   ]
  },
  {
   "cell_type": "code",
   "execution_count": null,
   "id": "40",
   "metadata": {},
   "outputs": [],
   "source": [
    "import pandas as pd"
   ]
  },
  {
   "cell_type": "code",
   "execution_count": null,
   "id": "41",
   "metadata": {},
   "outputs": [],
   "source": [
    "# Creating a Series - a labeled one-dimensional array\n",
    "# This could represent a list of city names with automatic indexing\n",
    "city_series = pd.Series([\"Tokyo\", \"Los Angeles\", \"London\"], name=\"City\")\n",
    "print(f\"Pandas Series (city names):\\n{city_series}\")\n",
    "print(f\"Series name: {city_series.name}\")\n",
    "print(f\"Series index: {city_series.index.tolist()}\")"
   ]
  },
  {
   "cell_type": "code",
   "execution_count": null,
   "id": "42",
   "metadata": {},
   "outputs": [],
   "source": [
    "data = {\n",
    "    \"City\": [\"Tokyo\", \"Los Angeles\", \"London\"],\n",
    "    \"Latitude\": [35.6895, 34.0522, 51.5074],\n",
    "    \"Longitude\": [139.6917, -118.2437, -0.1278],\n",
    "    \"Country\": [\"Japan\", \"USA\", \"UK\"],\n",
    "}\n",
    "df = pd.DataFrame(data)\n",
    "print(f\"Pandas DataFrame (city information):\\n{df}\")\n",
    "print(f\"\\nDataFrame shape: {df.shape}\")  # (rows, columns)\n",
    "print(f\"Column names: {df.columns.tolist()}\")\n",
    "print(f\"Data types:\\n{df.dtypes}\")"
   ]
  },
  {
   "cell_type": "code",
   "execution_count": null,
   "id": "43",
   "metadata": {},
   "outputs": [],
   "source": [
    "display(df)"
   ]
  },
  {
   "cell_type": "markdown",
   "id": "44",
   "metadata": {},
   "source": [
    "### Basic DataFrame Operations"
   ]
  },
  {
   "cell_type": "code",
   "execution_count": null,
   "id": "45",
   "metadata": {},
   "outputs": [],
   "source": [
    "# Selecting a specific column - returns a Series\n",
    "latitudes = df[\"Latitude\"]\n",
    "print(f\"Latitudes column (Series):\\n{latitudes}\")\n",
    "print(f\"Type: {type(latitudes)}\")"
   ]
  },
  {
   "cell_type": "code",
   "execution_count": null,
   "id": "46",
   "metadata": {},
   "outputs": [],
   "source": [
    "# Selecting multiple columns - returns a DataFrame\n",
    "coordinates = df[[\"Latitude\", \"Longitude\"]]\n",
    "print(f\"\\nCoordinates (DataFrame):\\n{coordinates}\")\n",
    "print(f\"Type: {type(coordinates)}\")"
   ]
  },
  {
   "cell_type": "code",
   "execution_count": null,
   "id": "47",
   "metadata": {},
   "outputs": [],
   "source": [
    "western_cities = df[df[\"Longitude\"] < 0]\n",
    "print(\"Cities in Western Hemisphere:\")\n",
    "print(western_cities)"
   ]
  },
  {
   "cell_type": "code",
   "execution_count": null,
   "id": "48",
   "metadata": {},
   "outputs": [],
   "source": [
    "northern_western = df[(df[\"Latitude\"] > 40) & (df[\"Longitude\"] < 0)]\n",
    "print(f\"\\nNorthern Western cities:\\n{northern_western}\")\n",
    "\n",
    "# Filter by text values\n",
    "usa_cities = df[df[\"Country\"] == \"USA\"]\n",
    "print(f\"\\nUSA cities:\\n{usa_cities}\")"
   ]
  },
  {
   "cell_type": "code",
   "execution_count": null,
   "id": "49",
   "metadata": {},
   "outputs": [],
   "source": [
    "df[\"Lat_Radians\"] = np.radians(df[\"Latitude\"])\n",
    "df[\"Lon_Radians\"] = np.radians(df[\"Longitude\"])\n",
    "df"
   ]
  },
  {
   "cell_type": "code",
   "execution_count": null,
   "id": "50",
   "metadata": {},
   "outputs": [],
   "source": [
    "df[\"City_Country\"] = df[\"City\"] + \", \" + df[\"Country\"]\n",
    "df"
   ]
  },
  {
   "cell_type": "markdown",
   "id": "51",
   "metadata": {},
   "source": [
    "### Grouping and Aggregation"
   ]
  },
  {
   "cell_type": "code",
   "execution_count": null,
   "id": "52",
   "metadata": {},
   "outputs": [],
   "source": [
    "data = {\n",
    "    \"City\": [\"Tokyo\", \"Los Angeles\", \"London\", \"Paris\", \"Chicago\"],\n",
    "    \"Country\": [\"Japan\", \"USA\", \"UK\", \"France\", \"USA\"],\n",
    "    \"Population\": [37400068, 3970000, 9126366, 2140526, 2665000],\n",
    "}\n",
    "df = pd.DataFrame(data)\n",
    "df"
   ]
  },
  {
   "cell_type": "code",
   "execution_count": null,
   "id": "53",
   "metadata": {},
   "outputs": [],
   "source": [
    "df_grouped = df.groupby(\"Country\")[\"Population\"].sum()\n",
    "print(f\"Total Population by Country:\\n{df_grouped}\")"
   ]
  },
  {
   "cell_type": "markdown",
   "id": "54",
   "metadata": {},
   "source": [
    "### Merging DataFrames"
   ]
  },
  {
   "cell_type": "code",
   "execution_count": null,
   "id": "55",
   "metadata": {},
   "outputs": [],
   "source": [
    "df1 = pd.DataFrame(\n",
    "    {\"City\": [\"Tokyo\", \"Los Angeles\", \"London\"], \"Country\": [\"Japan\", \"USA\", \"UK\"]}\n",
    ")\n",
    "df2 = pd.DataFrame(\n",
    "    {\n",
    "        \"City\": [\"Tokyo\", \"Los Angeles\", \"London\"],\n",
    "        \"Population\": [37400068, 3970000, 9126366],\n",
    "    }\n",
    ")"
   ]
  },
  {
   "cell_type": "code",
   "execution_count": null,
   "id": "56",
   "metadata": {},
   "outputs": [],
   "source": [
    "df1"
   ]
  },
  {
   "cell_type": "code",
   "execution_count": null,
   "id": "57",
   "metadata": {},
   "outputs": [],
   "source": [
    "df2"
   ]
  },
  {
   "cell_type": "code",
   "execution_count": null,
   "id": "58",
   "metadata": {},
   "outputs": [],
   "source": [
    "# Merge the two DataFrames on the 'City' column\n",
    "df_merged = pd.merge(df1, df2, on=\"City\")\n",
    "df_merged"
   ]
  },
  {
   "cell_type": "markdown",
   "id": "59",
   "metadata": {},
   "source": [
    "### Handling Missing Data"
   ]
  },
  {
   "cell_type": "code",
   "execution_count": null,
   "id": "60",
   "metadata": {},
   "outputs": [],
   "source": [
    "data_with_nan = {\n",
    "    \"City\": [\"Tokyo\", \"Los Angeles\", \"London\", \"Paris\"],\n",
    "    \"Population\": [37400068, 3970000, None, 2140526],\n",
    "}\n",
    "df_nan = pd.DataFrame(data_with_nan)\n",
    "df_nan"
   ]
  },
  {
   "cell_type": "code",
   "execution_count": null,
   "id": "61",
   "metadata": {},
   "outputs": [],
   "source": [
    "df_filled = df_nan.fillna(df_nan[\"Population\"].mean())\n",
    "df_filled"
   ]
  },
  {
   "cell_type": "markdown",
   "id": "62",
   "metadata": {},
   "source": [
    "### Reading Geospatial Data from a CSV File"
   ]
  },
  {
   "cell_type": "code",
   "execution_count": null,
   "id": "63",
   "metadata": {},
   "outputs": [],
   "source": [
    "url = \"https://github.com/opengeos/datasets/releases/download/world/world_cities.csv\"\n",
    "df = pd.read_csv(url)\n",
    "df.head()"
   ]
  },
  {
   "cell_type": "code",
   "execution_count": null,
   "id": "64",
   "metadata": {},
   "outputs": [],
   "source": [
    "np.sum(df[\"population\"])"
   ]
  },
  {
   "cell_type": "markdown",
   "id": "65",
   "metadata": {},
   "source": [
    "### Creating plots with Pandas"
   ]
  },
  {
   "cell_type": "code",
   "execution_count": null,
   "id": "66",
   "metadata": {},
   "outputs": [],
   "source": [
    "# Load the dataset from an online source\n",
    "url = \"https://raw.githubusercontent.com/pandas-dev/pandas/main/doc/data/air_quality_no2.csv\"\n",
    "air_quality = pd.read_csv(url, index_col=0, parse_dates=True)\n",
    "\n",
    "# Display the first few rows of the dataset\n",
    "air_quality.head()"
   ]
  },
  {
   "cell_type": "code",
   "execution_count": null,
   "id": "67",
   "metadata": {},
   "outputs": [],
   "source": [
    "import matplotlib.pyplot as plt\n",
    "\n",
    "# Set default DPI for all plots\n",
    "plt.rcParams[\"figure.dpi\"] = 300"
   ]
  },
  {
   "cell_type": "code",
   "execution_count": null,
   "id": "68",
   "metadata": {},
   "outputs": [],
   "source": [
    "air_quality.plot(figsize=(10, 5))"
   ]
  },
  {
   "cell_type": "code",
   "execution_count": null,
   "id": "69",
   "metadata": {},
   "outputs": [],
   "source": [
    "air_quality[\"station_paris\"].plot(figsize=(10, 5))"
   ]
  },
  {
   "cell_type": "code",
   "execution_count": null,
   "id": "70",
   "metadata": {},
   "outputs": [],
   "source": [
    "air_quality.plot.scatter(x=\"station_london\", y=\"station_paris\", alpha=0.5)"
   ]
  },
  {
   "cell_type": "code",
   "execution_count": null,
   "id": "71",
   "metadata": {},
   "outputs": [],
   "source": [
    "air_quality.plot.area(figsize=(12, 4), subplots=True)"
   ]
  },
  {
   "cell_type": "markdown",
   "id": "72",
   "metadata": {},
   "source": [
    "## Combining NumPy and Pandas"
   ]
  },
  {
   "cell_type": "code",
   "execution_count": null,
   "id": "73",
   "metadata": {},
   "outputs": [],
   "source": [
    "# Define the Haversine formula using NumPy\n",
    "def haversine_np(lat1, lon1, lat2, lon2):\n",
    "    R = 6371.0  # Earth radius in kilometers\n",
    "    dlat = np.radians(lat2 - lat1)\n",
    "    dlon = np.radians(lon2 - lon1)\n",
    "    a = (\n",
    "        np.sin(dlat / 2) ** 2\n",
    "        + np.cos(np.radians(lat1)) * np.cos(np.radians(lat2)) * np.sin(dlon / 2) ** 2\n",
    "    )\n",
    "    c = 2 * np.arctan2(np.sqrt(a), np.sqrt(1 - a))\n",
    "    distance = R * c\n",
    "    return distance\n",
    "\n",
    "\n",
    "# Define a function to calculate distances from a city to all other cities\n",
    "def calculate_average_distance(df):\n",
    "    lat1 = df[\"Latitude\"].values\n",
    "    lon1 = df[\"Longitude\"].values\n",
    "    lat2, lon2 = np.meshgrid(lat1, lon1)\n",
    "    distances = haversine_np(lat1, lon1, lat2, lon2)\n",
    "    avg_distances = np.mean(distances, axis=1)\n",
    "    return avg_distances\n",
    "\n",
    "\n",
    "# Creating a DataFrame\n",
    "data = {\n",
    "    \"City\": [\"Tokyo\", \"Los Angeles\", \"London\"],\n",
    "    \"Latitude\": [35.6895, 34.0522, 51.5074],\n",
    "    \"Longitude\": [139.6917, -118.2437, -0.1278],\n",
    "}\n",
    "df = pd.DataFrame(data)\n",
    "\n",
    "# Apply the function to calculate average distances\n",
    "df[\"Avg_Distance_km\"] = calculate_average_distance(df)\n",
    "df"
   ]
  },
  {
   "cell_type": "markdown",
   "id": "74",
   "metadata": {},
   "source": [
    "## Key Takeaways\n",
    "\n",
    "## Further Reading\n",
    "\n",
    "## Exercises\n",
    "\n",
    "### Exercise 1: NumPy Array Operations and Geospatial Coordinates"
   ]
  },
  {
   "cell_type": "code",
   "execution_count": null,
   "id": "75",
   "metadata": {},
   "outputs": [],
   "source": []
  },
  {
   "cell_type": "markdown",
   "id": "76",
   "metadata": {},
   "source": [
    "### Exercise 2: Pandas DataFrame Operations with Geospatial Data"
   ]
  },
  {
   "cell_type": "code",
   "execution_count": null,
   "id": "77",
   "metadata": {},
   "outputs": [],
   "source": []
  }
 ],
 "metadata": {
  "jupytext": {
   "default_lexer": "ipython3"
  },
  "kernelspec": {
   "display_name": "Python 3",
   "language": "python",
   "name": "python3"
  }
 },
 "nbformat": 4,
 "nbformat_minor": 5
}
