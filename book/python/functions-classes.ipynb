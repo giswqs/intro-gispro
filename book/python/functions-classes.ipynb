{
 "cells": [
  {
   "cell_type": "markdown",
   "id": "0",
   "metadata": {},
   "source": [
    "# Functions and Classes\n",
    "\n",
    "## Introduction\n",
    "\n",
    "## Learning Objectives\n",
    "\n",
    "## Functions: Building Reusable Code Blocks\n",
    "\n",
    "### Defining a Simple Function"
   ]
  },
  {
   "cell_type": "code",
   "execution_count": null,
   "id": "1",
   "metadata": {},
   "outputs": [],
   "source": [
    "def add(a, b):\n",
    "    return a + b\n",
    "\n",
    "\n",
    "# Example usage\n",
    "result = add(5, 3)\n",
    "print(f\"Result: {result}\")"
   ]
  },
  {
   "cell_type": "markdown",
   "id": "2",
   "metadata": {},
   "source": [
    "### Parameters with Default Values"
   ]
  },
  {
   "cell_type": "code",
   "execution_count": null,
   "id": "3",
   "metadata": {},
   "outputs": [],
   "source": [
    "def greet(name, greeting=\"Hello\"):\n",
    "    return f\"{greeting}, {name}!\"\n",
    "\n",
    "\n",
    "# Example usage\n",
    "print(greet(\"Alice\"))  # Uses the default greeting\n",
    "print(greet(\"Bob\", \"Hi\"))  # Overrides the default greeting"
   ]
  },
  {
   "cell_type": "markdown",
   "id": "4",
   "metadata": {},
   "source": [
    "### Understanding Function Calls"
   ]
  },
  {
   "cell_type": "code",
   "execution_count": null,
   "id": "5",
   "metadata": {},
   "outputs": [],
   "source": [
    "# Function to multiply two numbers\n",
    "def multiply(a, b):\n",
    "    return a * b\n",
    "\n",
    "\n",
    "# Calling the function\n",
    "result = multiply(4, 5)\n",
    "print(f\"Multiplication Result: {result}\")"
   ]
  },
  {
   "cell_type": "markdown",
   "id": "6",
   "metadata": {},
   "source": [
    "### Geospatial Example: Haversine Function"
   ]
  },
  {
   "cell_type": "code",
   "execution_count": null,
   "id": "7",
   "metadata": {},
   "outputs": [],
   "source": [
    "from math import radians, sin, cos, sqrt, atan2"
   ]
  },
  {
   "cell_type": "code",
   "execution_count": null,
   "id": "8",
   "metadata": {},
   "outputs": [],
   "source": [
    "def haversine(lat1, lon1, lat2, lon2):\n",
    "    R = 6371.0  # Earth radius in kilometers\n",
    "    dlat = radians(lat2 - lat1)\n",
    "    dlon = radians(lon2 - lon1)\n",
    "    a = (\n",
    "        sin(dlat / 2) ** 2\n",
    "        + cos(radians(lat1)) * cos(radians(lat2)) * sin(dlon / 2) ** 2\n",
    "    )\n",
    "    c = 2 * atan2(sqrt(a), sqrt(1 - a))\n",
    "    distance = R * c\n",
    "    return distance\n",
    "\n",
    "\n",
    "# Example usage\n",
    "distance = haversine(35.6895, 139.6917, 34.0522, -118.2437)\n",
    "print(f\"Distance: {distance:.2f} km\")"
   ]
  },
  {
   "cell_type": "markdown",
   "id": "9",
   "metadata": {},
   "source": [
    "### Function with Default Values and Geospatial Application"
   ]
  },
  {
   "cell_type": "code",
   "execution_count": null,
   "id": "10",
   "metadata": {},
   "outputs": [],
   "source": [
    "def haversine(lat1, lon1, lat2, lon2, radius=6371.0):\n",
    "    dlat = radians(lat2 - lat1)\n",
    "    dlon = radians(lon2 - lon1)\n",
    "    a = (\n",
    "        sin(dlat / 2) ** 2\n",
    "        + cos(radians(lat1)) * cos(radians(lat2)) * sin(dlon / 2) ** 2\n",
    "    )\n",
    "    c = 2 * atan2(sqrt(a), sqrt(1 - a))\n",
    "    distance = radius * c\n",
    "    return distance\n",
    "\n",
    "\n",
    "# Example usage in kilometers\n",
    "distance_km = haversine(35.6895, 139.6917, 34.0522, -118.2437)\n",
    "print(f\"Distance in kilometers: {distance_km:.2f} km\")\n",
    "\n",
    "# Example usage in miles (radius of Earth is approximately 3958.8 miles)\n",
    "distance_miles = haversine(35.6895, 139.6917, 34.0522, -118.2437, radius=3958.8)\n",
    "print(f\"Distance in miles: {distance_miles:.2f} miles\")"
   ]
  },
  {
   "cell_type": "markdown",
   "id": "11",
   "metadata": {},
   "source": [
    "### Processing Multiple Coordinates"
   ]
  },
  {
   "cell_type": "code",
   "execution_count": null,
   "id": "12",
   "metadata": {},
   "outputs": [],
   "source": [
    "def batch_haversine(coord_list):\n",
    "    distances = []\n",
    "    for i in range(len(coord_list) - 1):\n",
    "        lat1, lon1 = coord_list[i]\n",
    "        lat2, lon2 = coord_list[i + 1]\n",
    "        distance = haversine(lat1, lon1, lat2, lon2)\n",
    "        distances.append(distance)\n",
    "    return distances\n",
    "\n",
    "\n",
    "# Example usage\n",
    "coordinates = [(35.6895, 139.6917), (34.0522, -118.2437), (40.7128, -74.0060)]\n",
    "distances = batch_haversine(coordinates)\n",
    "print(f\"Distances: {distances}\")"
   ]
  },
  {
   "cell_type": "markdown",
   "id": "13",
   "metadata": {},
   "source": [
    "### Advanced Parameter Handling\n",
    "\n",
    "#### Variable Arguments with \\*args"
   ]
  },
  {
   "cell_type": "code",
   "execution_count": null,
   "id": "14",
   "metadata": {},
   "outputs": [],
   "source": [
    "def average(*numbers):\n",
    "    return sum(numbers) / len(numbers)\n",
    "\n",
    "\n",
    "# Example usage\n",
    "print(average(10, 20, 30))  # 20.0\n",
    "print(average(5, 15, 25, 35))  # 20.0"
   ]
  },
  {
   "cell_type": "markdown",
   "id": "15",
   "metadata": {},
   "source": [
    "#### Keyword Arguments with \\*\\*kwargs"
   ]
  },
  {
   "cell_type": "code",
   "execution_count": null,
   "id": "16",
   "metadata": {},
   "outputs": [],
   "source": [
    "def describe_point(latitude, longitude, **kwargs):\n",
    "    description = f\"Point at ({latitude}, {longitude})\"\n",
    "\n",
    "    # Add optional keyword arguments to the description\n",
    "    for key, value in kwargs.items():\n",
    "        description += f\", {key}: {value}\"\n",
    "\n",
    "    return description\n",
    "\n",
    "\n",
    "# Example usage\n",
    "print(describe_point(35.6895, 139.6917, name=\"Tokyo\", population=37400000))\n",
    "print(describe_point(34.0522, -118.2437, name=\"Los Angeles\", state=\"California\"))"
   ]
  },
  {
   "cell_type": "markdown",
   "id": "17",
   "metadata": {},
   "source": [
    "## Classes: Organizing Data and Behavior Together\n",
    "\n",
    "### Defining a Simple Class"
   ]
  },
  {
   "cell_type": "code",
   "execution_count": null,
   "id": "18",
   "metadata": {},
   "outputs": [],
   "source": [
    "class Point:\n",
    "    def __init__(self, latitude, longitude, name=None):\n",
    "        self.latitude = latitude\n",
    "        self.longitude = longitude\n",
    "        self.name = name\n",
    "\n",
    "    def __str__(self):\n",
    "        return f\"{self.name or 'Point'} ({self.latitude}, {self.longitude})\"\n",
    "\n",
    "\n",
    "# Example usage\n",
    "point1 = Point(35.6895, 139.6917, \"Tokyo\")\n",
    "print(point1)"
   ]
  },
  {
   "cell_type": "markdown",
   "id": "19",
   "metadata": {},
   "source": [
    "### Adding Methods to a Class"
   ]
  },
  {
   "cell_type": "code",
   "execution_count": null,
   "id": "20",
   "metadata": {},
   "outputs": [],
   "source": [
    "class Point:\n",
    "    def __init__(self, latitude, longitude, name=None):\n",
    "        self.latitude = latitude\n",
    "        self.longitude = longitude\n",
    "        self.name = name\n",
    "\n",
    "    def distance_to(self, other_point):\n",
    "        return haversine(\n",
    "            self.latitude, self.longitude, other_point.latitude, other_point.longitude\n",
    "        )\n",
    "\n",
    "\n",
    "# Example usage\n",
    "point1 = Point(35.6895, 139.6917, \"Tokyo\")\n",
    "point2 = Point(34.0522, -118.2437, \"Los Angeles\")\n",
    "print(\n",
    "    f\"Distance from {point1.name} to {point2.name}: {point1.distance_to(point2):.2f} km\"\n",
    ")"
   ]
  },
  {
   "cell_type": "markdown",
   "id": "21",
   "metadata": {},
   "source": [
    "### Constructor with Default Values"
   ]
  },
  {
   "cell_type": "code",
   "execution_count": null,
   "id": "22",
   "metadata": {},
   "outputs": [],
   "source": [
    "class Point:\n",
    "    def __init__(self, latitude, longitude, name=\"Unnamed\"):\n",
    "        self.latitude = latitude\n",
    "        self.longitude = longitude\n",
    "        self.name = name"
   ]
  },
  {
   "cell_type": "markdown",
   "id": "23",
   "metadata": {},
   "source": [
    "## Combining Functions and Classes"
   ]
  },
  {
   "cell_type": "code",
   "execution_count": null,
   "id": "24",
   "metadata": {},
   "outputs": [],
   "source": [
    "class Route:\n",
    "    def __init__(self, points):\n",
    "        self.points = points\n",
    "\n",
    "    def total_distance(self):\n",
    "        total_dist = 0\n",
    "        for i in range(len(self.points) - 1):\n",
    "            total_dist += self.points[i].distance_to(self.points[i + 1])\n",
    "        return total_dist\n",
    "\n",
    "\n",
    "# Example usage\n",
    "route = Route([point1, point2])\n",
    "print(f\"Total distance: {route.total_distance():.2f} km\")"
   ]
  },
  {
   "cell_type": "markdown",
   "id": "25",
   "metadata": {},
   "source": [
    "## Function and Class Design Guidelines\n",
    "\n",
    "## Key Takeaways\n",
    "\n",
    "## Exercises\n",
    "\n",
    "### Exercise 1: Calculating Distances with Functions"
   ]
  },
  {
   "cell_type": "code",
   "execution_count": null,
   "id": "26",
   "metadata": {},
   "outputs": [],
   "source": []
  },
  {
   "cell_type": "markdown",
   "id": "27",
   "metadata": {},
   "source": [
    "### Exercise 2: Batch Distance Calculation"
   ]
  },
  {
   "cell_type": "code",
   "execution_count": null,
   "id": "28",
   "metadata": {},
   "outputs": [],
   "source": []
  },
  {
   "cell_type": "markdown",
   "id": "29",
   "metadata": {},
   "source": [
    "### Exercise 3: Creating and Using a Point Class"
   ]
  },
  {
   "cell_type": "code",
   "execution_count": null,
   "id": "30",
   "metadata": {},
   "outputs": [],
   "source": []
  }
 ],
 "metadata": {
  "jupytext": {
   "default_lexer": "ipython3"
  },
  "kernelspec": {
   "display_name": "Python 3",
   "language": "python",
   "name": "python3"
  }
 },
 "nbformat": 4,
 "nbformat_minor": 5
}
