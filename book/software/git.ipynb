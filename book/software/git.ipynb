{
 "cells": [
  {
   "cell_type": "markdown",
   "id": "0",
   "metadata": {},
   "source": [
    "# Version Control with Git\n",
    "\n",
    "## Introduction\n",
    "\n",
    "### What is Git?\n",
    "\n",
    "### What is GitHub?\n",
    "\n",
    "## Learning Objectives\n",
    "\n",
    "## Setting Up GitHub Account\n",
    "\n",
    "### Creating Your GitHub Account\n",
    "\n",
    "## Installing Git\n",
    "\n",
    "### Installation Instructions\n",
    "\n",
    "### Verifying Installation"
   ]
  },
  {
   "cell_type": "code",
   "execution_count": null,
   "id": "1",
   "metadata": {},
   "outputs": [],
   "source": [
    "# Check Git version\n",
    "git --version\n",
    "\n",
    "# Check installation location\n",
    "which git  # macOS/Linux\n",
    "where git  # Windows"
   ]
  },
  {
   "cell_type": "markdown",
   "id": "2",
   "metadata": {},
   "source": [
    "## Configuring Git\n",
    "\n",
    "### Essential Configuration"
   ]
  },
  {
   "cell_type": "code",
   "execution_count": null,
   "id": "3",
   "metadata": {},
   "outputs": [],
   "source": [
    "# Replace with your actual name and GitHub email\n",
    "git config --global user.name \"Your Full Name\"\n",
    "git config --global user.email \"your.github@email.com\""
   ]
  },
  {
   "cell_type": "markdown",
   "id": "4",
   "metadata": {},
   "source": [
    "### Verification"
   ]
  },
  {
   "cell_type": "code",
   "execution_count": null,
   "id": "5",
   "metadata": {},
   "outputs": [],
   "source": [
    "# View all global configuration\n",
    "git config --global --list\n",
    "\n",
    "# Check specific values\n",
    "git config --global user.name\n",
    "git config --global user.email"
   ]
  },
  {
   "cell_type": "markdown",
   "id": "6",
   "metadata": {},
   "source": [
    "## Understanding Git Concepts\n",
    "\n",
    "### Core Git Concepts\n",
    "\n",
    "### The Git Workflow\n",
    "\n",
    "## Essential Git Commands\n",
    "\n",
    "### Starting a New Project"
   ]
  },
  {
   "cell_type": "code",
   "execution_count": null,
   "id": "7",
   "metadata": {},
   "outputs": [],
   "source": [
    "# Navigate to your project folder\n",
    "cd ~/my-geo-project\n",
    "\n",
    "# Initialize Git repository\n",
    "git init\n",
    "\n",
    "# Check repository status\n",
    "git status"
   ]
  },
  {
   "cell_type": "code",
   "execution_count": null,
   "id": "8",
   "metadata": {},
   "outputs": [],
   "source": [
    "# Clone a repository from GitHub\n",
    "git clone https://github.com/<your-username>/intro-gispro.git"
   ]
  },
  {
   "cell_type": "markdown",
   "id": "9",
   "metadata": {},
   "source": [
    "### Tracking Changes"
   ]
  },
  {
   "cell_type": "code",
   "execution_count": null,
   "id": "10",
   "metadata": {},
   "outputs": [],
   "source": [
    "# Add specific files\n",
    "git add analysis.py"
   ]
  },
  {
   "cell_type": "code",
   "execution_count": null,
   "id": "11",
   "metadata": {},
   "outputs": [],
   "source": [
    "# Add all files in current directory\n",
    "git add ."
   ]
  },
  {
   "cell_type": "code",
   "execution_count": null,
   "id": "12",
   "metadata": {},
   "outputs": [],
   "source": [
    "# See status of all files\n",
    "git status\n",
    "\n",
    "# See detailed changes\n",
    "git diff"
   ]
  },
  {
   "cell_type": "code",
   "execution_count": null,
   "id": "13",
   "metadata": {},
   "outputs": [],
   "source": [
    "# Commit with inline message\n",
    "git commit -m \"Add rainfall analysis function\"\n",
    "\n",
    "# Commit all tracked files (skip staging)\n",
    "git commit -am \"Update visualization parameters\""
   ]
  },
  {
   "cell_type": "markdown",
   "id": "14",
   "metadata": {},
   "source": [
    "### Writing Good Commit Messages"
   ]
  },
  {
   "cell_type": "code",
   "execution_count": null,
   "id": "15",
   "metadata": {},
   "outputs": [],
   "source": [
    "git commit -m \"Add NDVI calculation for Landsat 8 imagery\"\n",
    "git commit -m \"Fix coordinate transformation bug in UTM conversion\"\n",
    "git commit -m \"Update flood mapping algorithm to handle edge cases\""
   ]
  },
  {
   "cell_type": "markdown",
   "id": "16",
   "metadata": {},
   "source": [
    "### Working with GitHub"
   ]
  },
  {
   "cell_type": "code",
   "execution_count": null,
   "id": "17",
   "metadata": {},
   "outputs": [],
   "source": [
    "# Add remote repository\n",
    "git remote add origin https://github.com/<your-username>/<repo-name>.git"
   ]
  },
  {
   "cell_type": "code",
   "execution_count": null,
   "id": "18",
   "metadata": {},
   "outputs": [],
   "source": [
    "# Push to GitHub (first time)\n",
    "git push -u origin main\n",
    "\n",
    "# Push subsequent changes\n",
    "git push"
   ]
  },
  {
   "cell_type": "code",
   "execution_count": null,
   "id": "19",
   "metadata": {},
   "outputs": [],
   "source": [
    "# Pull changes from GitHub\n",
    "git pull"
   ]
  },
  {
   "cell_type": "markdown",
   "id": "20",
   "metadata": {},
   "source": [
    "### Basic Branching"
   ]
  },
  {
   "cell_type": "code",
   "execution_count": null,
   "id": "21",
   "metadata": {},
   "outputs": [],
   "source": [
    "# Create new branch for experimental feature\n",
    "git checkout -b satellite-analysis\n",
    "\n",
    "# List all branches\n",
    "git branch\n",
    "\n",
    "# Switch back to main branch\n",
    "git checkout main\n",
    "\n",
    "# Merge feature branch into main\n",
    "git merge satellite-analysis\n",
    "\n",
    "# Delete merged branch\n",
    "git branch -d satellite-analysis"
   ]
  },
  {
   "cell_type": "markdown",
   "id": "22",
   "metadata": {},
   "source": [
    "### Viewing Project History"
   ]
  },
  {
   "cell_type": "code",
   "execution_count": null,
   "id": "23",
   "metadata": {},
   "outputs": [],
   "source": [
    "# View commit history\n",
    "git log\n",
    "\n",
    "# Compact one-line format\n",
    "git log --oneline\n",
    "\n",
    "# View specific file history\n",
    "git log -- data_processing.py"
   ]
  },
  {
   "cell_type": "markdown",
   "id": "24",
   "metadata": {},
   "source": [
    "### Undoing Changes"
   ]
  },
  {
   "cell_type": "code",
   "execution_count": null,
   "id": "25",
   "metadata": {},
   "outputs": [],
   "source": [
    "# Undo last commit but keep changes\n",
    "git reset --soft HEAD~1"
   ]
  },
  {
   "cell_type": "markdown",
   "id": "26",
   "metadata": {},
   "source": [
    "## Using GitHub\n",
    "\n",
    "### Creating Repositories on GitHub\n",
    "\n",
    "### Basic Collaboration\n",
    "\n",
    "### Repository Management\n",
    "\n",
    "## Integration with VS Code\n",
    "\n",
    "## Best Practices for Geospatial Projects\n",
    "\n",
    "### Repository Structure\n",
    "\n",
    "### What to Track vs. Ignore\n",
    "\n",
    "### Commit Message Conventions"
   ]
  },
  {
   "cell_type": "code",
   "execution_count": null,
   "id": "27",
   "metadata": {},
   "outputs": [],
   "source": [
    "# Format: <type>: <description>\n",
    "git commit -m \"feat: add NDVI calculation for Sentinel-2\"\n",
    "git commit -m \"fix: handle NoData values in elevation processing\"\n",
    "git commit -m \"docs: update README with installation instructions\""
   ]
  },
  {
   "cell_type": "markdown",
   "id": "28",
   "metadata": {},
   "source": [
    "## Key Takeaways\n",
    "\n",
    "## Exercises\n",
    "\n",
    "### Exercise 1: Setting Up Git and GitHub\n",
    "\n",
    "### Exercise 2: Your First Repository\n",
    "\n",
    "### Exercise 3: Collaboration and Pull Requests"
   ]
  }
 ],
 "metadata": {
  "jupytext": {
   "cell_metadata_filter": "-all",
   "main_language": "bash",
   "notebook_metadata_filter": "-all"
  }
 },
 "nbformat": 4,
 "nbformat_minor": 5
}
