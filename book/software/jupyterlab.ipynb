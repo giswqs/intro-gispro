{
 "cells": [
  {
   "cell_type": "markdown",
   "id": "0",
   "metadata": {},
   "source": [
    "# Working with JupyterLab\n",
    "\n",
    "## Introduction\n",
    "\n",
    "## Learning Objectives\n",
    "\n",
    "## Installing and Setting Up JupyterLab\n",
    "\n",
    "### Using conda"
   ]
  },
  {
   "cell_type": "code",
   "execution_count": null,
   "id": "1",
   "metadata": {},
   "outputs": [],
   "source": [
    "conda create -n geo python=3.12\n",
    "conda activate geo\n",
    "conda install -c conda-forge jupyterlab leafmap"
   ]
  },
  {
   "cell_type": "markdown",
   "id": "2",
   "metadata": {},
   "source": [
    "### Using pip"
   ]
  },
  {
   "cell_type": "code",
   "execution_count": null,
   "id": "3",
   "metadata": {},
   "outputs": [],
   "source": [
    "pip install jupyterlab leafmap"
   ]
  },
  {
   "cell_type": "markdown",
   "id": "4",
   "metadata": {},
   "source": [
    "### Verifying Your Installation"
   ]
  },
  {
   "cell_type": "code",
   "execution_count": null,
   "id": "5",
   "metadata": {},
   "outputs": [],
   "source": [
    "jupyter lab --version"
   ]
  },
  {
   "cell_type": "markdown",
   "id": "6",
   "metadata": {},
   "source": [
    "## Getting Started with JupyterLab\n",
    "\n",
    "### Launching JupyterLab"
   ]
  },
  {
   "cell_type": "code",
   "execution_count": null,
   "id": "7",
   "metadata": {},
   "outputs": [],
   "source": [
    "jupyter lab"
   ]
  },
  {
   "cell_type": "code",
   "execution_count": null,
   "id": "8",
   "metadata": {},
   "outputs": [],
   "source": [
    "# Launch on a specific port (useful if the default port is busy)\n",
    "jupyter lab --port=8889\n",
    "\n",
    "# Launch without automatically opening browser (useful for remote servers)\n",
    "jupyter lab --no-browser --port=8888"
   ]
  },
  {
   "cell_type": "markdown",
   "id": "9",
   "metadata": {},
   "source": [
    "### Understanding the JupyterLab Interface\n",
    "\n",
    "### Creating Your First Notebook in JupyterLab\n",
    "\n",
    "## Essential Keyboard Shortcuts\n",
    "\n",
    "### Understanding Notebook Modes: The Foundation\n",
    "\n",
    "### The Most Important Shortcuts\n",
    "\n",
    "### Command Mode Shortcuts (Press `Esc` first)\n",
    "\n",
    "### Edit Mode Shortcuts (Press `Enter` first)\n",
    "\n",
    "## Running Code Examples on MyBinder\n",
    "\n",
    "## Key Takeaways\n",
    "\n",
    "## Exercises\n",
    "\n",
    "### Exercise 1: Setting Up Your Geospatial JupyterLab Environment\n",
    "\n",
    "   ```bash\n",
    "   conda create -n geolab python=3.12\n",
    "   conda activate geolab\n",
    "   ```\n",
    "\n",
    "   ```bash\n",
    "   conda install -c conda-forge jupyterlab geopandas matplotlib ipyleaflet\n",
    "   ```\n",
    "\n",
    "### Exercise 2: Mastering Keyboard Shortcuts and Efficient Workflow"
   ]
  }
 ],
 "metadata": {
  "jupytext": {
   "cell_metadata_filter": "-all",
   "main_language": "bash",
   "notebook_metadata_filter": "-all"
  }
 },
 "nbformat": 4,
 "nbformat_minor": 5
}
